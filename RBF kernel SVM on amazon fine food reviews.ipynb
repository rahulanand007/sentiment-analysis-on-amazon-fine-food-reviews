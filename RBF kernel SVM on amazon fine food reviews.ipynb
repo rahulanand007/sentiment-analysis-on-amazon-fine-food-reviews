{
 "cells": [
  {
   "cell_type": "markdown",
   "metadata": {
    "colab_type": "text",
    "id": "AbjV6Rp8SQHe"
   },
   "source": [
    "## 1.Loading the data"
   ]
  },
  {
   "cell_type": "code",
   "execution_count": 0,
   "metadata": {
    "colab": {},
    "colab_type": "code",
    "id": "UL7LULFA5IUe"
   },
   "outputs": [],
   "source": [
    "%matplotlib inline\n",
    "import warnings\n",
    "warnings.filterwarnings(\"ignore\")\n",
    "\n",
    "import sqlite3\n",
    "import pandas as pd\n",
    "import numpy as np\n",
    "import nltk\n",
    "import string\n",
    "import matplotlib.pyplot as plt\n",
    "import seaborn as sns\n",
    "from sklearn.feature_extraction.text import TfidfTransformer\n",
    "from sklearn.feature_extraction.text import TfidfVectorizer\n",
    "\n",
    "from sklearn.feature_extraction.text import CountVectorizer\n",
    "from sklearn.metrics import confusion_matrix\n",
    "from sklearn import metrics\n",
    "from sklearn.metrics import roc_curve, auc\n",
    "from nltk.stem.porter import PorterStemmer\n",
    "\n",
    "import re\n",
    "import string\n",
    "from nltk.corpus import stopwords\n",
    "from nltk.stem import PorterStemmer\n",
    "from nltk.stem.wordnet import WordNetLemmatizer\n",
    "\n",
    "from gensim.models import Word2Vec\n",
    "from gensim.models import KeyedVectors\n",
    "import pickle\n",
    "\n",
    "from sklearn.preprocessing import StandardScaler\n",
    "from sklearn.svm import SVC\n",
    "from tqdm import tqdm\n",
    "\n",
    "\n",
    "from sklearn.metrics import f1_score\n",
    "from sklearn.model_selection import GridSearchCV\n",
    "\n",
    "import seaborn as sns\n",
    "from sklearn.metrics import accuracy_score\n",
    "from sklearn.metrics import confusion_matrix\n",
    "from sklearn.metrics import precision_score\n",
    "from sklearn.metrics import f1_score\n",
    "from sklearn.metrics import recall_score\n",
    "\n",
    "\n",
    "from sklearn.model_selection import train_test_split\n",
    "from sklearn.metrics import accuracy_score\n",
    "from collections import Counter\n",
    "from sklearn.metrics import accuracy_score\n",
    "from sklearn.linear_model import SGDClassifier\n",
    "from sklearn.calibration import CalibratedClassifierCV\n",
    "from sklearn.metrics import roc_auc_score\n",
    "from sklearn.model_selection import GridSearchCV\n",
    "from sklearn.model_selection import RandomizedSearchCV\n",
    "from sklearn.decomposition import TruncatedSVD"
   ]
  },
  {
   "cell_type": "code",
   "execution_count": 0,
   "metadata": {
    "colab": {},
    "colab_type": "code",
    "id": "qd27xO3WWRM-"
   },
   "outputs": [],
   "source": [
    "!pip install -U -q PyDrive\n",
    "\n",
    "from pydrive.auth import GoogleAuth\n",
    "from pydrive.drive import GoogleDrive\n",
    "from google.colab import auth\n",
    "from oauth2client.client import GoogleCredentials\n",
    "\n",
    "# 1. Authenticate and create the PyDrive client.\n",
    "auth.authenticate_user()\n",
    "gauth = GoogleAuth()\n",
    "gauth.credentials = GoogleCredentials.get_application_default()\n",
    "drive = GoogleDrive(gauth)"
   ]
  },
  {
   "cell_type": "code",
   "execution_count": 0,
   "metadata": {
    "colab": {},
    "colab_type": "code",
    "id": "LyIXrEcxWRn2"
   },
   "outputs": [],
   "source": [
    "download = drive.CreateFile({'id': '1K1rpp1cP61oOjKc9CIx-0v4z2SdyOpyi'})\n",
    "download.GetContentFile('final.sqlite')"
   ]
  },
  {
   "cell_type": "code",
   "execution_count": 0,
   "metadata": {
    "colab": {},
    "colab_type": "code",
    "id": "HZmqu5TVeZPI"
   },
   "outputs": [],
   "source": [
    "con = sqlite3.connect('final.sqlite')\n",
    "final = pd.read_sql_query(\"\"\" SELECT * FROM Reviews\"\"\", con) "
   ]
  },
  {
   "cell_type": "markdown",
   "metadata": {
    "colab_type": "text",
    "id": "cncsvOfLwxAK"
   },
   "source": [
    "\n",
    "\n",
    "\n",
    "## 2 Spliting CleanedText and Score"
   ]
  },
  {
   "cell_type": "code",
   "execution_count": 0,
   "metadata": {
    "colab": {},
    "colab_type": "code",
    "id": "fj-tynWYplqR"
   },
   "outputs": [],
   "source": [
    "final=final.sort_values(by=['Time'],ascending=False)\n",
    "finalDataPoints=final.head(10000)\n",
    "\n",
    "x=finalDataPoints[\"CleanedText\"]\n",
    "y=finalDataPoints[\"Score\"]\n",
    "\n",
    "x_tr,x_test,y_tr,y_test=train_test_split(x, y, test_size=0.2,shuffle=False)"
   ]
  },
  {
   "cell_type": "code",
   "execution_count": 0,
   "metadata": {
    "colab": {
     "base_uri": "https://localhost:8080/",
     "height": 34
    },
    "colab_type": "code",
    "id": "ZmyRPAj1y9o7",
    "outputId": "7cd0188a-78be-4f2e-97c2-9ea8554dde27"
   },
   "outputs": [
    {
     "name": "stdout",
     "output_type": "stream",
     "text": [
      "(8000,) (2000,) (8000,) (2000,)\n"
     ]
    }
   ],
   "source": [
    "print(x_tr.shape,x_test.shape,y_tr.shape,y_test.shape)"
   ]
  },
  {
   "cell_type": "markdown",
   "metadata": {
    "colab_type": "text",
    "id": "tX5721JWSQIf"
   },
   "source": [
    "## 3.Bag of Words (BoW)"
   ]
  },
  {
   "cell_type": "markdown",
   "metadata": {
    "colab_type": "text",
    "id": "vnZuWK1PwxAd"
   },
   "source": [
    "## 3.1 Unigram"
   ]
  },
  {
   "cell_type": "code",
   "execution_count": 0,
   "metadata": {
    "colab": {},
    "colab_type": "code",
    "id": "9Ih-bFF1gm1v"
   },
   "outputs": [],
   "source": [
    "#BOW for unigram\n",
    "bow = CountVectorizer()\n",
    "x_tr_uni = bow.fit_transform(x_tr)\n",
    "x_test_uni= bow.transform(x_test)"
   ]
  },
  {
   "cell_type": "markdown",
   "metadata": {},
   "source": [
    "### TruncatedSVD"
   ]
  },
  {
   "cell_type": "markdown",
   "metadata": {},
   "source": [
    "### Finding the n_component by 99% variance explained"
   ]
  },
  {
   "cell_type": "code",
   "execution_count": 0,
   "metadata": {
    "colab": {
     "base_uri": "https://localhost:8080/",
     "height": 512
    },
    "colab_type": "code",
    "id": "ff9OleAYSHL2",
    "outputId": "1104d677-1148-4dd3-a86f-18f9e868d8bb"
   },
   "outputs": [
    {
     "data": {
      "image/png": "[encoded data removed]",
      "text/plain": [
       "<matplotlib.figure.Figure at 0x7fea292de5f8>"
      ]
     },
     "metadata": {
      "tags": []
     },
     "output_type": "display_data"
    }
   ],
   "source": [
    "svd = TruncatedSVD(n_components=500)\n",
    "svd_data = svd.fit_transform(x_test_uni)\n",
    "percentage_variance_explained = svd.explained_variance_ / sum(svd.explained_variance_)\n",
    "cum_var_explained = np.cumsum(percentage_variance_explained)\n",
    "\n",
    "plt.figure(figsize=(10,8))\n",
    "plt.clf()\n",
    "plt.grid()\n",
    "plt.plot(cum_var_explained, linewidth=2)\n",
    "plt.axis('tight')\n",
    "plt.title(\"Explained Variance Chart\")\n",
    "plt.xlabel(\"Number of components\")\n",
    "plt.ylabel(\"Cummulative Explained Varaince\")\n",
    "plt.show()"
   ]
  },
  {
   "cell_type": "markdown",
   "metadata": {},
   "source": [
    "## Percentage of variance explained "
   ]
  },
  {
   "cell_type": "code",
   "execution_count": 2,
   "metadata": {},
   "outputs": [
    {
     "name": "stdout",
     "output_type": "stream",
     "text": [
      "Percentage of variance explained = 98.97824818089681\n"
     ]
    }
   ],
   "source": [
    "svd = TruncatedSVD(n_components = 3000)\n",
    "svd.fit(x_test_uni)\n",
    "var_perc = sum(svd.explained_variance_ratio_)\n",
    "print(\"Percentage of variance explained = \"+str(var_perc * 100)+\"%\")"
   ]
  },
  {
   "cell_type": "code",
   "execution_count": 4,
   "metadata": {},
   "outputs": [
    {
     "name": "stdout",
     "output_type": "stream",
     "text": [
      "Percentage of variance explained = 99.99681818087824%\n"
     ]
    }
   ],
   "source": [
    "svd = TruncatedSVD(n_components = 5000)\n",
    "svd.fit(x_tr_uni)\n",
    "var_perc = sum(svd.explained_variance_ratio_)\n",
    "print(\"Percentage of variance explained = \"+str(var_perc * 100)+\"%\")"
   ]
  },
  {
   "cell_type": "code",
   "execution_count": 0,
   "metadata": {
    "colab": {},
    "colab_type": "code",
    "id": "21eYPt-0diY_"
   },
   "outputs": [],
   "source": [
    "#training the co_occurence_matrix on optimal n_components\n",
    "svd= TruncatedSVD(n_components = 3000)\n",
    "x_test_uni_svd=svd.fit_transform(x_test_uni)"
   ]
  },
  {
   "cell_type": "code",
   "execution_count": 0,
   "metadata": {
    "colab": {},
    "colab_type": "code",
    "id": "49yh1ROqemCy"
   },
   "outputs": [],
   "source": [
    "#training the co_occurence_matrix on optimal n_components\n",
    "svd= TruncatedSVD(n_components = 5000)\n",
    "x_tr_uni_svd=svd.fit_transform(x_tr_uni)"
   ]
  },
  {
   "cell_type": "markdown",
   "metadata": {},
   "source": [
    "## Finding the optimal C and Gamma"
   ]
  },
  {
   "cell_type": "code",
   "execution_count": 0,
   "metadata": {
    "colab": {
     "base_uri": "https://localhost:8080/",
     "height": 51
    },
    "colab_type": "code",
    "id": "EiRzldR2SQIg",
    "outputId": "cc20379c-9d9e-4529-e532-5fc4b3536978"
   },
   "outputs": [
    {
     "name": "stdout",
     "output_type": "stream",
     "text": [
      "Best HyperParameter:  {'C': 100, 'gamma': 0.001}\n",
      "0.8022883306100218\n"
     ]
    }
   ],
   "source": [
    "C=[1, 10, 100, 1000]\n",
    "gamma=[0.1,0.01,0.001, 0.0001]\n",
    "tuned_parameters = [{'C':C,'gamma':gamma}]\n",
    "sv = SVC(kernel='rbf')\n",
    "gsv = GridSearchCV(sv, tuned_parameters, scoring = 'f1_weighted', cv=5)\n",
    "gsv.fit(x_tr_uni_svd,y_tr)\n",
    "print(\"Best HyperParameter: \",gsv.best_params_)\n",
    "print(gsv.best_score_)"
   ]
  },
  {
   "cell_type": "markdown",
   "metadata": {},
   "source": [
    "## Find the accuracy,F1-score on test data with optimal C and gamma"
   ]
  },
  {
   "cell_type": "code",
   "execution_count": 0,
   "metadata": {
    "colab": {
     "base_uri": "https://localhost:8080/",
     "height": 436
    },
    "colab_type": "code",
    "id": "7syUbXCd0TQ3",
    "outputId": "dad37524-5365-4789-fcbd-0293710833d7"
   },
   "outputs": [
    {
     "name": "stdout",
     "output_type": "stream",
     "text": [
      "Accuracy on test set: 90.460%\n",
      "Precision on test set: 0.848\n",
      "Recall on test set: 0.814\n",
      "F1-Score on test set: 0.829\n"
     ]
    },
    {
     "data": {
      "text/plain": [
       "<matplotlib.axes._subplots.AxesSubplot at 0x7f616be96ac8>"
      ]
     },
     "execution_count": 14,
     "metadata": {
      "tags": []
     },
     "output_type": "execute_result"
    },
    {
     "data": {
      "image/png": "[encoded data removed]",
      "text/plain": [
       "<matplotlib.figure.Figure at 0x7f616bec4ef0>"
      ]
     },
     "metadata": {
      "tags": []
     },
     "output_type": "display_data"
    }
   ],
   "source": [
    "SVM=SVC(kernel='rbf',C=100,gamma=0.001)\n",
    "SVM.fit(x_tr_uni_svd,y_tr)\n",
    "y_pred =SVM.predict(x_test_uni_svd)\n",
    "print(\"Accuracy on test set: %0.3f%%\"%(accuracy_score(y_test, y_pred)*100))\n",
    "print(\"Precision on test set: %0.3f\"%(precision_score(y_test, y_pred,average='macro')))\n",
    "print(\"Recall on test set: %0.3f\"%(recall_score(y_test, y_pred,average='macro')))\n",
    "print(\"F1-Score on test set: %0.3f\"%(f1_score(y_test, y_pred,average='macro')))\n",
    "df_cm = pd.DataFrame(confusion_matrix(y_test, y_pred), range(2),range(2))\n",
    "sns.set(font_scale=1.4)#for label size\n",
    "sns.heatmap(df_cm, annot=True,annot_kws={\"size\": 16}, fmt='g')"
   ]
  },
  {
   "cell_type": "markdown",
   "metadata": {
    "colab_type": "text",
    "id": "V2NiMbmsSQIj"
   },
   "source": [
    "## 3.2 Bi-Grams\n"
   ]
  },
  {
   "cell_type": "code",
   "execution_count": 0,
   "metadata": {
    "colab": {},
    "colab_type": "code",
    "id": "rBrRvWj3wjxL"
   },
   "outputs": [],
   "source": [
    "bi_gram = CountVectorizer(ngram_range=(1,2))\n",
    "x_tr_bi = bi_gram.fit_transform(x_tr)\n",
    "x_test_bi = bi_gram.transform(x_test)"
   ]
  },
  {
   "cell_type": "markdown",
   "metadata": {},
   "source": [
    "## TruncatedSVD"
   ]
  },
  {
   "cell_type": "markdown",
   "metadata": {},
   "source": [
    "## Finding the n_component by 99% variance explained"
   ]
  },
  {
   "cell_type": "code",
   "execution_count": 0,
   "metadata": {
    "colab": {
     "base_uri": "https://localhost:8080/",
     "height": 512
    },
    "colab_type": "code",
    "id": "U4fqSL53HNKQ",
    "outputId": "9623d738-b698-415b-b950-1b201a3e575f"
   },
   "outputs": [
    {
     "data": {
      "image/png": "[encoded data removed]",
      "text/plain": [
       "<matplotlib.figure.Figure at 0x7f68c7a526d8>"
      ]
     },
     "metadata": {
      "tags": []
     },
     "output_type": "display_data"
    }
   ],
   "source": [
    "svd = TruncatedSVD(n_components=500)\n",
    "svd_data = svd.fit_transform(x_test_bi)\n",
    "percentage_variance_explained = svd.explained_variance_ / sum(svd.explained_variance_)\n",
    "cum_var_explained = np.cumsum(percentage_variance_explained)\n",
    "\n",
    "plt.figure(figsize=(10,8))\n",
    "plt.clf()\n",
    "plt.grid()\n",
    "plt.plot(cum_var_explained, linewidth=2)\n",
    "plt.axis('tight')\n",
    "plt.title(\"Explained Variance Chart\")\n",
    "plt.xlabel(\"Number of components\")\n",
    "plt.ylabel(\"Cummulative Explained Varaince\")\n",
    "plt.show()"
   ]
  },
  {
   "cell_type": "markdown",
   "metadata": {},
   "source": [
    "## Percentage of variance explained "
   ]
  },
  {
   "cell_type": "code",
   "execution_count": 0,
   "metadata": {
    "colab": {
     "base_uri": "https://localhost:8080/",
     "height": 34
    },
    "colab_type": "code",
    "id": "FDcaT1NdHNKW",
    "outputId": "77333f25-31f1-42ac-cb71-46c6e0a7d070"
   },
   "outputs": [
    {
     "name": "stdout",
     "output_type": "stream",
     "text": [
      "Percentage of variance explained = 99.99999999999999%\n"
     ]
    }
   ],
   "source": [
    "svd = TruncatedSVD(n_components = 2000)\n",
    "svd.fit(x_test_bi)\n",
    "var_perc = sum(svd.explained_variance_ratio_)\n",
    "print(\"Percentage of variance explained = \"+str(var_perc * 100)+\"%\")"
   ]
  },
  {
   "cell_type": "code",
   "execution_count": 5,
   "metadata": {},
   "outputs": [
    {
     "name": "stdout",
     "output_type": "stream",
     "text": [
      "Percentage of variance explained =99.99681818087824%\n"
     ]
    }
   ],
   "source": [
    "svd = TruncatedSVD(n_components = 3500)\n",
    "svd.fit(x_test_bi)\n",
    "var_perc = sum(svd.explained_variance_ratio_)\n",
    "print(\"Percentage of variance explained = \"+str(var_perc * 100)+\"%\")"
   ]
  },
  {
   "cell_type": "code",
   "execution_count": 0,
   "metadata": {
    "colab": {},
    "colab_type": "code",
    "id": "k0hZTWYaHNKl"
   },
   "outputs": [],
   "source": [
    "#training the co_occurence_matrix on optimal n_components\n",
    "svd= TruncatedSVD(n_components = 2000)\n",
    "x_test_bi_svd=svd.fit_transform(x_test_bi)"
   ]
  },
  {
   "cell_type": "code",
   "execution_count": 0,
   "metadata": {
    "colab": {},
    "colab_type": "code",
    "id": "9Ek7-52PHNKr"
   },
   "outputs": [],
   "source": [
    "#training the co_occurence_matrix on optimal n_components\n",
    "svd= TruncatedSVD(n_components = 3500)\n",
    "x_tr_bi_svd=svd.fit_transform(x_tr_bi)"
   ]
  },
  {
   "cell_type": "markdown",
   "metadata": {},
   "source": [
    "## Finding the optimal C and Gamma"
   ]
  },
  {
   "cell_type": "code",
   "execution_count": 0,
   "metadata": {
    "colab": {
     "base_uri": "https://localhost:8080/",
     "height": 105
    },
    "colab_type": "code",
    "id": "qtsqaM_oeA9c",
    "outputId": "80a84ca3-7c10-49d0-c65b-78c7b4fce260"
   },
   "outputs": [
    {
     "name": "stderr",
     "output_type": "stream",
     "text": [
      "/usr/local/lib/python3.6/dist-packages/sklearn/model_selection/_search.py:841: DeprecationWarning: The default of the `iid` parameter will change from True to False in version 0.22 and will be removed in 0.24. This will change numeric results when test-set sizes are unequal.\n",
      "  DeprecationWarning)\n"
     ]
    },
    {
     "name": "stdout",
     "output_type": "stream",
     "text": [
      "Best HyperParameter:  {'C': 10, 'gamma': 0.01}\n",
      "0.8114809912854031\n"
     ]
    }
   ],
   "source": [
    "C=[1, 10, 100, 1000]\n",
    "gamma=[0.1,0.01,0.001, 0.0001]\n",
    "tuned_parameters = [{'C':C,'gamma':gamma}]\n",
    "sv = SVC(kernel='rbf')\n",
    "gsv = GridSearchCV(sv, tuned_parameters, scoring = 'f1_weighted', cv=5)\n",
    "gsv.fit(x_tr_bi_svd,y_tr)\n",
    "print(\"Best HyperParameter: \",gsv.best_params_)\n",
    "print(gsv.best_score_)"
   ]
  },
  {
   "cell_type": "markdown",
   "metadata": {},
   "source": [
    "## Find the accuracy,F1-score on test data with optimal C and gamma"
   ]
  },
  {
   "cell_type": "code",
   "execution_count": 0,
   "metadata": {
    "colab": {
     "base_uri": "https://localhost:8080/",
     "height": 436
    },
    "colab_type": "code",
    "id": "pAKJa2EQ0TQy",
    "outputId": "c3f1b9e6-435a-44cc-f406-3ac18f798444"
   },
   "outputs": [
    {
     "name": "stdout",
     "output_type": "stream",
     "text": [
      "Accuracy on test set: 90.680%\n",
      "Precision on test set: 0.875\n",
      "Recall on test set: 0.786\n",
      "F1-Score on test set: 0.821\n"
     ]
    },
    {
     "data": {
      "text/plain": [
       "<matplotlib.axes._subplots.AxesSubplot at 0x7f82cb41d160>"
      ]
     },
     "execution_count": 10,
     "metadata": {
      "tags": []
     },
     "output_type": "execute_result"
    },
    {
     "data": {
      "image/png": "[encoded data removed]",
      "text/plain": [
       "<matplotlib.figure.Figure at 0x7f82b65b5eb8>"
      ]
     },
     "metadata": {
      "tags": []
     },
     "output_type": "display_data"
    }
   ],
   "source": [
    "SVM=SVC(kernel='rbf',C=10,gamma=0.01)\n",
    "SVM.fit(x_tr_bi_svd,y_tr)\n",
    "y_pred =SVM.predict(x_test_bi_svd)\n",
    "print(\"Accuracy on test set: %0.3f%%\"%(accuracy_score(y_test, y_pred)*100))\n",
    "print(\"Precision on test set: %0.3f\"%(precision_score(y_test, y_pred,average='macro')))\n",
    "print(\"Recall on test set: %0.3f\"%(recall_score(y_test, y_pred,average='macro')))\n",
    "print(\"F1-Score on test set: %0.3f\"%(f1_score(y_test, y_pred,average='macro')))\n",
    "df_cm = pd.DataFrame(confusion_matrix(y_test, y_pred), range(2),range(2))\n",
    "sns.set(font_scale=1.4)#for label size\n",
    "sns.heatmap(df_cm, annot=True,annot_kws={\"size\": 16}, fmt='g')"
   ]
  },
  {
   "cell_type": "markdown",
   "metadata": {
    "colab_type": "text",
    "id": "lA_k9lflSQIo"
   },
   "source": [
    "## 4 TF-IDF"
   ]
  },
  {
   "cell_type": "code",
   "execution_count": 0,
   "metadata": {
    "colab": {},
    "colab_type": "code",
    "id": "KA0Hok9jxIST"
   },
   "outputs": [],
   "source": [
    "tf_idf_vect = TfidfVectorizer(ngram_range=(1,2))\n",
    "x_tr_tfidf = tf_idf_vect.fit_transform(x_tr)\n",
    "x_test_tfidf = tf_idf_vect.transform(x_test)"
   ]
  },
  {
   "cell_type": "markdown",
   "metadata": {},
   "source": [
    "## TruncatedSVD"
   ]
  },
  {
   "cell_type": "markdown",
   "metadata": {},
   "source": [
    "## Finding the n_component by 99% variance explained"
   ]
  },
  {
   "cell_type": "code",
   "execution_count": 0,
   "metadata": {
    "colab": {
     "base_uri": "https://localhost:8080/",
     "height": 512
    },
    "colab_type": "code",
    "id": "qiFNAjQWHPif",
    "outputId": "1104d677-1148-4dd3-a86f-18f9e868d8bb"
   },
   "outputs": [
    {
     "data": {
      "image/png": "[encoded data removed]",
      "text/plain": [
       "<matplotlib.figure.Figure at 0x7fea292de5f8>"
      ]
     },
     "metadata": {
      "tags": []
     },
     "output_type": "display_data"
    }
   ],
   "source": [
    "svd = TruncatedSVD(n_components=500)\n",
    "svd_data = svd.fit_transform(x_tr_tfidf)\n",
    "percentage_variance_explained = svd.explained_variance_ / sum(svd.explained_variance_)\n",
    "cum_var_explained = np.cumsum(percentage_variance_explained)\n",
    "\n",
    "plt.figure(figsize=(10,8))\n",
    "plt.clf()\n",
    "plt.grid()\n",
    "plt.plot(cum_var_explained, linewidth=2)\n",
    "plt.axis('tight')\n",
    "plt.title(\"Explained Variance Chart\")\n",
    "plt.xlabel(\"Number of components\")\n",
    "plt.ylabel(\"Cummulative Explained Varaince\")\n",
    "plt.show()"
   ]
  },
  {
   "cell_type": "markdown",
   "metadata": {},
   "source": [
    "## Percentage of variance explained "
   ]
  },
  {
   "cell_type": "code",
   "execution_count": 7,
   "metadata": {},
   "outputs": [
    {
     "name": "stdout",
     "output_type": "stream",
     "text": [
      "Percentage of variance explained = 98.97824818089681\n"
     ]
    }
   ],
   "source": [
    "svd = TruncatedSVD(n_components = 3000)\n",
    "svd.fit(x_tr_tfidf)\n",
    "var_perc = sum(svd.explained_variance_ratio_)\n",
    "print(\"Percentage of variance explained = \"+str(var_perc * 100)+\"%\")"
   ]
  },
  {
   "cell_type": "code",
   "execution_count": 6,
   "metadata": {},
   "outputs": [
    {
     "name": "stdout",
     "output_type": "stream",
     "text": [
      "Percentage of variance explained = 98.995280672896816%\n"
     ]
    }
   ],
   "source": [
    "svd = TruncatedSVD(n_components = 5000)\n",
    "svd.fit(x_tr_tfidf)\n",
    "var_perc = sum(svd.explained_variance_ratio_)\n",
    "print(\"Percentage of variance explained = \"+str(var_perc * 100)+\"%\")"
   ]
  },
  {
   "cell_type": "code",
   "execution_count": 0,
   "metadata": {
    "colab": {},
    "colab_type": "code",
    "id": "Z87AkxKUHPi0"
   },
   "outputs": [],
   "source": [
    "#training the co_occurence_matrix on optimal n_components\n",
    "svd= TruncatedSVD(n_components = 3000)\n",
    "x_test_tfidf_svd=svd.fit_transform(x_test_tfidf)"
   ]
  },
  {
   "cell_type": "code",
   "execution_count": 0,
   "metadata": {
    "colab": {},
    "colab_type": "code",
    "id": "MV0rFo0GHPi5"
   },
   "outputs": [],
   "source": [
    "#training the co_occurence_matrix on optimal n_components\n",
    "svd= TruncatedSVD(n_components = 5000)\n",
    "x_tr_tfidf_svd=svd.fit_transform(x_tr_tfidf)"
   ]
  },
  {
   "cell_type": "markdown",
   "metadata": {},
   "source": [
    "## Finding the optimal C and Gamma"
   ]
  },
  {
   "cell_type": "code",
   "execution_count": 0,
   "metadata": {
    "colab": {
     "base_uri": "https://localhost:8080/",
     "height": 51
    },
    "colab_type": "code",
    "id": "n3BxMT2Qe1xO",
    "outputId": "019c9dec-fa22-43f5-eefe-ec4ca39f0546"
   },
   "outputs": [
    {
     "name": "stdout",
     "output_type": "stream",
     "text": [
      "Best HyperParameter:  {'C': 100, 'gamma': 0.01}\n",
      "0.8234369008714597\n"
     ]
    }
   ],
   "source": [
    "C=[1, 10, 100, 1000]\n",
    "gamma=[0.1,0.01,0.001, 0.0001]\n",
    "tuned_parameters = [{'C':C,'gamma':gamma}]\n",
    "sv = SVC(kernel='rbf')\n",
    "gsv = GridSearchCV(sv, tuned_parameters, scoring = 'f1_weighted', cv=5)\n",
    "gsv.fit(x_tr_tfidf_svd,y_tr)\n",
    "print(\"Best HyperParameter: \",gsv.best_params_)\n",
    "print(gsv.best_score_)"
   ]
  },
  {
   "cell_type": "markdown",
   "metadata": {},
   "source": [
    "## Find the accuracy,F1-score on test data with optimal C and gamma"
   ]
  },
  {
   "cell_type": "code",
   "execution_count": 0,
   "metadata": {
    "colab": {
     "base_uri": "https://localhost:8080/",
     "height": 436
    },
    "colab_type": "code",
    "id": "9zZ4dm1kgScb",
    "outputId": "7e019731-ab99-4418-dd10-996020236865"
   },
   "outputs": [
    {
     "name": "stdout",
     "output_type": "stream",
     "text": [
      "Accuracy on test set: 92.090%\n",
      "Precision on test set: 0.885\n",
      "Recall on test set: 0.833\n",
      "F1-Score on test set: 0.856\n"
     ]
    },
    {
     "data": {
      "text/plain": [
       "<matplotlib.axes._subplots.AxesSubplot at 0x7f82c0c49a58>"
      ]
     },
     "execution_count": 14,
     "metadata": {
      "tags": []
     },
     "output_type": "execute_result"
    },
    {
     "data": {
      "image/png": "[encoded data removed]",
      "text/plain": [
       "<matplotlib.figure.Figure at 0x7f82cc5bc6a0>"
      ]
     },
     "metadata": {
      "tags": []
     },
     "output_type": "display_data"
    }
   ],
   "source": [
    "SVM=SVC(kernel='rbf',C=100,gamma=0.01)\n",
    "SVM.fit(x_tr_tfidf_svd,y_tr)\n",
    "y_pred =SVM.predict(x_test_tfidf_svd)\n",
    "print(\"Accuracy on test set: %0.3f%%\"%(accuracy_score(y_test, y_pred)*100))\n",
    "print(\"Precision on test set: %0.3f\"%(precision_score(y_test, y_pred,average='macro')))\n",
    "print(\"Recall on test set: %0.3f\"%(recall_score(y_test, y_pred,average='macro')))\n",
    "print(\"F1-Score on test set: %0.3f\"%(f1_score(y_test, y_pred,average='macro')))\n",
    "df_cm = pd.DataFrame(confusion_matrix(y_test, y_pred), range(2),range(2))\n",
    "sns.set(font_scale=1.4)#for label size\n",
    "sns.heatmap(df_cm, annot=True,annot_kws={\"size\": 16}, fmt='g')"
   ]
  },
  {
   "cell_type": "markdown",
   "metadata": {
    "colab_type": "text",
    "id": "EL0FN_FWSQIt"
   },
   "source": [
    "## 5 Word2Vec"
   ]
  },
  {
   "cell_type": "code",
   "execution_count": 0,
   "metadata": {
    "colab": {},
    "colab_type": "code",
    "id": "R6OZBLqQSQIx"
   },
   "outputs": [],
   "source": [
    "i=0\n",
    "list_of_sent=[]\n",
    "for sent in x_tr:\n",
    "    list_of_sent.append(sent.split())\n",
    "\n",
    "i=0\n",
    "list_of_sent_test=[]\n",
    "for sent in x_test:\n",
    "    list_of_sent_test.append(sent.split()) "
   ]
  },
  {
   "cell_type": "code",
   "execution_count": 0,
   "metadata": {
    "colab": {},
    "colab_type": "code",
    "id": "KIH5LmpnLUfr"
   },
   "outputs": [],
   "source": [
    "w2v_model=Word2Vec(list_of_sent,min_count=5,size=50, workers=4)"
   ]
  },
  {
   "cell_type": "code",
   "execution_count": 0,
   "metadata": {
    "colab": {
     "base_uri": "https://localhost:8080/",
     "height": 71
    },
    "colab_type": "code",
    "id": "w38ekNLKQc6v",
    "outputId": "6c0eb3a7-b98c-49b4-ffda-82ad2ef02e48"
   },
   "outputs": [
    {
     "name": "stdout",
     "output_type": "stream",
     "text": [
      "number of words that occured minimum 5 times  8235\n",
      "sample words  ['big', 'lover', 'fig', 'jam', 'uniqu', 'flavor', 'kind', 'mix', 'light', 'dark', 'mission', 'must', 'tri', 'tasti', 'fresh', 'one', 'bought', 'old', 'tast', 'moldi', 'good', 'like', 'blend', 'use', 'nice', 'nighttim', 'tea', 'almond', 'milk', 'honey', 'notic', 'peopl', 'loss', 'postum', 'want', 'let', 'know', 'return', 'new', 'compani', 'got', 'trademark', 'say', 'read', 'dot', 'com', 'order', 'expect', 'box', 'full']\n"
     ]
    }
   ],
   "source": [
    "w2v_words = list(w2v_model.wv.vocab)\n",
    "print(\"number of words that occured minimum 5 times \",len(w2v_words))\n",
    "print(\"sample words \", w2v_words[0:50])"
   ]
  },
  {
   "cell_type": "markdown",
   "metadata": {
    "colab_type": "text",
    "id": "lv-Z2dFqSQJa"
   },
   "source": [
    "## 6.Avg W2V"
   ]
  },
  {
   "cell_type": "code",
   "execution_count": 0,
   "metadata": {
    "colab": {
     "base_uri": "https://localhost:8080/",
     "height": 51
    },
    "colab_type": "code",
    "id": "8Mx0A6gISQJb",
    "outputId": "0fe18a4d-127a-4601-b6d0-75633be7376d"
   },
   "outputs": [
    {
     "name": "stdout",
     "output_type": "stream",
     "text": [
      "40000\n",
      "50\n"
     ]
    }
   ],
   "source": [
    "# average Word2Vec\n",
    "# compute average word2vec for each review.\n",
    "sent_vectors = []; # the avg-w2v for each sentence/review is stored in this list\n",
    "for sent in list_of_sent: # for each review/sentence\n",
    "    sent_vec = np.zeros(50) # as word vectors are of zero length\n",
    "    cnt_words =0; # num of words with a valid vector in the sentence/review\n",
    "    for word in sent: # for each word in a review/sentence\n",
    "        if word in w2v_words:\n",
    "            vec = w2v_model.wv[word]\n",
    "            sent_vec += vec\n",
    "            cnt_words += 1\n",
    "    if cnt_words != 0:\n",
    "        sent_vec /= cnt_words\n",
    "    sent_vectors.append(sent_vec)\n",
    "print(len(sent_vectors))\n",
    "print(len(sent_vectors[0]))"
   ]
  },
  {
   "cell_type": "code",
   "execution_count": 0,
   "metadata": {
    "colab": {
     "base_uri": "https://localhost:8080/",
     "height": 51
    },
    "colab_type": "code",
    "id": "wiYnx_kUPzU-",
    "outputId": "9903f074-8b3c-4560-e859-691b2aca7d20"
   },
   "outputs": [
    {
     "name": "stdout",
     "output_type": "stream",
     "text": [
      "10000\n",
      "50\n"
     ]
    }
   ],
   "source": [
    "# average Word2Vec\n",
    "# compute average word2vec for each review.\n",
    "sent_vectors_test = []; # the avg-w2v for each sentence/review is stored in this list\n",
    "for sent in list_of_sent_test: # for each review/sentence\n",
    "    sent_vec = np.zeros(50) # as word vectors are of zero length\n",
    "    cnt_words =0; # num of words with a valid vector in the sentence/review\n",
    "    for word in sent: # for each word in a review/sentence\n",
    "        if word in w2v_words:\n",
    "            vec = w2v_model.wv[word]\n",
    "            sent_vec += vec\n",
    "            cnt_words += 1\n",
    "    if cnt_words != 0:\n",
    "        sent_vec /= cnt_words\n",
    "    sent_vectors_test.append(sent_vec)\n",
    "print(len(sent_vectors_test))\n",
    "print(len(sent_vectors_test[0]))"
   ]
  },
  {
   "cell_type": "code",
   "execution_count": 0,
   "metadata": {
    "colab": {},
    "colab_type": "code",
    "id": "OtEzMUq8xQYx"
   },
   "outputs": [],
   "source": [
    "x_test_av1=sent_vectors_test\n",
    "x_tr_av1=sent_vectors"
   ]
  },
  {
   "cell_type": "markdown",
   "metadata": {},
   "source": [
    "## TruncatedSVD"
   ]
  },
  {
   "cell_type": "markdown",
   "metadata": {},
   "source": [
    "## Finding the n_component by 99% variance explained"
   ]
  },
  {
   "cell_type": "code",
   "execution_count": 0,
   "metadata": {
    "colab": {
     "base_uri": "https://localhost:8080/",
     "height": 512
    },
    "colab_type": "code",
    "id": "yBeqhfDJHWCd",
    "outputId": "1104d677-1148-4dd3-a86f-18f9e868d8bb"
   },
   "outputs": [
    {
     "data": {
      "image/png": "[encoded data removed]",
      "text/plain": [
       "<matplotlib.figure.Figure at 0x7fea292de5f8>"
      ]
     },
     "metadata": {
      "tags": []
     },
     "output_type": "display_data"
    }
   ],
   "source": [
    "svd = TruncatedSVD(n_components=500)\n",
    "svd_data = svd.fit_transform(x_tr_av1)\n",
    "percentage_variance_explained = svd.explained_variance_ / sum(svd.explained_variance_)\n",
    "cum_var_explained = np.cumsum(percentage_variance_explained)\n",
    "\n",
    "plt.figure(figsize=(10,8))\n",
    "plt.clf()\n",
    "plt.grid()\n",
    "plt.plot(cum_var_explained, linewidth=2)\n",
    "plt.axis('tight')\n",
    "plt.title(\"Explained Variance Chart\")\n",
    "plt.xlabel(\"Number of components\")\n",
    "plt.ylabel(\"Cummulative Explained Varaince\")\n",
    "plt.show()"
   ]
  },
  {
   "cell_type": "markdown",
   "metadata": {},
   "source": [
    "## Percentage of variance explained "
   ]
  },
  {
   "cell_type": "code",
   "execution_count": 0,
   "metadata": {
    "colab": {
     "base_uri": "https://localhost:8080/",
     "height": 34
    },
    "colab_type": "code",
    "id": "J_0ZVfm4HWCj",
    "outputId": "52504231-0b63-4531-85be-bac604fa4eb5"
   },
   "outputs": [
    {
     "name": "stdout",
     "output_type": "stream",
     "text": [
      "Percentage of variance explained = 95.97824818089681%\n"
     ]
    }
   ],
   "source": [
    "svd = TruncatedSVD(n_components = 2000)\n",
    "svd.fit(x_test_av1)\n",
    "var_perc = sum(svd.explained_variance_ratio_)\n",
    "print(\"Percentage of variance explained = \"+str(var_perc * 100)+\"%\")"
   ]
  },
  {
   "cell_type": "code",
   "execution_count": 0,
   "metadata": {
    "colab": {
     "base_uri": "https://localhost:8080/",
     "height": 34
    },
    "colab_type": "code",
    "id": "SBo3A9DFHWCm",
    "outputId": "0f3724a2-5133-454a-a5c3-da3de4c42b36"
   },
   "outputs": [
    {
     "name": "stdout",
     "output_type": "stream",
     "text": [
      "Percentage of variance explained = 95.8711300106054%\n"
     ]
    }
   ],
   "source": [
    "svd = TruncatedSVD(n_components = 3000)\n",
    "svd.fit(x_tr_av1)\n",
    "var_perc = sum(svd.explained_variance_ratio_)\n",
    "print(\"Percentage of variance explained = \"+str(var_perc * 100)+\"%\")"
   ]
  },
  {
   "cell_type": "code",
   "execution_count": 0,
   "metadata": {
    "colab": {},
    "colab_type": "code",
    "id": "MlwlUPbNHWCt"
   },
   "outputs": [],
   "source": [
    "#training the co_occurence_matrix on optimal n_components\n",
    "svd= TruncatedSVD(n_components = 2000)\n",
    "x_test_av1_svd=svd.fit_transform(x_test_av1)"
   ]
  },
  {
   "cell_type": "code",
   "execution_count": 0,
   "metadata": {
    "colab": {},
    "colab_type": "code",
    "id": "-PcwfS2WHWCy"
   },
   "outputs": [],
   "source": [
    "#training the co_occurence_matrix on optimal n_components\n",
    "svd= TruncatedSVD(n_components = 3000)\n",
    "x_tr_av1_svd=svd.fit_transform(x_tr_av1)"
   ]
  },
  {
   "cell_type": "code",
   "execution_count": 0,
   "metadata": {
    "colab": {
     "base_uri": "https://localhost:8080/",
     "height": 34
    },
    "colab_type": "code",
    "id": "W-x7S01QHWC5",
    "outputId": "8c7c4226-c44a-4a0d-961f-cf3e794b04ad"
   },
   "outputs": [
    {
     "data": {
      "text/plain": [
       "(48000, 26212)"
      ]
     },
     "execution_count": 17,
     "metadata": {
      "tags": []
     },
     "output_type": "execute_result"
    }
   ],
   "source": [
    "x_tr_uni.shape"
   ]
  },
  {
   "cell_type": "code",
   "execution_count": 0,
   "metadata": {
    "colab": {
     "base_uri": "https://localhost:8080/",
     "height": 34
    },
    "colab_type": "code",
    "id": "1XAMpzPpHWC_",
    "outputId": "a08c1669-3d04-47af-e99a-a63156c93200"
   },
   "outputs": [
    {
     "data": {
      "text/plain": [
       "(48000, 3000)"
      ]
     },
     "execution_count": 18,
     "metadata": {
      "tags": []
     },
     "output_type": "execute_result"
    }
   ],
   "source": [
    "x_tr_uni_svd.shape"
   ]
  },
  {
   "cell_type": "markdown",
   "metadata": {
    "colab_type": "text",
    "id": "4n7T1V3HwfSL"
   },
   "source": [
    "## Finding the optimal C and Gamma"
   ]
  },
  {
   "cell_type": "code",
   "execution_count": 0,
   "metadata": {
    "colab": {
     "base_uri": "https://localhost:8080/",
     "height": 88
    },
    "colab_type": "code",
    "id": "_FWzWBG8fx33",
    "outputId": "3d6afbd1-66dd-4c6f-82cd-b9cfcb6d000a"
   },
   "outputs": [
    {
     "name": "stdout",
     "output_type": "stream",
     "text": [
      "Best HyperParameter:  {'C': 1000, 'gamma': 0.001}\n",
      "0.7624524373638344\n",
      "/usr/local/lib/python3.6/dist-packages/sklearn/model_selection/_search.py:841: DeprecationWarning: The default of the `iid` parameter will change from True to False in version 0.22 and will be removed in 0.24. This will change numeric results when test-set sizes are unequal.DeprecationWarning)\n"
     ]
    }
   ],
   "source": [
    "C=[1, 10, 100, 1000]\n",
    "gamma=[0.1,0.01,0.001, 0.0001]\n",
    "tuned_parameters = [{'C':C,'gamma':gamma}]\n",
    "sv = SVC(kernel='rbf')\n",
    "gsv = GridSearchCV(sv, tuned_parameters, scoring = 'f1_weighted', cv=5)\n",
    "gsv.fit(x_tr_av1_svd,y_tr)\n",
    "print(\"Best HyperParameter: \",gsv.best_params_)\n",
    "print(gsv.best_score_)"
   ]
  },
  {
   "cell_type": "markdown",
   "metadata": {},
   "source": [
    "## Find the accuracy,F1-score on test data with optimal C and gamma"
   ]
  },
  {
   "cell_type": "code",
   "execution_count": 0,
   "metadata": {
    "colab": {
     "base_uri": "https://localhost:8080/",
     "height": 436
    },
    "colab_type": "code",
    "id": "3xVSfMJywfSN",
    "outputId": "5027b560-2012-4ee1-bc4e-f252db76a6ae"
   },
   "outputs": [
    {
     "name": "stdout",
     "output_type": "stream",
     "text": [
      "Accuracy on test set: 88.210%\n",
      "Precision on test set: 0.834\n",
      "Recall on test set: 0.725\n",
      "F1-Score on test set: 0.762\n"
     ]
    },
    {
     "data": {
      "text/plain": [
       "<matplotlib.axes._subplots.AxesSubplot at 0x7f82a5bdf400>"
      ]
     },
     "execution_count": 24,
     "metadata": {
      "tags": []
     },
     "output_type": "execute_result"
    },
    {
     "data": {
      "image/png": "[encoded data removed]",
      "text/plain": [
       "<matplotlib.figure.Figure at 0x7f82a5bc6d68>"
      ]
     },
     "metadata": {
      "tags": []
     },
     "output_type": "display_data"
    }
   ],
   "source": [
    "SVM=SVC(kernel='rbf',C=1000,gamma=0.001)\n",
    "SVM.fit(x_tr_av1_svd,y_tr)\n",
    "y_pred =SVM.predict(x_test_av1_svd)\n",
    "print(\"Accuracy on test set: %0.3f%%\"%(accuracy_score(y_test, y_pred)*100))\n",
    "print(\"Precision on test set: %0.3f\"%(precision_score(y_test, y_pred,average='macro')))\n",
    "print(\"Recall on test set: %0.3f\"%(recall_score(y_test, y_pred,average='macro')))\n",
    "print(\"F1-Score on test set: %0.3f\"%(f1_score(y_test, y_pred,average='macro')))\n",
    "df_cm = pd.DataFrame(confusion_matrix(y_test, y_pred), range(2),range(2))\n",
    "sns.set(font_scale=1.4)#for label size\n",
    "sns.heatmap(df_cm, annot=True,annot_kws={\"size\": 16}, fmt='g')"
   ]
  },
  {
   "cell_type": "markdown",
   "metadata": {
    "colab_type": "text",
    "id": "Y3BQBcyCwxBp"
   },
   "source": [
    "## 7.TFIDF-W2V"
   ]
  },
  {
   "cell_type": "code",
   "execution_count": 0,
   "metadata": {
    "colab": {},
    "colab_type": "code",
    "id": "gY1YD6si3Qpq"
   },
   "outputs": [],
   "source": [
    "tf_idf_vect = TfidfVectorizer()\n",
    "final_tf_idf = tf_idf_vect.fit_transform(x_tr)\n",
    "dictionary = dict(zip(tf_idf_vect.get_feature_names(), list(tf_idf_vect.idf_)))"
   ]
  },
  {
   "cell_type": "code",
   "execution_count": 0,
   "metadata": {
    "colab": {
     "base_uri": "https://localhost:8080/",
     "height": 34
    },
    "colab_type": "code",
    "id": "CriEBX5cPGEQ",
    "outputId": "87e3b45d-fef3-43ba-995c-74836c009cb9"
   },
   "outputs": [
    {
     "name": "stderr",
     "output_type": "stream",
     "text": [
      "100%|██████████| 40000/40000 [00:55<00:00, 725.98it/s]\n"
     ]
    }
   ],
   "source": [
    "# TF-IDF weighted Word2Vec\n",
    "tfidf_feat = tf_idf_vect.get_feature_names() # tfidf words/col-names\n",
    "# final_tf_idf is the sparse matrix with row= sentence, col=word and cell_val = tfidf\n",
    "\n",
    "tfidf_sent_vectors = []; # the tfidf-w2v for each sentence/review is stored in this list\n",
    "row=0;\n",
    "for sent in tqdm(list_of_sent): # for each review/sentence \n",
    "    sent_vec = np.zeros(50) # as word vectors are of zero length\n",
    "    weight_sum =0; # num of words with a valid vector in the sentence/review\n",
    "    for word in sent: # for each word in a review/sentence\n",
    "        if word in w2v_words:\n",
    "            vec = w2v_model.wv[word]\n",
    "            tf_idf = dictionary[word]*sent.count(word)\n",
    "            sent_vec += (vec * tf_idf)\n",
    "            weight_sum += tf_idf\n",
    "    if weight_sum != 0:\n",
    "        sent_vec /= weight_sum\n",
    "    tfidf_sent_vectors.append(sent_vec)\n",
    "    row += 1"
   ]
  },
  {
   "cell_type": "code",
   "execution_count": 0,
   "metadata": {
    "colab": {
     "base_uri": "https://localhost:8080/",
     "height": 34
    },
    "colab_type": "code",
    "id": "KzdiR_KAPJix",
    "outputId": "849229e8-99b1-42b2-8a6f-74912a88220f"
   },
   "outputs": [
    {
     "name": "stderr",
     "output_type": "stream",
     "text": [
      "100%|██████████| 10000/10000 [00:15<00:00, 650.93it/s]\n"
     ]
    }
   ],
   "source": [
    "# TF-IDF weighted Word2Vec\n",
    "tfidf_feat = tf_idf_vect.get_feature_names() # tfidf words/col-names\n",
    "# final_tf_idf is the sparse matrix with row= sentence, col=word and cell_val = tfidf\n",
    "\n",
    "tfidf_sent_vectors_test = []; # the tfidf-w2v for each sentence/review is stored in this list\n",
    "row=0;\n",
    "for sent in tqdm(list_of_sent_test): # for each review/sentence \n",
    "    sent_vec = np.zeros(50) # as word vectors are of zero length\n",
    "    weight_sum =0; # num of words with a valid vector in the sentence/review\n",
    "    for word in sent: # for each word in a review/sentence\n",
    "        if word in w2v_words:\n",
    "            vec = w2v_model.wv[word]\n",
    "            tf_idf = dictionary[word]*sent.count(word)\n",
    "            sent_vec += (vec * tf_idf)\n",
    "            weight_sum += tf_idf\n",
    "    if weight_sum != 0:\n",
    "        sent_vec /= weight_sum\n",
    "    tfidf_sent_vectors_test.append(sent_vec)\n",
    "    row += 1"
   ]
  },
  {
   "cell_type": "code",
   "execution_count": 0,
   "metadata": {
    "colab": {},
    "colab_type": "code",
    "id": "uArk43hSkVlL"
   },
   "outputs": [],
   "source": [
    "x_test_tdfw2v=tfidf_sent_vectors_test\n",
    "x_tr_tdfw2v=tfidf_sent_vectors"
   ]
  },
  {
   "cell_type": "markdown",
   "metadata": {},
   "source": [
    "## TruncatedSVD\n",
    "\n",
    "## Finding the n_component by 99% variance explained"
   ]
  },
  {
   "cell_type": "code",
   "execution_count": 0,
   "metadata": {
    "colab": {
     "base_uri": "https://localhost:8080/",
     "height": 512
    },
    "colab_type": "code",
    "id": "3DSyZp-jHZOU",
    "outputId": "1104d677-1148-4dd3-a86f-18f9e868d8bb"
   },
   "outputs": [
    {
     "data": {
      "image/png": "[encoded data removed]",
      "text/plain": [
       "<matplotlib.figure.Figure at 0x7fea292de5f8>"
      ]
     },
     "metadata": {
      "tags": []
     },
     "output_type": "display_data"
    }
   ],
   "source": [
    "svd = TruncatedSVD(n_components=500)\n",
    "svd_data = svd.fit_transform(x_tr_tdfw2v)\n",
    "percentage_variance_explained = svd.explained_variance_ / sum(svd.explained_variance_)\n",
    "cum_var_explained = np.cumsum(percentage_variance_explained)\n",
    "\n",
    "plt.figure(figsize=(10,8))\n",
    "plt.clf()\n",
    "plt.grid()\n",
    "plt.plot(cum_var_explained, linewidth=2)\n",
    "plt.axis('tight')\n",
    "plt.title(\"Explained Variance Chart\")\n",
    "plt.xlabel(\"Number of components\")\n",
    "plt.ylabel(\"Cummulative Explained Varaince\")\n",
    "plt.show()"
   ]
  },
  {
   "cell_type": "markdown",
   "metadata": {},
   "source": [
    "## Percentage of variance explained "
   ]
  },
  {
   "cell_type": "code",
   "execution_count": 0,
   "metadata": {
    "colab": {
     "base_uri": "https://localhost:8080/",
     "height": 34
    },
    "colab_type": "code",
    "id": "0z_J2QprHZOZ",
    "outputId": "52504231-0b63-4531-85be-bac604fa4eb5"
   },
   "outputs": [
    {
     "name": "stdout",
     "output_type": "stream",
     "text": [
      "Percentage of variance explained = 95.97824818089681%\n"
     ]
    }
   ],
   "source": [
    "svd = TruncatedSVD(n_components = 2000)\n",
    "svd.fit(x_test_tdfw2v)\n",
    "var_perc = sum(svd.explained_variance_ratio_)\n",
    "print(\"Percentage of variance explained = \"+str(var_perc * 100)+\"%\")"
   ]
  },
  {
   "cell_type": "code",
   "execution_count": 0,
   "metadata": {
    "colab": {
     "base_uri": "https://localhost:8080/",
     "height": 34
    },
    "colab_type": "code",
    "id": "xtqL5kiqHZOm",
    "outputId": "0f3724a2-5133-454a-a5c3-da3de4c42b36"
   },
   "outputs": [
    {
     "name": "stdout",
     "output_type": "stream",
     "text": [
      "Percentage of variance explained = 95.8711300106054%\n"
     ]
    }
   ],
   "source": [
    "svd = TruncatedSVD(n_components = 3000)\n",
    "svd.fit(x_tr_tdfw2v)\n",
    "var_perc = sum(svd.explained_variance_ratio_)\n",
    "print(\"Percentage of variance explained = \"+str(var_perc * 100)+\"%\")"
   ]
  },
  {
   "cell_type": "code",
   "execution_count": 0,
   "metadata": {
    "colab": {},
    "colab_type": "code",
    "id": "dNBvkiSAHZOz"
   },
   "outputs": [],
   "source": [
    "#training the co_occurence_matrix on optimal n_components\n",
    "svd= TruncatedSVD(n_components = 2000)\n",
    "x_test_tdfw2v_svd=svd.fit_transform(x_test_tdfw2v)"
   ]
  },
  {
   "cell_type": "code",
   "execution_count": 0,
   "metadata": {
    "colab": {},
    "colab_type": "code",
    "id": "z69Xj1n2HZO4"
   },
   "outputs": [],
   "source": [
    "#training the co_occurence_matrix on optimal n_components\n",
    "svd= TruncatedSVD(n_components = 3000)\n",
    "x_tr_tdfw2v_svd=svd.fit_transform(x_tr_tdfw2v)"
   ]
  },
  {
   "cell_type": "markdown",
   "metadata": {
    "colab_type": "text",
    "id": "2dXabiyh29EF"
   },
   "source": [
    "## Finding the optimal C and Gamma"
   ]
  },
  {
   "cell_type": "code",
   "execution_count": 0,
   "metadata": {
    "colab": {
     "base_uri": "https://localhost:8080/",
     "height": 88
    },
    "colab_type": "code",
    "id": "7GTzjYdDinZt",
    "outputId": "54bbbb14-72ad-4c1b-fde2-9c92436fe6ac"
   },
   "outputs": [
    {
     "name": "stdout",
     "output_type": "stream",
     "text": [
      "Best HyperParameter:  {'C': 1, 'gamma': 0.001}\n",
      "0.6471354575163398\n",
      "/usr/local/lib/python3.6/dist-packages/sklearn/model_selection/_search.py:841: DeprecationWarning: The default of the `iid` parameter will change from True to False in version 0.22 and will be removed in 0.24. This will change numeric results when test-set sizes are unequal.DeprecationWarning)\n"
     ]
    }
   ],
   "source": [
    "C=[1, 10, 100, 1000]\n",
    "gamma=[0.1,0.01,0.001, 0.0001]\n",
    "tuned_parameters = [{'C':C,'gamma':gamma}]\n",
    "sv = SVC(kernel='rbf')\n",
    "gsv = GridSearchCV(sv, tuned_parameters, scoring = 'roc_auc', cv=5)\n",
    "gsv.fit(x_tr_tdfw2v_svd,y_tr)\n",
    "print(\"Best HyperParameter: \",gsv.best_params_)\n",
    "print(gsv.best_score_)"
   ]
  },
  {
   "cell_type": "markdown",
   "metadata": {},
   "source": [
    "## Find the accuracy,F1-score on test data with optimal C and gamma"
   ]
  },
  {
   "cell_type": "code",
   "execution_count": 0,
   "metadata": {
    "colab": {
     "base_uri": "https://localhost:8080/",
     "height": 436
    },
    "colab_type": "code",
    "id": "2AIll1mo29EL",
    "outputId": "2cc72dc4-4356-4048-8930-2c87e312c0da"
   },
   "outputs": [
    {
     "name": "stdout",
     "output_type": "stream",
     "text": [
      "Accuracy on test set: 84.070%\n",
      "Precision on test set: 0.840\n",
      "Recall on test set: 0.564\n",
      "F1-Score on test set: 0.571\n"
     ]
    },
    {
     "data": {
      "text/plain": [
       "<matplotlib.axes._subplots.AxesSubplot at 0x7efd87915c88>"
      ]
     },
     "execution_count": 21,
     "metadata": {
      "tags": []
     },
     "output_type": "execute_result"
    },
    {
     "data": {
      "image/png": "[encoded data removed]",
      "text/plain": [
       "<matplotlib.figure.Figure at 0x7efd878eb5f8>"
      ]
     },
     "metadata": {
      "tags": []
     },
     "output_type": "display_data"
    }
   ],
   "source": [
    "SVM=SVC(kernel='rbf',C=1,gamma=0.001)\n",
    "SVM.fit(x_tr_tdfw2v_svd,y_tr)\n",
    "y_pred =SVM.predict(x_test_tdfw2v_svd)\n",
    "print(\"Accuracy on test set: %0.3f%%\"%(accuracy_score(y_test, y_pred)*100))\n",
    "print(\"Precision on test set: %0.3f\"%(precision_score(y_test, y_pred,average='macro')))\n",
    "print(\"Recall on test set: %0.3f\"%(recall_score(y_test, y_pred,average='macro')))\n",
    "print(\"F1-Score on test set: %0.3f\"%(f1_score(y_test, y_pred,average='macro')))\n",
    "df_cm = pd.DataFrame(confusion_matrix(y_test, y_pred), range(2),range(2))\n",
    "sns.set(font_scale=1.4)#for label size\n",
    "sns.heatmap(df_cm, annot=True,annot_kws={\"size\": 16}, fmt='g')"
   ]
  },
  {
   "cell_type": "code",
   "execution_count": 4,
   "metadata": {},
   "outputs": [
    {
     "data": {
      "text/html": [
       "<div>\n",
       "<style scoped>\n",
       "    .dataframe tbody tr th:only-of-type {\n",
       "        vertical-align: middle;\n",
       "    }\n",
       "\n",
       "    .dataframe tbody tr th {\n",
       "        vertical-align: top;\n",
       "    }\n",
       "\n",
       "    .dataframe thead th {\n",
       "        text-align: right;\n",
       "    }\n",
       "</style>\n",
       "<table border=\"1\" class=\"dataframe\">\n",
       "  <thead>\n",
       "    <tr style=\"text-align: right;\">\n",
       "      <th></th>\n",
       "      <th>Model</th>\n",
       "      <th>C</th>\n",
       "      <th>gamma</th>\n",
       "      <th>cv f1-weighted</th>\n",
       "      <th>Test Roc Auc</th>\n",
       "    </tr>\n",
       "  </thead>\n",
       "  <tbody>\n",
       "    <tr>\n",
       "      <th>0</th>\n",
       "      <td>unigram</td>\n",
       "      <td>100</td>\n",
       "      <td>0.001</td>\n",
       "      <td>0.872</td>\n",
       "      <td>0.829</td>\n",
       "    </tr>\n",
       "    <tr>\n",
       "      <th>1</th>\n",
       "      <td>Bi-gram</td>\n",
       "      <td>10</td>\n",
       "      <td>0.01</td>\n",
       "      <td>0.860</td>\n",
       "      <td>0.821</td>\n",
       "    </tr>\n",
       "    <tr>\n",
       "      <th>2</th>\n",
       "      <td>Tf-IDF</td>\n",
       "      <td>100</td>\n",
       "      <td>0.01</td>\n",
       "      <td>0.822</td>\n",
       "      <td>0.856</td>\n",
       "    </tr>\n",
       "    <tr>\n",
       "      <th>3</th>\n",
       "      <td>Av-Word2Vec</td>\n",
       "      <td>1000</td>\n",
       "      <td>0.001</td>\n",
       "      <td>0.846</td>\n",
       "      <td>0.762</td>\n",
       "    </tr>\n",
       "    <tr>\n",
       "      <th>4</th>\n",
       "      <td>Tf-IDF Word2vec</td>\n",
       "      <td>1</td>\n",
       "      <td>0.001</td>\n",
       "      <td>0.886</td>\n",
       "      <td>0.571</td>\n",
       "    </tr>\n",
       "  </tbody>\n",
       "</table>\n",
       "</div>"
      ],
      "text/plain": [
       "             Model     C  gamma cv f1-weighted Test Roc Auc\n",
       "0          unigram   100  0.001          0.872        0.829\n",
       "1          Bi-gram    10   0.01          0.860        0.821\n",
       "2           Tf-IDF   100   0.01          0.822        0.856\n",
       "3      Av-Word2Vec  1000  0.001          0.846        0.762\n",
       "4  Tf-IDF Word2vec     1  0.001          0.886        0.571"
      ]
     },
     "execution_count": 4,
     "metadata": {},
     "output_type": "execute_result"
    }
   ],
   "source": [
    "import pandas as pd\n",
    "svmResult = {\n",
    "\n",
    "'Model': ['unigram', 'Bi-gram', 'Tf-IDF', 'Av-Word2Vec','Tf-IDF Word2vec'],\n",
    "'C': ['100', '10', '100', '1000','1'],\n",
    "'gamma': ['0.001', '0.01', '0.01', '0.001','0.001'],\n",
    "'cv f1-weighted': ['0.872','0.860','0.822','0.846','0.886'],\n",
    "'Test Roc Auc': ['0.829','0.821','0.856','0.762','0.571']\n",
    "}\n",
    "pd.DataFrame(svmResult)"
   ]
  }
 ],
 "metadata": {
  "accelerator": "GPU",
  "colab": {
   "collapsed_sections": [],
   "name": "Copy of RBF kernel SVM on amazon fine food reviews.ipynb",
   "provenance": [],
   "version": "0.3.2"
  },
  "kernelspec": {
   "display_name": "Python 3",
   "language": "python",
   "name": "python3"
  },
  "language_info": {
   "codemirror_mode": {
    "name": "ipython",
    "version": 3
   },
   "file_extension": ".py",
   "mimetype": "text/x-python",
   "name": "python",
   "nbconvert_exporter": "python",
   "pygments_lexer": "ipython3",
   "version": "3.6.7"
  }
 },
 "nbformat": 4,
 "nbformat_minor": 1
}
