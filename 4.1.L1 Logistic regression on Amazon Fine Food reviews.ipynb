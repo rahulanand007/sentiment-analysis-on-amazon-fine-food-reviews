{
 "cells": [
  {
   "cell_type": "markdown",
   "metadata": {
    "colab_type": "text",
    "id": "AbjV6Rp8SQHe"
   },
   "source": [
    "# 1.Loading the data"
   ]
  },
  {
   "cell_type": "code",
   "execution_count": null,
   "metadata": {},
   "outputs": [],
   "source": [
    "%matplotlib inline\n",
    "import warnings\n",
    "warnings.filterwarnings(\"ignore\")\n",
    "\n",
    "import sqlite3\n",
    "import pandas as pd\n",
    "import numpy as np\n",
    "import nltk\n",
    "import string\n",
    "import matplotlib.pyplot as plt\n",
    "import seaborn as sns\n",
    "from sklearn.feature_extraction.text import TfidfTransformer\n",
    "from sklearn.feature_extraction.text import TfidfVectorizer\n",
    "\n",
    "from sklearn.feature_extraction.text import CountVectorizer\n",
    "from sklearn.metrics import confusion_matrix\n",
    "from sklearn import metrics\n",
    "from sklearn.metrics import roc_curve, auc\n",
    "from nltk.stem.porter import PorterStemmer\n",
    "\n",
    "import re\n",
    "import string\n",
    "from nltk.corpus import stopwords\n",
    "from nltk.stem import PorterStemmer\n",
    "from nltk.stem.wordnet import WordNetLemmatizer\n",
    "\n",
    "from gensim.models import Word2Vec\n",
    "from gensim.models import KeyedVectors\n",
    "import pickle\n",
    "\n",
    "from sklearn.preprocessing import StandardScaler\n",
    "from sklearn.manifold import TSNE\n",
    "from sklearn.linear_model import LogisticRegression\n",
    "from tqdm import tqdm\n",
    "\n",
    "import seaborn as sns\n",
    "from sklearn.metrics import accuracy_score\n",
    "from sklearn.metrics import confusion_matrix\n",
    "from sklearn.metrics import precision_score\n",
    "from sklearn.metrics import f1_score\n",
    "from sklearn.metrics import recall_score"
   ]
  },
  {
   "cell_type": "code",
   "execution_count": null,
   "metadata": {},
   "outputs": [],
   "source": [
    "!pip install -U -q PyDrive\n",
    "\n",
    "from pydrive.auth import GoogleAuth\n",
    "from pydrive.drive import GoogleDrive\n",
    "from google.colab import auth\n",
    "from oauth2client.client import GoogleCredentials\n",
    "\n",
    "# 1. Authenticate and create the PyDrive client.\n",
    "auth.authenticate_user()\n",
    "gauth = GoogleAuth()\n",
    "gauth.credentials = GoogleCredentials.get_application_default()\n",
    "drive = GoogleDrive(gauth)\n",
    "\n"
   ]
  },
  {
   "cell_type": "code",
   "execution_count": null,
   "metadata": {},
   "outputs": [],
   "source": [
    "download = drive.CreateFile({'id': '1K1rpp1cP61oOjKc9CIx-0v4z2SdyOpyi'})\n",
    "download.GetContentFile('final.sqlite')\n"
   ]
  },
  {
   "cell_type": "code",
   "execution_count": null,
   "metadata": {},
   "outputs": [],
   "source": [
    "con = sqlite3.connect('final.sqlite')\n",
    "final = pd.read_sql_query(\"\"\" SELECT * FROM Reviews\"\"\", con) "
   ]
  },
  {
   "cell_type": "markdown",
   "metadata": {
    "colab_type": "text",
    "id": "cncsvOfLwxAK"
   },
   "source": [
    "## 3.1 Spliting CleanedText and Score into train and test"
   ]
  },
  {
   "cell_type": "code",
   "execution_count": 0,
   "metadata": {
    "colab": {},
    "colab_type": "code",
    "id": "fj-tynWYplqR"
   },
   "outputs": [],
   "source": [
    "final=final.sort_values(by=['Time'],ascending=False)\n",
    "finalDataPoints=final.head(100000)\n",
    "x=finalDataPoints[\"CleanedText\"]\n",
    "y=finalDataPoints[\"Score\"]\n",
    "\n",
    "x_tr,x_test,y_tr,y_test=train_test_split(x, y, test_size=0.2,shuffle=False)"
   ]
  },
  {
   "cell_type": "code",
   "execution_count": 0,
   "metadata": {
    "colab": {
     "base_uri": "https://localhost:8080/",
     "height": 34
    },
    "colab_type": "code",
    "id": "ZmyRPAj1y9o7",
    "outputId": "1e4b0669-81ca-417a-8f79-44a2751d451e",
    "scrolled": true
   },
   "outputs": [
    {
     "name": "stdout",
     "output_type": "stream",
     "text": [
      "(80000,) (20000,) (80000,) (20000,)\n"
     ]
    }
   ],
   "source": [
    "print(x_tr.shape,x_test.shape,y_tr.shape,y_test.shape)"
   ]
  },
  {
   "cell_type": "markdown",
   "metadata": {
    "colab_type": "text",
    "id": "tX5721JWSQIf"
   },
   "source": [
    "# 4.Bag of Words (BoW)"
   ]
  },
  {
   "cell_type": "markdown",
   "metadata": {
    "colab_type": "text",
    "id": "vnZuWK1PwxAd"
   },
   "source": [
    "## 4.1 Unigram"
   ]
  },
  {
   "cell_type": "code",
   "execution_count": 0,
   "metadata": {
    "colab": {},
    "colab_type": "code",
    "id": "9Ih-bFF1gm1v"
   },
   "outputs": [],
   "source": [
    "#BOW for unigram\n",
    "bow = CountVectorizer()\n",
    "x_tr_uni = bow.fit_transform(x_tr)\n",
    "x_test_uni= bow.transform(x_test)\n",
    "\n",
    "\n",
    "from sklearn.preprocessing import StandardScaler\n",
    "x_tr_uni = StandardScaler(with_mean = False).fit_transform(x_tr_uni)\n",
    "x_test_uni = StandardScaler(with_mean = False).fit_transform(x_test_uni)"
   ]
  },
  {
   "cell_type": "markdown",
   "metadata": {
    "colab_type": "text",
    "id": "LYqw-Hl0I4FO"
   },
   "source": [
    "## 4.1.1 Grid search"
   ]
  },
  {
   "cell_type": "markdown",
   "metadata": {
    "colab_type": "text",
    "id": "gAKTB8UGwxAh"
   },
   "source": [
    "### 4.1.1.1 Finding the optimal C using gridsearch"
   ]
  },
  {
   "cell_type": "code",
   "execution_count": 0,
   "metadata": {
    "colab": {
     "base_uri": "https://localhost:8080/",
     "height": 584
    },
    "colab_type": "code",
    "id": "ihplTu-0Dz5M",
    "outputId": "0bbee44f-b936-4266-a277-9278126c76a8"
   },
   "outputs": [
    {
     "name": "stdout",
     "output_type": "stream",
     "text": [
      "Fitting 5 folds for each of 5 candidates, totalling 25 fits\n"
     ]
    },
    {
     "name": "stderr",
     "output_type": "stream",
     "text": [
      "[Parallel(n_jobs=-1)]: Done  25 out of  25 | elapsed: 23.8min finished\n"
     ]
    },
    {
     "name": "stdout",
     "output_type": "stream",
     "text": [
      "Best HyperParameter:  {'C': 0.01}\n",
      "0.8821614262331361\n"
     ]
    },
    {
     "data": {
      "image/png": "[encoded data removed]",
      "text/plain": [
       "<matplotlib.figure.Figure at 0x7f5773721cc0>"
      ]
     },
     "metadata": {
      "tags": []
     },
     "output_type": "display_data"
    }
   ],
   "source": [
    "LR = LogisticRegression(penalty='l1')\n",
    "C_value = [{'C': [10**-4, 10**-2, 10**0, 10**2, 10**4]}]\n",
    "gsv = GridSearchCV(LR,C_value,cv=5,verbose=1,scoring='f1_weighted',n_jobs=-1)\n",
    "gsv.fit(x_tr_uni,y_tr)\n",
    "print(\"Best HyperParameter: \",gsv.best_params_)\n",
    "print(gsv.best_score_)\n",
    "optimal_C=gsv.best_score_\n",
    "\n",
    "x=[]\n",
    "y=[]\n",
    "plt.figure(figsize=(8,8))\n",
    "for a in gsv.grid_scores_:\n",
    "    x.append(a[0]['C']) \n",
    "    y.append(a[1])\n",
    "plt.xlabel(\"C\",fontsize=15)\n",
    "plt.ylabel(\"f1_weighted\")\n",
    "plt.title('f1_weighted v/s C')\n",
    "plt.plot(x,y,linestyle='dashed', marker='o', markerfacecolor='red', markersize=10)\n",
    "plt.show()"
   ]
  },
  {
   "cell_type": "markdown",
   "metadata": {
    "colab_type": "text",
    "id": "O6hLAdaGwxAn"
   },
   "source": [
    "### 4.1.1.2 finding the accuracy,F1-score in Test data using optimal C"
   ]
  },
  {
   "cell_type": "code",
   "execution_count": 0,
   "metadata": {
    "colab": {
     "base_uri": "https://localhost:8080/",
     "height": 436
    },
    "colab_type": "code",
    "id": "c5fWiuNKpMgo",
    "outputId": "4e51a2b9-16cf-4709-b9e0-cf455af9a9ec"
   },
   "outputs": [
    {
     "name": "stdout",
     "output_type": "stream",
     "text": [
      "Accuracy on test set: 90.940%\n",
      "Precision on test set: 0.879\n",
      "Recall on test set: 0.791\n",
      "F1-Score on test set: 0.825\n"
     ]
    },
    {
     "data": {
      "text/plain": [
       "<matplotlib.axes._subplots.AxesSubplot at 0x7f912998c3c8>"
      ]
     },
     "execution_count": 29,
     "metadata": {
      "tags": []
     },
     "output_type": "execute_result"
    },
    {
     "data": {
      "image/png": "[encoded data removed]",
      "text/plain": [
       "<matplotlib.figure.Figure at 0x7f912e1e2240>"
      ]
     },
     "metadata": {
      "tags": []
     },
     "output_type": "display_data"
    }
   ],
   "source": [
    "LR= LogisticRegression(penalty='l1',C=optimal_C)\n",
    "LR.fit(x_tr_uni,y_tr)\n",
    "y_pred =LR.predict(x_test_uni)\n",
    "print(\"Accuracy on test set: %0.3f%%\"%(accuracy_score(y_test, y_pred)*100))\n",
    "print(\"Precision on test set: %0.3f\"%(precision_score(y_test, y_pred,average='macro')))\n",
    "print(\"Recall on test set: %0.3f\"%(recall_score(y_test, y_pred,average='macro')))\n",
    "print(\"F1-Score on test set: %0.3f\"%(f1_score(y_test, y_pred,average='macro')))\n",
    "df_cm = pd.DataFrame(confusion_matrix(y_test, y_pred), range(2),range(2))\n",
    "sns.set(font_scale=1.4)#for label size\n",
    "sns.heatmap(df_cm, annot=True,annot_kws={\"size\": 16}, fmt='g')"
   ]
  },
  {
   "cell_type": "markdown",
   "metadata": {
    "colab_type": "text",
    "id": "CcZ76v5jJHvO"
   },
   "source": [
    "## 4.1.2 RandomSearchCV"
   ]
  },
  {
   "cell_type": "markdown",
   "metadata": {
    "colab_type": "text",
    "id": "KoXOHLbI9HD2"
   },
   "source": [
    "### 4.1.2.1 Finding the optimal C using RandomSearchCv"
   ]
  },
  {
   "cell_type": "code",
   "execution_count": 0,
   "metadata": {
    "colab": {
     "base_uri": "https://localhost:8080/",
     "height": 601
    },
    "colab_type": "code",
    "id": "HvaEBIsVJfP6",
    "outputId": "20e04040-03a6-4480-87c6-4e822ea778de"
   },
   "outputs": [
    {
     "name": "stdout",
     "output_type": "stream",
     "text": [
      "Fitting 5 folds for each of 10 candidates, totalling 50 fits\n"
     ]
    },
    {
     "name": "stderr",
     "output_type": "stream",
     "text": [
      "[Parallel(n_jobs=-1)]: Done  46 tasks      | elapsed:   38.3s\n",
      "[Parallel(n_jobs=-1)]: Done  50 out of  50 | elapsed:   41.3s finished\n"
     ]
    },
    {
     "name": "stdout",
     "output_type": "stream",
     "text": [
      "Best HyperParameter:  {'C': 0.05971548761688816}\n",
      "0.90190625\n"
     ]
    },
    {
     "data": {
      "image/png": "[encoded data removed]",
      "text/plain": [
       "<matplotlib.figure.Figure at 0x7f576a124908>"
      ]
     },
     "metadata": {
      "tags": []
     },
     "output_type": "display_data"
    }
   ],
   "source": [
    "from sklearn.model_selection import RandomizedSearchCV\n",
    "from scipy.stats import uniform\n",
    "LR = LogisticRegression(penalty='l1')\n",
    "C_value = {'C':uniform()}\n",
    "gsv = RandomizedSearchCV(LR,C_value,cv=5,verbose=1,scoring='f1_micro',n_jobs=-1)\n",
    "gsv.fit(x_tr_uni,y_tr)\n",
    "print(\"Best HyperParameter: \",gsv.best_params_)\n",
    "print(gsv.best_score_)\n",
    "optimal_C=gsv.best_score_\n",
    "\n",
    "\n",
    "x=[]\n",
    "y=[]\n",
    "plt.figure(figsize=(8,8))\n",
    "for a in gsv.grid_scores_:\n",
    "    x.append(a[0]['C']) \n",
    "    y.append(a[1])\n",
    "plt.xlabel(\"C\",fontsize=15)\n",
    "plt.ylabel(\"f1_weighted\")\n",
    "plt.title('f1_weighted v/s C')\n",
    "plt.plot(x,y, marker='o', markerfacecolor='red', markersize=10)\n",
    "plt.show()"
   ]
  },
  {
   "cell_type": "markdown",
   "metadata": {
    "colab_type": "text",
    "id": "T_VN6ghk9Uo4"
   },
   "source": [
    "### 4.1.2.2 finding the accuracy,F1-score in Test data using optimal C"
   ]
  },
  {
   "cell_type": "code",
   "execution_count": 0,
   "metadata": {
    "colab": {
     "base_uri": "https://localhost:8080/",
     "height": 436
    },
    "colab_type": "code",
    "id": "I_f95LGrJlPf",
    "outputId": "5c2cbb42-383e-49bd-e466-334ad39ffc67"
   },
   "outputs": [
    {
     "name": "stdout",
     "output_type": "stream",
     "text": [
      "Accuracy on test set: 91.200%\n",
      "Precision on test set: 0.864\n",
      "Recall on test set: 0.822\n",
      "F1-Score on test set: 0.840\n"
     ]
    },
    {
     "data": {
      "text/plain": [
       "<matplotlib.axes._subplots.AxesSubplot at 0x7f2b27e00630>"
      ]
     },
     "execution_count": 26,
     "metadata": {
      "tags": []
     },
     "output_type": "execute_result"
    },
    {
     "data": {
      "image/png": "[encoded data removed]",
      "text/plain": [
       "<matplotlib.figure.Figure at 0x7f2b2761b128>"
      ]
     },
     "metadata": {
      "tags": []
     },
     "output_type": "display_data"
    }
   ],
   "source": [
    "LR= LogisticRegression(penalty='l1',C=optimal_C)\n",
    "LR.fit(x_tr_uni,y_tr)\n",
    "y_pred =LR.predict(x_test_uni)\n",
    "print(\"Accuracy on test set: %0.3f%%\"%(accuracy_score(y_test, y_pred)*100))\n",
    "print(\"Precision on test set: %0.3f\"%(precision_score(y_test, y_pred,average='macro')))\n",
    "print(\"Recall on test set: %0.3f\"%(recall_score(y_test, y_pred,average='macro')))\n",
    "print(\"F1-Score on test set: %0.3f\"%(f1_score(y_test, y_pred,average='macro')))\n",
    "df_cm = pd.DataFrame(confusion_matrix(y_test, y_pred), range(2),range(2))\n",
    "sns.set(font_scale=1.4)#for label size\n",
    "sns.heatmap(df_cm, annot=True,annot_kws={\"size\": 16}, fmt='g')"
   ]
  },
  {
   "cell_type": "markdown",
   "metadata": {
    "colab_type": "text",
    "id": "MBH1nPRE4ANN"
   },
   "source": [
    "## 4.1.3 Top Feature"
   ]
  },
  {
   "cell_type": "markdown",
   "metadata": {
    "colab_type": "text",
    "id": "vclAaacBKkUG"
   },
   "source": [
    "### Adding small noise in train data"
   ]
  },
  {
   "cell_type": "code",
   "execution_count": 0,
   "metadata": {
    "colab": {},
    "colab_type": "code",
    "id": "EdlsxssV2Yye"
   },
   "outputs": [],
   "source": [
    "epsilon = np.random.normal(loc=0.0, scale=0.00000001,size=x_tr_uni.shape)\n",
    "x_tr_uni_Epsilon= x_tr_uni + epsilon"
   ]
  },
  {
   "cell_type": "markdown",
   "metadata": {
    "colab_type": "text",
    "id": "hDIvh3PaK8yB"
   },
   "source": [
    "### Find with weight vector using train without noise"
   ]
  },
  {
   "cell_type": "code",
   "execution_count": 0,
   "metadata": {
    "colab": {},
    "colab_type": "code",
    "id": "uiEx28GFo5Cw"
   },
   "outputs": [],
   "source": [
    "LR= LogisticRegression(penalty='l1',C=1000)\n",
    "LR.fit(x_tr_uni,y_tr)\n",
    "w_1=LR.coef_"
   ]
  },
  {
   "cell_type": "markdown",
   "metadata": {
    "colab_type": "text",
    "id": "_PW4x6eKVJgh"
   },
   "source": [
    "### Find with weight vector using train with noise"
   ]
  },
  {
   "cell_type": "code",
   "execution_count": 0,
   "metadata": {
    "colab": {},
    "colab_type": "code",
    "id": "tPfTezGXOIOn"
   },
   "outputs": [],
   "source": [
    "LR= LogisticRegression(penalty='l1',C=1000)\n",
    "LR.fit(x_tr_uni_Epsilon,y_tr)\n",
    "w_2=LR.coef_"
   ]
  },
  {
   "cell_type": "code",
   "execution_count": 0,
   "metadata": {
    "colab": {},
    "colab_type": "code",
    "id": "e50mNqPSpdTb"
   },
   "outputs": [],
   "source": [
    "w=(w_2-w_1)\n",
    "w=w/w_1"
   ]
  },
  {
   "cell_type": "code",
   "execution_count": 0,
   "metadata": {
    "colab": {},
    "colab_type": "code",
    "id": "CxRNtSI50A8W"
   },
   "outputs": [],
   "source": [
    "w=np.nan_to_num(w)"
   ]
  },
  {
   "cell_type": "code",
   "execution_count": 0,
   "metadata": {
    "colab": {
     "base_uri": "https://localhost:8080/",
     "height": 51
    },
    "colab_type": "code",
    "id": "LFCzuPSXAH3R",
    "outputId": "85b21c5f-bf21-4c1a-88e2-f5adf7c6b857"
   },
   "outputs": [
    {
     "data": {
      "text/plain": [
       "array([[-0.01507723,  0.        ,  0.        , ...,  0.        ,\n",
       "         0.        , -1.        ]])"
      ]
     },
     "execution_count": 151,
     "metadata": {
      "tags": []
     },
     "output_type": "execute_result"
    }
   ],
   "source": [
    "w=w*100\n",
    "#theshold value is 30%\n",
    "w=w[np.where( w < 30 )]"
   ]
  },
  {
   "cell_type": "markdown",
   "metadata": {
    "colab_type": "text",
    "id": "rBBOY1DlC8Oz"
   },
   "source": [
    "#### dividing W list into p_pos(+ve feature) and n_neg (-ve features)"
   ]
  },
  {
   "cell_type": "code",
   "execution_count": 0,
   "metadata": {
    "colab": {},
    "colab_type": "code",
    "id": "MlLmIPg0AeAx"
   },
   "outputs": [],
   "source": [
    "w_Pos=w[np.where( w >= 0 )]\n",
    "w_Neg=w[np.where( w < 0 )]"
   ]
  },
  {
   "cell_type": "code",
   "execution_count": 0,
   "metadata": {
    "colab": {
     "base_uri": "https://localhost:8080/",
     "height": 51
    },
    "colab_type": "code",
    "id": "lHfCNWDmrDLn",
    "outputId": "993d4053-3901-491e-d974-bd3d3731b4b9"
   },
   "outputs": [
    {
     "name": "stdout",
     "output_type": "stream",
     "text": [
      "['merrick' 'rancher' 'ran' 'duck' 'minut' 'miracl' 'mixtur' 'quota' 'quit'\n",
      " 'dislik']\n"
     ]
    }
   ],
   "source": [
    "features = (-w_Pos).argsort()\n",
    "print(np.take(bow.get_feature_names(), features[:10]))"
   ]
  },
  {
   "cell_type": "code",
   "execution_count": 0,
   "metadata": {
    "colab": {
     "base_uri": "https://localhost:8080/",
     "height": 51
    },
    "colab_type": "code",
    "id": "QwUD5TiCCiTd",
    "outputId": "e2e293d8-9f46-441f-d475-571f04195cb9"
   },
   "outputs": [
    {
     "name": "stdout",
     "output_type": "stream",
     "text": [
      "['asia' 'candida' 'cookbook' 'brush' 'bargain' 'consequ' 'crush' 'darn'\n",
      " 'cheap' 'abl']\n"
     ]
    }
   ],
   "source": [
    "features = (-w_Neg).argsort()\n",
    "print(np.take(bow.get_feature_names(), features[:10]))"
   ]
  },
  {
   "cell_type": "markdown",
   "metadata": {
    "colab_type": "text",
    "id": "V2NiMbmsSQIj"
   },
   "source": [
    "## 4.2 Bi-Grams\n"
   ]
  },
  {
   "cell_type": "code",
   "execution_count": 0,
   "metadata": {
    "colab": {},
    "colab_type": "code",
    "id": "mYKGV1AQM6H9"
   },
   "outputs": [],
   "source": [
    "bi_gram = CountVectorizer(ngram_range=(1,2))\n",
    "x_tr_bi = bi_gram.fit_transform(x_tr)\n",
    "x_test_bi = bi_gram.transform(x_test)\n",
    "\n",
    "x_tr_bi = StandardScaler(with_mean = False).fit_transform(x_tr_bi)\n",
    "x_test_bi = StandardScaler(with_mean = False).fit_transform(x_test_bi)"
   ]
  },
  {
   "cell_type": "markdown",
   "metadata": {
    "colab_type": "text",
    "id": "pMMgWFLxNcya"
   },
   "source": [
    "## 4.2.1.1 GridSeach"
   ]
  },
  {
   "cell_type": "markdown",
   "metadata": {
    "colab_type": "text",
    "id": "sgv9OwnjwxAu"
   },
   "source": [
    "### 4.2.1.1 Finding the optimal C using gridsearchcv"
   ]
  },
  {
   "cell_type": "code",
   "execution_count": 0,
   "metadata": {
    "colab": {
     "base_uri": "https://localhost:8080/",
     "height": 584
    },
    "colab_type": "code",
    "id": "ZDqRvLqrSQIk",
    "outputId": "6c91e371-ab29-4262-8662-53295b107cfc"
   },
   "outputs": [
    {
     "name": "stdout",
     "output_type": "stream",
     "text": [
      "Fitting 5 folds for each of 5 candidates, totalling 25 fits\n"
     ]
    },
    {
     "name": "stderr",
     "output_type": "stream",
     "text": [
      "[Parallel(n_jobs=1)]: Done  25 out of  25 | elapsed:  1.2min finished\n"
     ]
    },
    {
     "name": "stdout",
     "output_type": "stream",
     "text": [
      "Best HyperParameter:  {'C': 0.01}\n",
      "0.8768442132492991\n"
     ]
    },
    {
     "data": {
      "image/png": "[encoded data removed]",
      "text/plain": [
       "<matplotlib.figure.Figure at 0x7f5769e7edd8>"
      ]
     },
     "metadata": {
      "tags": []
     },
     "output_type": "display_data"
    }
   ],
   "source": [
    "LR = LogisticRegression(penalty='l1')\n",
    "C_value = [{'C': [10**-4, 10**-2, 10**0, 10**2, 10**4]}]\n",
    "gsv = GridSearchCV(LR,C_value,cv=5,verbose=1,scoring='f1_weighted')\n",
    "gsv.fit(x_tr_bi,y_tr)\n",
    "print(\"Best HyperParameter: \",gsv.best_params_)\n",
    "print(gsv.best_score_)\n",
    "optimal_C=gsv.best_score_\n",
    "\n",
    "\n",
    "x=[]\n",
    "y=[]\n",
    "plt.figure(figsize=(8,8))\n",
    "for a in gsv.grid_scores_:\n",
    "    x.append(a[0]['C']) \n",
    "    y.append(a[1]\n",
    "plt.xlabel(\"C\",fontsize=15)\n",
    "plt.ylabel(\"f1_weighted\")\n",
    "plt.title('f1_weighted v/s C')\n",
    "plt.plot(x,y,linestyle='dashed', marker='o', markerfacecolor='red', markersize=10)\n",
    "plt.show()"
   ]
  },
  {
   "cell_type": "markdown",
   "metadata": {
    "colab_type": "text",
    "id": "lXr0oD_rwxA3"
   },
   "source": [
    "### 4.2.1.2 finding the accuracy in Test data using optimal C"
   ]
  },
  {
   "cell_type": "code",
   "execution_count": 0,
   "metadata": {
    "colab": {
     "base_uri": "https://localhost:8080/",
     "height": 436
    },
    "colab_type": "code",
    "id": "MHsPPTLBH5GL",
    "outputId": "44dac822-3d5a-475b-c45f-4f460943934a"
   },
   "outputs": [
    {
     "name": "stdout",
     "output_type": "stream",
     "text": [
      "Accuracy on test set: 90.650%\n",
      "Precision on test set: 0.892\n",
      "Recall on test set: 0.768\n",
      "F1-Score on test set: 0.812\n"
     ]
    },
    {
     "data": {
      "text/plain": [
       "<matplotlib.axes._subplots.AxesSubplot at 0x7f2b14ac2940>"
      ]
     },
     "execution_count": 28,
     "metadata": {
      "tags": []
     },
     "output_type": "execute_result"
    },
    {
     "data": {
      "image/png": "[encoded data removed]",
      "text/plain": [
       "<matplotlib.figure.Figure at 0x7f2b14ac24e0>"
      ]
     },
     "metadata": {
      "tags": []
     },
     "output_type": "display_data"
    }
   ],
   "source": [
    "LR= LogisticRegression(penalty='l1',C=optimal_C)\n",
    "LR.fit(x_tr_bi,y_tr)\n",
    "y_pred =LR.predict(x_test_bi)\n",
    "print(\"Accuracy on test set: %0.3f%%\"%(accuracy_score(y_test, y_pred)*100))\n",
    "print(\"Precision on test set: %0.3f\"%(precision_score(y_test, y_pred,average='macro')))\n",
    "print(\"Recall on test set: %0.3f\"%(recall_score(y_test, y_pred,average='macro')))\n",
    "print(\"F1-Score on test set: %0.3f\"%(f1_score(y_test, y_pred,average='macro')))\n",
    "df_cm = pd.DataFrame(confusion_matrix(y_test, y_pred), range(2),range(2))\n",
    "sns.set(font_scale=1.4)#for label size\n",
    "sns.heatmap(df_cm, annot=True,annot_kws={\"size\": 16}, fmt='g')"
   ]
  },
  {
   "cell_type": "markdown",
   "metadata": {
    "colab_type": "text",
    "id": "wxdt7ML0NqNo"
   },
   "source": [
    "## 4.2.1.2 Randomseachcv"
   ]
  },
  {
   "cell_type": "markdown",
   "metadata": {
    "colab_type": "text",
    "id": "ktpHjON69wO1"
   },
   "source": [
    "### 4.2.1.1 Finding the optimal alpha using RandomSearchCv"
   ]
  },
  {
   "cell_type": "code",
   "execution_count": 0,
   "metadata": {
    "colab": {
     "base_uri": "https://localhost:8080/",
     "height": 584
    },
    "colab_type": "code",
    "id": "Iyuj1ydyNU-l",
    "outputId": "688b5eee-d16b-4c44-a83e-2a73c5b09f8c"
   },
   "outputs": [
    {
     "name": "stdout",
     "output_type": "stream",
     "text": [
      "Fitting 5 folds for each of 10 candidates, totalling 50 fits\n"
     ]
    },
    {
     "name": "stderr",
     "output_type": "stream",
     "text": [
      "[Parallel(n_jobs=1)]: Done  50 out of  50 | elapsed:  2.7min finished\n"
     ]
    },
    {
     "name": "stdout",
     "output_type": "stream",
     "text": [
      "Best HyperParameter:  {'C': 0.06167304914132732}\n",
      "0.8707913462469032\n"
     ]
    },
    {
     "data": {
      "image/png": "[encoded data removed]",
      "text/plain": [
       "<matplotlib.figure.Figure at 0x7f57761615f8>"
      ]
     },
     "metadata": {
      "tags": []
     },
     "output_type": "display_data"
    }
   ],
   "source": [
    "LR = LogisticRegression(penalty='l1')\n",
    "C_value = {'C':uniform()}\n",
    "gsv = RandomizedSearchCV(LR,C_value,cv=5,verbose=1,scoring='f1_weighted')\n",
    "gsv.fit(x_tr_bi,y_tr)\n",
    "print(\"Best HyperParameter: \",gsv.best_params_)\n",
    "print(gsv.best_score_)\n",
    "optimal_C=gsv.best_score_\n",
    "\n",
    "\n",
    "\n",
    "x=[]\n",
    "y=[]\n",
    "plt.figure(figsize=(8,8))\n",
    "for a in gsv.grid_scores_:\n",
    "    x.append(a[0]['C']) \n",
    "    y.append(a[1])\n",
    "plt.xlabel(\"C\",fontsize=15)\n",
    "plt.ylabel(\"f1_weighted\")\n",
    "plt.title('f1_weighted v/s C')\n",
    "plt.plot(x,y,linestyle='dashed', marker='o', markerfacecolor='red', markersize=10)\n",
    "plt.show()"
   ]
  },
  {
   "cell_type": "markdown",
   "metadata": {
    "colab_type": "text",
    "id": "W-rUWEeZ-Hcq"
   },
   "source": [
    "### 4.2.1.2 finding the accuracy in Test data using optimal C"
   ]
  },
  {
   "cell_type": "code",
   "execution_count": 0,
   "metadata": {
    "colab": {
     "base_uri": "https://localhost:8080/",
     "height": 436
    },
    "colab_type": "code",
    "id": "-oopoK4LOiuN",
    "outputId": "2cfc493f-44f3-436e-b474-a1625125c192"
   },
   "outputs": [
    {
     "name": "stdout",
     "output_type": "stream",
     "text": [
      "Accuracy on test set: 90.380%\n",
      "Precision on test set: 0.883\n",
      "Recall on test set: 0.765\n",
      "F1-Score on test set: 0.807\n"
     ]
    },
    {
     "data": {
      "text/plain": [
       "<matplotlib.axes._subplots.AxesSubplot at 0x7f2b27ea5be0>"
      ]
     },
     "execution_count": 29,
     "metadata": {
      "tags": []
     },
     "output_type": "execute_result"
    },
    {
     "data": {
      "image/png": "[encoded data removed]",
      "text/plain": [
       "<matplotlib.figure.Figure at 0x7f2b14b8a1d0>"
      ]
     },
     "metadata": {
      "tags": []
     },
     "output_type": "display_data"
    }
   ],
   "source": [
    "LR= LogisticRegression(penalty='l1',C=optimal_C)\n",
    "LR.fit(x_tr_bi,y_tr)\n",
    "y_pred =LR.predict(x_test_bi)\n",
    "print(\"Accuracy on test set: %0.3f%%\"%(accuracy_score(y_test, y_pred)*100))\n",
    "print(\"Precision on test set: %0.3f\"%(precision_score(y_test, y_pred,average='macro')))\n",
    "print(\"Recall on test set: %0.3f\"%(recall_score(y_test, y_pred,average='macro')))\n",
    "print(\"F1-Score on test set: %0.3f\"%(f1_score(y_test, y_pred,average='macro')))\n",
    "df_cm = pd.DataFrame(confusion_matrix(y_test, y_pred), range(2),range(2))\n",
    "sns.set(font_scale=1.4)#for label size\n",
    "sns.heatmap(df_cm, annot=True,annot_kws={\"size\": 16}, fmt='g')"
   ]
  },
  {
   "cell_type": "markdown",
   "metadata": {
    "colab_type": "text",
    "id": "djuSA4zfpDVH"
   },
   "source": [
    "## 4.2.3 Top Features"
   ]
  },
  {
   "cell_type": "markdown",
   "metadata": {
    "colab_type": "text",
    "id": "pwGx-jQd-3cl"
   },
   "source": [
    "### Adding small noise in train data"
   ]
  },
  {
   "cell_type": "code",
   "execution_count": 0,
   "metadata": {
    "colab": {},
    "colab_type": "code",
    "id": "gSizZ3Ad-3co"
   },
   "outputs": [],
   "source": [
    "epsilon = np.random.normal(loc=0.0, scale=0.00000001,size=x_tr_bi.shape)\n",
    "x_tr_bi_Epsilon= x_tr_bi + epsilon"
   ]
  },
  {
   "cell_type": "markdown",
   "metadata": {
    "colab_type": "text",
    "id": "m4c32OdR-3cu"
   },
   "source": [
    "### Find with weight vector using train without noise"
   ]
  },
  {
   "cell_type": "code",
   "execution_count": 0,
   "metadata": {
    "colab": {},
    "colab_type": "code",
    "id": "W6_KdaHt-3cv"
   },
   "outputs": [],
   "source": [
    "LR= LogisticRegression(penalty='l1',C=1000)\n",
    "LR.fit(x_tr_bi,y_tr)\n",
    "w_1=LR.coef_"
   ]
  },
  {
   "cell_type": "markdown",
   "metadata": {
    "colab_type": "text",
    "id": "siZdzP6n-3cy"
   },
   "source": [
    "### Find with weight vector using train with noise"
   ]
  },
  {
   "cell_type": "code",
   "execution_count": 0,
   "metadata": {
    "colab": {},
    "colab_type": "code",
    "id": "hRTDJbV2-3c0"
   },
   "outputs": [],
   "source": [
    "LR= LogisticRegression(penalty='l1',C=1000)\n",
    "LR.fit(x_tr_bi_Epsilon,y_tr)\n",
    "w_2=LR.coef_"
   ]
  },
  {
   "cell_type": "code",
   "execution_count": null,
   "metadata": {},
   "outputs": [],
   "source": [
    "w=(w_2-w_1)\n",
    "w=w/w_1"
   ]
  },
  {
   "cell_type": "code",
   "execution_count": 0,
   "metadata": {
    "colab": {},
    "colab_type": "code",
    "id": "nFPh2s2qEYF9"
   },
   "outputs": [],
   "source": [
    "w=np.nan_to_num(w)"
   ]
  },
  {
   "cell_type": "code",
   "execution_count": 0,
   "metadata": {
    "colab": {
     "base_uri": "https://localhost:8080/",
     "height": 51
    },
    "colab_type": "code",
    "id": "RoaCScWpEYF9",
    "outputId": "52995d5b-69be-4e31-ad1f-988614b29f9d"
   },
   "outputs": [
    {
     "data": {
      "text/plain": [
       "array([[ 1.96696676, -0.79636213, -1.        , ..., -1.        ,\n",
       "         0.        ,  0.08194953]])"
      ]
     },
     "execution_count": 162,
     "metadata": {
      "tags": []
     },
     "output_type": "execute_result"
    }
   ],
   "source": [
    "w=w*100\n",
    "w=w[np.where( w < 30 )]"
   ]
  },
  {
   "cell_type": "markdown",
   "metadata": {
    "colab_type": "text",
    "id": "5i5jAt9gEYGA"
   },
   "source": [
    "#### dividing W list into p_pos(+ve feature) and n_neg (-ve features)"
   ]
  },
  {
   "cell_type": "code",
   "execution_count": 0,
   "metadata": {
    "colab": {},
    "colab_type": "code",
    "id": "7tBur7g8EYGB"
   },
   "outputs": [],
   "source": [
    "w_Pos_bi=w[np.where( w > 0 )]\n",
    "w_Neg_bi=w[np.where( w < 0 )]"
   ]
  },
  {
   "cell_type": "code",
   "execution_count": 0,
   "metadata": {
    "colab": {
     "base_uri": "https://localhost:8080/",
     "height": 51
    },
    "colab_type": "code",
    "id": "_Q_gTIVUEYGG",
    "outputId": "3e69da3e-e3d4-4561-a903-cfbb575a6c15"
   },
   "outputs": [
    {
     "name": "stdout",
     "output_type": "stream",
     "text": [
      "['bottl finger' 'blood' 'coat salad' 'blood sugar' 'coat bottom'\n",
      " 'blossom milder' 'coat' 'blue buffalo' 'blue moon' 'blue runner']\n"
     ]
    }
   ],
   "source": [
    "features = (-w_Pos_bi).argsort()\n",
    "print(np.take(bi_gram.get_feature_names(), features[:10]))"
   ]
  },
  {
   "cell_type": "code",
   "execution_count": 0,
   "metadata": {
    "colab": {
     "base_uri": "https://localhost:8080/",
     "height": 51
    },
    "colab_type": "code",
    "id": "ahN8Ed-UEYGK",
    "outputId": "c8a09eab-86ca-4c36-f3ed-91731eb3594a"
   },
   "outputs": [
    {
     "name": "stdout",
     "output_type": "stream",
     "text": [
      "['base look' 'comfort' 'also love' 'around kitchen' 'broken pod'\n",
      " 'cost throw' 'delici sweet' 'altern along' 'anyway hope' 'comment happi']\n"
     ]
    }
   ],
   "source": [
    "features = (-w_Neg_bi).argsort()\n",
    "print(np.take(bi_gram.get_feature_names(), features[:10]))"
   ]
  },
  {
   "cell_type": "markdown",
   "metadata": {
    "colab_type": "text",
    "id": "lA_k9lflSQIo"
   },
   "source": [
    "# 5 TF-IDF"
   ]
  },
  {
   "cell_type": "code",
   "execution_count": 0,
   "metadata": {
    "colab": {},
    "colab_type": "code",
    "id": "s8adL5MsbG9W"
   },
   "outputs": [],
   "source": [
    "tf_idf_vect = TfidfVectorizer(ngram_range=(1,2))\n",
    "x_tr_tfidf = tf_idf_vect.fit_transform(x_tr)\n",
    "x_test_tfidf = tf_idf_vect.transform(x_test)\n",
    "x_tr_tfidf = StandardScaler(with_mean = False).fit_transform(x_tr_tfidf)\n",
    "x_test_tfidf = StandardScaler(with_mean = False).fit_transform(x_test_tfidf)"
   ]
  },
  {
   "cell_type": "markdown",
   "metadata": {
    "colab_type": "text",
    "id": "ZP66lokf-QC2"
   },
   "source": [
    "# 5.1 GridSearch"
   ]
  },
  {
   "cell_type": "markdown",
   "metadata": {
    "colab_type": "text",
    "id": "vidlsGWX-cVm"
   },
   "source": [
    "## 5.1.1 Finding the optimal C using GridsearchCv"
   ]
  },
  {
   "cell_type": "code",
   "execution_count": 0,
   "metadata": {
    "colab": {
     "base_uri": "https://localhost:8080/",
     "height": 584
    },
    "colab_type": "code",
    "id": "DG7lsxf3SQIp",
    "outputId": "8bfc3cb4-ad6b-47a1-d788-60ae934df760"
   },
   "outputs": [
    {
     "name": "stdout",
     "output_type": "stream",
     "text": [
      "Fitting 5 folds for each of 5 candidates, totalling 25 fits\n"
     ]
    },
    {
     "name": "stderr",
     "output_type": "stream",
     "text": [
      "[Parallel(n_jobs=1)]: Done  25 out of  25 | elapsed:  1.1min finished\n"
     ]
    },
    {
     "name": "stdout",
     "output_type": "stream",
     "text": [
      "Best HyperParameter:  {'C': 0.01}\n",
      "0.8836329910519565\n"
     ]
    },
    {
     "data": {
      "image/png": "[encoded data removed]",
      "text/plain": [
       "<matplotlib.figure.Figure at 0x7f576706be80>"
      ]
     },
     "metadata": {
      "tags": []
     },
     "output_type": "display_data"
    }
   ],
   "source": [
    "LR = LogisticRegression(penalty='l1')\n",
    "C_value = [{'C': [10**-4, 10**-2, 10**0, 10**2, 10**4]}]\n",
    "gsv = GridSearchCV(LR,C_value,cv=5,verbose=1,scoring='f1_weighted')\n",
    "gsv.fit(x_tr_tfidf,y_tr)\n",
    "print(\"Best HyperParameter: \",gsv.best_params_)\n",
    "print(gsv.best_score_)\n",
    "optimal_C=gsv.best_score_\n",
    "\n",
    "\n",
    "\n",
    "x=[]\n",
    "y=[]\n",
    "plt.figure(figsize=(8,8))\n",
    "for a in gsv.grid_scores_:\n",
    "    x.append(a[0]['C']) \n",
    "    y.append(a[1]\n",
    "plt.xlabel(\"C\",fontsize=15)\n",
    "plt.ylabel(\"f1_weighted\")\n",
    "plt.title('f1_weighted v/s C')\n",
    "plt.plot(x,y,linestyle='dashed', marker='o', markerfacecolor='red', markersize=10)\n",
    "plt.show()"
   ]
  },
  {
   "cell_type": "markdown",
   "metadata": {
    "colab_type": "text",
    "id": "0adRPMSr-RId"
   },
   "source": [
    "## 5.1.2 finding the accuracy in Test data using optimal C"
   ]
  },
  {
   "cell_type": "code",
   "execution_count": 0,
   "metadata": {
    "colab": {
     "base_uri": "https://localhost:8080/",
     "height": 436
    },
    "colab_type": "code",
    "id": "EB2OhfCJNPb7",
    "outputId": "ce4889b9-34dd-4237-bc25-742e22095b58"
   },
   "outputs": [
    {
     "name": "stdout",
     "output_type": "stream",
     "text": [
      "Accuracy on test set: 91.260%\n",
      "Precision on test set: 0.902\n",
      "Recall on test set: 0.783\n",
      "F1-Score on test set: 0.826\n"
     ]
    },
    {
     "data": {
      "text/plain": [
       "<matplotlib.axes._subplots.AxesSubplot at 0x7f2b33225c18>"
      ]
     },
     "execution_count": 31,
     "metadata": {
      "tags": []
     },
     "output_type": "execute_result"
    },
    {
     "data": {
      "image/png": "[encoded data removed]",
      "text/plain": [
       "<matplotlib.figure.Figure at 0x7f2b0effe588>"
      ]
     },
     "metadata": {
      "tags": []
     },
     "output_type": "display_data"
    }
   ],
   "source": [
    "LR= LogisticRegression(penalty='l1',C=optimal_C)\n",
    "LR.fit(x_tr_tfidf,y_tr)\n",
    "y_pred =LR.predict(x_test_tfidf)\n",
    "print(\"Accuracy on test set: %0.3f%%\"%(accuracy_score(y_test, y_pred)*100))\n",
    "print(\"Precision on test set: %0.3f\"%(precision_score(y_test, y_pred,average='macro')))\n",
    "print(\"Recall on test set: %0.3f\"%(recall_score(y_test, y_pred,average='macro')))\n",
    "print(\"F1-Score on test set: %0.3f\"%(f1_score(y_test, y_pred,average='macro')))\n",
    "df_cm = pd.DataFrame(confusion_matrix(y_test, y_pred), range(2),range(2))\n",
    "sns.set(font_scale=1.4)#for label size\n",
    "sns.heatmap(df_cm, annot=True,annot_kws={\"size\": 16}, fmt='g')"
   ]
  },
  {
   "cell_type": "markdown",
   "metadata": {
    "colab_type": "text",
    "id": "MkEArHIjnLs5"
   },
   "source": [
    "# 5.2 RandomSearchCv"
   ]
  },
  {
   "cell_type": "markdown",
   "metadata": {
    "colab_type": "text",
    "id": "JuIszRs2-8UB"
   },
   "source": [
    "## 5.2.1 Finding the optimal C using RandomSearchCv"
   ]
  },
  {
   "cell_type": "code",
   "execution_count": 0,
   "metadata": {
    "colab": {
     "base_uri": "https://localhost:8080/",
     "height": 584
    },
    "colab_type": "code",
    "id": "4FbH8Ph8nR2Q",
    "outputId": "bd136146-53f3-4e7b-a037-da08a9341034"
   },
   "outputs": [
    {
     "name": "stdout",
     "output_type": "stream",
     "text": [
      "Fitting 5 folds for each of 10 candidates, totalling 50 fits\n"
     ]
    },
    {
     "name": "stderr",
     "output_type": "stream",
     "text": [
      "[Parallel(n_jobs=1)]: Done  50 out of  50 | elapsed:  2.8min finished\n"
     ]
    },
    {
     "name": "stdout",
     "output_type": "stream",
     "text": [
      "Best HyperParameter:  {'C': 0.04124178703030934}\n",
      "0.8804320582072727\n"
     ]
    },
    {
     "data": {
      "image/png": "[encoded data removed]",
      "text/plain": [
       "<matplotlib.figure.Figure at 0x7f576cbaec88>"
      ]
     },
     "metadata": {
      "tags": []
     },
     "output_type": "display_data"
    }
   ],
   "source": [
    "LR = LogisticRegression(penalty='l1')\n",
    "C_value = {'C':uniform()}\n",
    "gsv = RandomizedSearchCV(LR,C_value,cv=5,verbose=1,scoring='f1_weighted')\n",
    "gsv.fit(x_tr_tfidf,y_tr)\n",
    "print(\"Best HyperParameter: \",gsv.best_params_)\n",
    "print(gsv.best_score_)\n",
    "optimal_C=gsv.best_score_\n",
    "\n",
    "\n",
    "\n",
    "x=[]\n",
    "y=[]\n",
    "plt.figure(figsize=(8,8))\n",
    "for a in gsv.grid_scores_:\n",
    "    x.append(a[0]['C']) \n",
    "    y.append(a[1])\n",
    "plt.xlabel(\"C\",fontsize=15)\n",
    "plt.ylabel(\"f1_weighted\")\n",
    "plt.title('f1_weighted v/s C')\n",
    "plt.plot(x,y,linestyle='dashed', marker='o', markerfacecolor='red', markersize=10)\n",
    "plt.show()"
   ]
  },
  {
   "cell_type": "markdown",
   "metadata": {
    "colab_type": "text",
    "id": "U0s60xJh_IFz"
   },
   "source": [
    "## 5.2.2 finding the accuracy in Test data using optimal C"
   ]
  },
  {
   "cell_type": "code",
   "execution_count": 0,
   "metadata": {
    "colab": {
     "base_uri": "https://localhost:8080/",
     "height": 436
    },
    "colab_type": "code",
    "id": "H-g5eNebnVyN",
    "outputId": "6d656ed7-e051-422c-ab04-9f9757679064"
   },
   "outputs": [
    {
     "name": "stdout",
     "output_type": "stream",
     "text": [
      "Accuracy on test set: 91.035%\n",
      "Precision on test set: 0.893\n",
      "Recall on test set: 0.782\n",
      "F1-Score on test set: 0.823\n"
     ]
    },
    {
     "data": {
      "text/plain": [
       "<matplotlib.axes._subplots.AxesSubplot at 0x7f2b30c97a58>"
      ]
     },
     "execution_count": 32,
     "metadata": {
      "tags": []
     },
     "output_type": "execute_result"
    },
    {
     "data": {
      "image/png": "[encoded data removed]",
      "text/plain": [
       "<matplotlib.figure.Figure at 0x7f2b2b9f6e10>"
      ]
     },
     "metadata": {
      "tags": []
     },
     "output_type": "display_data"
    }
   ],
   "source": [
    "LR= LogisticRegression(penalty='l1',C=optimal_C)\n",
    "LR.fit(x_tr_tfidf,y_tr)\n",
    "y_pred =LR.predict(x_test_tfidf)\n",
    "print(\"Accuracy on test set: %0.3f%%\"%(accuracy_score(y_test, y_pred)*100))\n",
    "print(\"Precision on test set: %0.3f\"%(precision_score(y_test, y_pred,average='macro')))\n",
    "print(\"Recall on test set: %0.3f\"%(recall_score(y_test, y_pred,average='macro')))\n",
    "print(\"F1-Score on test set: %0.3f\"%(f1_score(y_test, y_pred,average='macro')))\n",
    "df_cm = pd.DataFrame(confusion_matrix(y_test, y_pred), range(2),range(2))\n",
    "sns.set(font_scale=1.4)#for label size\n",
    "sns.heatmap(df_cm, annot=True,annot_kws={\"size\": 16}, fmt='g')"
   ]
  },
  {
   "cell_type": "markdown",
   "metadata": {
    "colab_type": "text",
    "id": "RmAKxbE4-8pt"
   },
   "source": [
    "### Adding small noise in train data"
   ]
  },
  {
   "cell_type": "code",
   "execution_count": 0,
   "metadata": {
    "colab": {},
    "colab_type": "code",
    "id": "agEDF6nQ-8py"
   },
   "outputs": [],
   "source": [
    "epsilon = np.random.normal(loc=0.0, scale=0.00000001,size=x_tr_tfidf.shape)\n",
    "x_tr_tfidf_Epsilon= x_tr_tfidf + epsilon"
   ]
  },
  {
   "cell_type": "markdown",
   "metadata": {
    "colab_type": "text",
    "id": "a7cS2Wlj-8p4"
   },
   "source": [
    "### Find with weight vector using train without noise"
   ]
  },
  {
   "cell_type": "code",
   "execution_count": 0,
   "metadata": {
    "colab": {},
    "colab_type": "code",
    "id": "asdaVsUR-8p5"
   },
   "outputs": [],
   "source": [
    "LR= LogisticRegression(penalty='l1',C=1000)\n",
    "LR.fit(x_tr_tfidf,y_tr)\n",
    "w_1=LR.coef_"
   ]
  },
  {
   "cell_type": "markdown",
   "metadata": {
    "colab_type": "text",
    "id": "50r_Anpf-8p9"
   },
   "source": [
    "### Find with weight vector using train with noise"
   ]
  },
  {
   "cell_type": "code",
   "execution_count": 0,
   "metadata": {
    "colab": {},
    "colab_type": "code",
    "id": "OMiltgr6-8p-"
   },
   "outputs": [],
   "source": [
    "LR= LogisticRegression(penalty='l1',C=1000)\n",
    "LR.fit(x_tr_tfidf_Epsilon,y_tr)\n",
    "w_2=LR.coef_"
   ]
  },
  {
   "cell_type": "code",
   "execution_count": 0,
   "metadata": {
    "colab": {},
    "colab_type": "code",
    "id": "OgATQOcJIGrV"
   },
   "outputs": [],
   "source": [
    "w=(w_2-w_1)\n",
    "w=w/w_1\n"
   ]
  },
  {
   "cell_type": "code",
   "execution_count": 0,
   "metadata": {
    "colab": {},
    "colab_type": "code",
    "id": "wlpXI7ThIGrX"
   },
   "outputs": [],
   "source": [
    "w=np.nan_to_num(w)"
   ]
  },
  {
   "cell_type": "code",
   "execution_count": 0,
   "metadata": {
    "colab": {
     "base_uri": "https://localhost:8080/",
     "height": 51
    },
    "colab_type": "code",
    "id": "njrk4JkzIGra",
    "outputId": "183815f0-fb44-49d8-b89e-b78477325a1b"
   },
   "outputs": [
    {
     "data": {
      "text/plain": [
       "array([[ 2.35053779e+001,  1.51501257e+001,  0.00000000e+000, ...,\n",
       "        -1.79769313e+308,  0.00000000e+000,  0.00000000e+000]])"
      ]
     },
     "execution_count": 198,
     "metadata": {
      "tags": []
     },
     "output_type": "execute_result"
    }
   ],
   "source": [
    "w=w*100\n",
    "w=w[np.where( w < 30 )]"
   ]
  },
  {
   "cell_type": "markdown",
   "metadata": {
    "colab_type": "text",
    "id": "WGpBFpFSIGrn"
   },
   "source": [
    "#### dividing W list into p_pos(+ve feature) and n_neg (-ve features)"
   ]
  },
  {
   "cell_type": "code",
   "execution_count": 0,
   "metadata": {
    "colab": {},
    "colab_type": "code",
    "id": "ViMsg6WGIGrn"
   },
   "outputs": [],
   "source": [
    "w_Pos_tfidf=w[np.where( w > 0 )]\n",
    "w_Neg_tfidf=w[np.where( w < 0 )]"
   ]
  },
  {
   "cell_type": "code",
   "execution_count": 0,
   "metadata": {
    "colab": {
     "base_uri": "https://localhost:8080/",
     "height": 51
    },
    "colab_type": "code",
    "id": "_0EOxRTbIGrw",
    "outputId": "ace93e25-7ae5-4c66-8ce7-265a27c12f6a"
   },
   "outputs": [
    {
     "name": "stdout",
     "output_type": "stream",
     "text": [
      "['benefit digest' 'bold' 'clear scalp' 'bold flavor' 'bold without' 'bomb'\n",
      " 'bomb cant' 'bone area' 'clear product' 'clear one']\n"
     ]
    }
   ],
   "source": [
    "features = (-w_Pos_tfidf).argsort()\n",
    "print(np.take(tf_idf_vect.get_feature_names(), features[:10]))"
   ]
  },
  {
   "cell_type": "code",
   "execution_count": 0,
   "metadata": {
    "colab": {
     "base_uri": "https://localhost:8080/",
     "height": 51
    },
    "colab_type": "code",
    "id": "iQv9dyHOIGr2",
    "outputId": "36660627-3039-4735-a3ca-d5e3a6873a2a"
   },
   "outputs": [
    {
     "name": "stdout",
     "output_type": "stream",
     "text": [
      "['alon food' 'beat eas' 'come chicken' 'bonus delici' 'come could'\n",
      " 'buy trhough' 'amazon never' 'cayenn' 'buy fewer' 'brew quick']\n"
     ]
    }
   ],
   "source": [
    "features = (-w_Neg_tfidf).argsort()\n",
    "print(np.take(tf_idf_vect.get_feature_names(), features[:10]))"
   ]
  },
  {
   "cell_type": "markdown",
   "metadata": {
    "colab_type": "text",
    "id": "EL0FN_FWSQIt"
   },
   "source": [
    "# 6 Word2Vec"
   ]
  },
  {
   "cell_type": "code",
   "execution_count": 0,
   "metadata": {
    "colab": {},
    "colab_type": "code",
    "id": "R6OZBLqQSQIx"
   },
   "outputs": [],
   "source": [
    "i=0\n",
    "list_of_sent=[]\n",
    "for sent in x_tr:\n",
    "    list_of_sent.append(sent.split())\n",
    "i=0\n",
    "list_of_sent_test=[]\n",
    "for sent in x_test:\n",
    "    list_of_sent_test.append(sent.split())"
   ]
  },
  {
   "cell_type": "code",
   "execution_count": 0,
   "metadata": {
    "colab": {},
    "colab_type": "code",
    "id": "KIH5LmpnLUfr"
   },
   "outputs": [],
   "source": [
    "w2v_model=Word2Vec(list_of_sent,min_count=5,size=50, workers=4)"
   ]
  },
  {
   "cell_type": "code",
   "execution_count": 0,
   "metadata": {
    "colab": {
     "base_uri": "https://localhost:8080/",
     "height": 71
    },
    "colab_type": "code",
    "id": "w38ekNLKQc6v",
    "outputId": "b0360c72-42f1-4774-e4a1-bafe2981d59d"
   },
   "outputs": [
    {
     "name": "stdout",
     "output_type": "stream",
     "text": [
      "number of words that occured minimum 5 times  7482\n",
      "sample words  ['big', 'lover', 'fig', 'jam', 'uniqu', 'flavor', 'kind', 'mix', 'light', 'dark', 'mission', 'must', 'tri', 'great', 'product', 'good', 'price', 'definit', 'order', 'use', 'bottl', 'empti', 'expect', 'box', 'full', 'fortun', 'cooki', 'like', 'one', 'nonetheless', 'got', 'small', 'tast', 'weird', 'okay', 'best', 'ever', 'review', 'amazon', 'check', 'label', 'contain', 'sure', 'enough', 'propylen', 'glycol', 'top', 'ingredi', 'ive', 'done']\n"
     ]
    }
   ],
   "source": [
    "w2v_words = list(w2v_model.wv.vocab)\n",
    "print(\"number of words that occured minimum 5 times \",len(w2v_words))\n",
    "print(\"sample words \", w2v_words[0:50])"
   ]
  },
  {
   "cell_type": "markdown",
   "metadata": {
    "colab_type": "text",
    "id": "lv-Z2dFqSQJa"
   },
   "source": [
    "# 7.Avg W2V"
   ]
  },
  {
   "cell_type": "code",
   "execution_count": 0,
   "metadata": {
    "colab": {
     "base_uri": "https://localhost:8080/",
     "height": 51
    },
    "colab_type": "code",
    "id": "8Mx0A6gISQJb",
    "outputId": "c9b2476c-a169-4193-a3d0-3b82be6edf2e"
   },
   "outputs": [
    {
     "name": "stdout",
     "output_type": "stream",
     "text": [
      "32000\n",
      "50\n"
     ]
    }
   ],
   "source": [
    "# average Word2Vec\n",
    "# compute average word2vec for each review.\n",
    "sent_vectors = []; # the avg-w2v for each sentence/review is stored in this list\n",
    "for sent in list_of_sent: # for each review/sentence\n",
    "    sent_vec = np.zeros(50) # as word vectors are of zero length\n",
    "    cnt_words =0; # num of words with a valid vector in the sentence/review\n",
    "    for word in sent: # for each word in a review/sentence\n",
    "        if word in w2v_words:\n",
    "            vec = w2v_model.wv[word]\n",
    "            sent_vec += vec\n",
    "            cnt_words += 1\n",
    "    if cnt_words != 0:\n",
    "        sent_vec /= cnt_words\n",
    "    sent_vectors.append(sent_vec)\n",
    "print(len(sent_vectors))\n",
    "print(len(sent_vectors[0]))"
   ]
  },
  {
   "cell_type": "code",
   "execution_count": 0,
   "metadata": {
    "colab": {
     "base_uri": "https://localhost:8080/",
     "height": 51
    },
    "colab_type": "code",
    "id": "wiYnx_kUPzU-",
    "outputId": "9745b1f5-5dde-44af-ba29-a8615029aa73"
   },
   "outputs": [
    {
     "name": "stdout",
     "output_type": "stream",
     "text": [
      "8000\n",
      "50\n"
     ]
    }
   ],
   "source": [
    "# average Word2Vec\n",
    "# compute average word2vec for each review.\n",
    "sent_vectors_test = []; # the avg-w2v for each sentence/review is stored in this list\n",
    "for sent in list_of_sent_test: # for each review/sentence\n",
    "    sent_vec = np.zeros(50) # as word vectors are of zero length\n",
    "    cnt_words =0; # num of words with a valid vector in the sentence/review\n",
    "    for word in sent: # for each word in a review/sentence\n",
    "        if word in w2v_words:\n",
    "            vec = w2v_model.wv[word]\n",
    "            sent_vec += vec\n",
    "            cnt_words += 1\n",
    "    if cnt_words != 0:\n",
    "        sent_vec /= cnt_words\n",
    "    sent_vectors_test.append(sent_vec)\n",
    "print(len(sent_vectors_test))\n",
    "print(len(sent_vectors_test[0]))"
   ]
  },
  {
   "cell_type": "code",
   "execution_count": 0,
   "metadata": {
    "colab": {},
    "colab_type": "code",
    "id": "EOr2TDAKofbS"
   },
   "outputs": [],
   "source": [
    "x_test_av1=sent_vectors_test\n",
    "x_tr_av1=sent_vectors\n",
    "\n",
    "x_test_av1 = StandardScaler(with_mean = False).fit_transform(x_test_av1)\n",
    "x_tr_av1 = StandardScaler(with_mean = False).fit_transform(x_tr_av1)"
   ]
  },
  {
   "cell_type": "markdown",
   "metadata": {
    "colab_type": "text",
    "id": "nGhBabQL_QSb"
   },
   "source": [
    "# 7.1 Gridsearch"
   ]
  },
  {
   "cell_type": "markdown",
   "metadata": {
    "colab_type": "text",
    "id": "-PPlukPI_XkV"
   },
   "source": [
    "## 7.1.1 Finding the optimal C using GridSearchcv "
   ]
  },
  {
   "cell_type": "code",
   "execution_count": 0,
   "metadata": {
    "colab": {
     "base_uri": "https://localhost:8080/",
     "height": 584
    },
    "colab_type": "code",
    "id": "ZBA9WBuMRupr",
    "outputId": "2528df77-f0f2-4a88-d9e3-3de976edba72"
   },
   "outputs": [
    {
     "name": "stdout",
     "output_type": "stream",
     "text": [
      "Fitting 5 folds for each of 5 candidates, totalling 25 fits\n"
     ]
    },
    {
     "name": "stderr",
     "output_type": "stream",
     "text": [
      "[Parallel(n_jobs=1)]: Done  25 out of  25 | elapsed:  2.6min finished\n"
     ]
    },
    {
     "name": "stdout",
     "output_type": "stream",
     "text": [
      "Best HyperParameter:  {'C': 1}\n",
      "0.8702509230254457\n"
     ]
    },
    {
     "data": {
      "image/png": "[encoded data removed]",
      "text/plain": [
       "<matplotlib.figure.Figure at 0x7f576cbaeac8>"
      ]
     },
     "metadata": {
      "tags": []
     },
     "output_type": "display_data"
    }
   ],
   "source": [
    "LR = LogisticRegression(penalty='l1')\n",
    "C_value = [{'C': [10**-4, 10**-2, 10**0, 10**2, 10**4]}]\n",
    "gsv = GridSearchCV(LR,C_value,cv=5,verbose=1,scoring='f1_weighted')\n",
    "gsv.fit(x_tr_av1,y_tr)\n",
    "print(\"Best HyperParameter: \",gsv.best_params_)\n",
    "print(gsv.best_score_)\n",
    "optimal_C=gsv.best_score_\n",
    "\n",
    "\n",
    "x=[]\n",
    "y=[]\n",
    "plt.figure(figsize=(8,8))\n",
    "for a in gsv.grid_scores_:\n",
    "    x.append(a[0]['C']) \n",
    "    y.append(a[1])\n",
    "plt.xlabel(\"C\",fontsize=15)\n",
    "plt.ylabel(\"f1_weighted\")\n",
    "plt.title('f1_weighted v/s C')\n",
    "plt.plot(x,y,linestyle='dashed', marker='o', markerfacecolor='red', markersize=10)\n",
    "plt.show()"
   ]
  },
  {
   "cell_type": "markdown",
   "metadata": {
    "colab_type": "text",
    "id": "lVgM_OR-F7D3"
   },
   "source": [
    "## 7.1.2 finding the accuracy in Test data using optimal C"
   ]
  },
  {
   "cell_type": "code",
   "execution_count": 0,
   "metadata": {
    "colab": {
     "base_uri": "https://localhost:8080/",
     "height": 419
    },
    "colab_type": "code",
    "id": "SRHX5n7qWmfF",
    "outputId": "016f6cee-10b8-4fa0-9bed-ea415a952d30"
   },
   "outputs": [
    {
     "name": "stdout",
     "output_type": "stream",
     "text": [
      "\n",
      "Recall on test set: 0.748\n",
      "F1-Score on test set: 0.780\n"
     ]
    },
    {
     "data": {
      "text/plain": [
       "<matplotlib.axes._subplots.AxesSubplot at 0x7fd154a33ef0>"
      ]
     },
     "execution_count": 36,
     "metadata": {
      "tags": []
     },
     "output_type": "execute_result"
    },
    {
     "data": {
      "image/png": "[encoded data removed]",
      "text/plain": [
       "<matplotlib.figure.Figure at 0x7fd154e63c88>"
      ]
     },
     "metadata": {
      "tags": []
     },
     "output_type": "display_data"
    }
   ],
   "source": [
    "LR= LogisticRegression(penalty='l1',C=optimal_C)\n",
    "LR.fit(x_tr_av1,y_tr)\n",
    "y_pred =LR.predict(x_test_av1)\n",
    "print(\"Accuracy on test set: %0.3f%%\"%(accuracy_score(y_test, y_pred)*100))\n",
    "print(\"Precision on test set: %0.3f\"%(precision_score(y_test, y_pred,average='macro')))\n",
    "print(\"Recall on test set: %0.3f\"%(recall_score(y_test, y_pred,average='macro')))\n",
    "print(\"F1-Score on test set: %0.3f\"%(f1_score(y_test, y_pred,average='macro')))\n",
    "df_cm = pd.DataFrame(confusion_matrix(y_test, y_pred), range(2),range(2))\n",
    "sns.set(font_scale=1.4)#for label size\n",
    "sns.heatmap(df_cm, annot=True,annot_kws={\"size\": 16}, fmt='g')"
   ]
  },
  {
   "cell_type": "markdown",
   "metadata": {
    "colab_type": "text",
    "id": "TQ7IWo2JoLQ_"
   },
   "source": [
    "## 7.2 RandomSearchCv"
   ]
  },
  {
   "cell_type": "markdown",
   "metadata": {
    "colab_type": "text",
    "id": "AfPShRsrFxR5"
   },
   "source": [
    "## 7.2.1 Finding the optimal C using RandomSearchCv"
   ]
  },
  {
   "cell_type": "code",
   "execution_count": 0,
   "metadata": {
    "colab": {
     "base_uri": "https://localhost:8080/",
     "height": 85
    },
    "colab_type": "code",
    "id": "ulTRTVqpoSiZ",
    "outputId": "0eeae4bb-a81e-4ade-d749-d276f00caeaf"
   },
   "outputs": [
    {
     "name": "stdout",
     "output_type": "stream",
     "text": [
      "Fitting 5 folds for each of 10 candidates, totalling 50 fits\n"
     ]
    },
    {
     "name": "stderr",
     "output_type": "stream",
     "text": [
      "[Parallel(n_jobs=1)]: Done  50 out of  50 | elapsed:  2.4min finished\n"
     ]
    },
    {
     "name": "stdout",
     "output_type": "stream",
     "text": [
      "Best HyperParameter:  {'C': 0.369105965905427}\n",
      "0.8798125\n"
     ]
    }
   ],
   "source": [
    "from scipy.stats import uniform\n",
    "LR = LogisticRegression(penalty='l1')\n",
    "C_value = {'C':uniform()}\n",
    "gsv = RandomizedSearchCV(LR,C_value,cv=5,verbose=1,scoring='f1_weighted')\n",
    "gsv.fit(x_tr_av1,y_tr)\n",
    "print(\"Best HyperParameter: \",gsv.best_params_)\n",
    "print(gsv.best_score_)\n",
    "optimal_C=gsv.best_score_\n",
    "\n",
    "\n",
    "\n",
    "x=[]\n",
    "y=[]\n",
    "plt.figure(figsize=(8,8))\n",
    "for a in gsv.grid_scores_:\n",
    "    x.append(a[0]['C']) \n",
    "    y.append(a[1])\n",
    "plt.xlabel(\"C\",fontsize=15)\n",
    "plt.ylabel(\"f1_weighted\")\n",
    "plt.title('f1_weighted v/s C')\n",
    "plt.plot(x,y,linestyle='dashed', marker='o', markerfacecolor='red', markersize=10)\n",
    "plt.show()"
   ]
  },
  {
   "cell_type": "markdown",
   "metadata": {
    "colab_type": "text",
    "id": "Zc6OvdZFGGvr"
   },
   "source": [
    "## 7.2.2 Finding the optimal C using GridSearch"
   ]
  },
  {
   "cell_type": "code",
   "execution_count": 0,
   "metadata": {
    "colab": {
     "base_uri": "https://localhost:8080/",
     "height": 436
    },
    "colab_type": "code",
    "id": "PWfq5NoboTJ8",
    "outputId": "3aa93339-5396-4dea-bf2f-66ae19154cc3"
   },
   "outputs": [
    {
     "name": "stdout",
     "output_type": "stream",
     "text": [
      "Accuracy on test set: 88.565%\n",
      "Precision on test set: 0.829\n",
      "Recall on test set: 0.746\n",
      "F1-Score on test set: 0.777\n"
     ]
    },
    {
     "data": {
      "text/plain": [
       "<matplotlib.axes._subplots.AxesSubplot at 0x7f2aff535128>"
      ]
     },
     "execution_count": 40,
     "metadata": {
      "tags": []
     },
     "output_type": "execute_result"
    },
    {
     "data": {
      "image/png": "[encoded data removed]",
      "text/plain": [
       "<matplotlib.figure.Figure at 0x7f2b2e7a7908>"
      ]
     },
     "metadata": {
      "tags": []
     },
     "output_type": "display_data"
    }
   ],
   "source": [
    "LR= LogisticRegression(penalty='l1',C=optimal_C)\n",
    "LR.fit(x_tr_av1,y_tr)\n",
    "y_pred =LR.predict(x_test_av1)\n",
    "print(\"Accuracy on test set: %0.3f%%\"%(accuracy_score(y_test, y_pred)*100))\n",
    "print(\"Precision on test set: %0.3f\"%(precision_score(y_test, y_pred,average='macro')))\n",
    "print(\"Recall on test set: %0.3f\"%(recall_score(y_test, y_pred,average='macro')))\n",
    "print(\"F1-Score on test set: %0.3f\"%(f1_score(y_test, y_pred,average='macro')))\n",
    "df_cm = pd.DataFrame(confusion_matrix(y_test, y_pred), range(2),range(2))\n",
    "sns.set(font_scale=1.4)#for label size\n",
    "sns.heatmap(df_cm, annot=True,annot_kws={\"size\": 16}, fmt='g')"
   ]
  },
  {
   "cell_type": "markdown",
   "metadata": {
    "colab_type": "text",
    "id": "Y3BQBcyCwxBp"
   },
   "source": [
    "# 8. TFIDF-W2V"
   ]
  },
  {
   "cell_type": "code",
   "execution_count": 0,
   "metadata": {
    "colab": {},
    "colab_type": "code",
    "id": "gY1YD6si3Qpq"
   },
   "outputs": [],
   "source": [
    "tf_idf_vect = TfidfVectorizer()\n",
    "final_tf_idf = tf_idf_vect.fit_transform(x_tr)\n",
    "dictionary = dict(zip(tf_idf_vect.get_feature_names(), list(tf_idf_vect.idf_)))"
   ]
  },
  {
   "cell_type": "code",
   "execution_count": 0,
   "metadata": {
    "colab": {
     "base_uri": "https://localhost:8080/",
     "height": 34
    },
    "colab_type": "code",
    "id": "CriEBX5cPGEQ",
    "outputId": "329f0e92-f715-4ecf-be89-2a0c44f4531c"
   },
   "outputs": [
    {
     "name": "stderr",
     "output_type": "stream",
     "text": [
      "100%|██████████| 80000/80000 [02:08<00:00, 622.37it/s]\n"
     ]
    }
   ],
   "source": [
    "# TF-IDF weighted Word2Vec\n",
    "tfidf_feat = tf_idf_vect.get_feature_names() # tfidf words/col-names\n",
    "# final_tf_idf is the sparse matrix with row= sentence, col=word and cell_val = tfidf\n",
    "\n",
    "tfidf_sent_vectors = []; # the tfidf-w2v for each sentence/review is stored in this list\n",
    "row=0;\n",
    "for sent in tqdm(list_of_sent): # for each review/sentence \n",
    "    sent_vec = np.zeros(50) # as word vectors are of zero length\n",
    "    weight_sum =0; # num of words with a valid vector in the sentence/review\n",
    "    for word in sent: # for each word in a review/sentence\n",
    "        if word in w2v_words:\n",
    "            vec = w2v_model.wv[word]\n",
    "            tf_idf = dictionary[word]*sent.count(word)\n",
    "            sent_vec += (vec * tf_idf)\n",
    "            weight_sum += tf_idf\n",
    "    if weight_sum != 0:\n",
    "        sent_vec /= weight_sum\n",
    "    tfidf_sent_vectors.append(sent_vec)\n",
    "    row += 1"
   ]
  },
  {
   "cell_type": "code",
   "execution_count": 0,
   "metadata": {
    "colab": {
     "base_uri": "https://localhost:8080/",
     "height": 34
    },
    "colab_type": "code",
    "id": "KzdiR_KAPJix",
    "outputId": "39b0f746-33ad-4476-d1bf-65f31f3991e7"
   },
   "outputs": [
    {
     "name": "stderr",
     "output_type": "stream",
     "text": [
      "100%|██████████| 20000/20000 [00:33<00:00, 588.58it/s]\n"
     ]
    }
   ],
   "source": [
    "# TF-IDF weighted Word2Vec\n",
    "tfidf_feat = tf_idf_vect.get_feature_names() # tfidf words/col-names\n",
    "# final_tf_idf is the sparse matrix with row= sentence, col=word and cell_val = tfidf\n",
    "\n",
    "tfidf_sent_vectors_test = []; # the tfidf-w2v for each sentence/review is stored in this list\n",
    "row=0;\n",
    "for sent in tqdm(list_of_sent_test): # for each review/sentence \n",
    "    sent_vec = np.zeros(50) # as word vectors are of zero length\n",
    "    weight_sum =0; # num of words with a valid vector in the sentence/review\n",
    "    for word in sent: # for each word in a review/sentence\n",
    "        if word in w2v_words:\n",
    "            vec = w2v_model.wv[word]\n",
    "            tf_idf = dictionary[word]*sent.count(word)\n",
    "            sent_vec += (vec * tf_idf)\n",
    "            weight_sum += tf_idf\n",
    "    if weight_sum != 0:\n",
    "        sent_vec /= weight_sum\n",
    "    tfidf_sent_vectors_test.append(sent_vec)\n",
    "    row += 1"
   ]
  },
  {
   "cell_type": "code",
   "execution_count": 0,
   "metadata": {
    "colab": {},
    "colab_type": "code",
    "id": "6F9Z7kdGz375"
   },
   "outputs": [],
   "source": [
    "x_test_tdfw2v=tfidf_sent_vectors_test\n",
    "x_tr_tdfw2v=tfidf_sent_vectors\n",
    "x_test_tdfw2v = StandardScaler(with_mean = False).fit_transform(x_test_tdfw2v)\n",
    "x_tr_tdfw2v = StandardScaler(with_mean = False).fit_transform(x_tr_tdfw2v)"
   ]
  },
  {
   "cell_type": "markdown",
   "metadata": {
    "colab_type": "text",
    "id": "kYk57zyWGQOi"
   },
   "source": [
    "## 8.1 GridSearch"
   ]
  },
  {
   "cell_type": "markdown",
   "metadata": {
    "colab_type": "text",
    "id": "co1gXlywGa04"
   },
   "source": [
    "### 8.1.1 Finding the optimal C using GridSearch"
   ]
  },
  {
   "cell_type": "code",
   "execution_count": 0,
   "metadata": {
    "colab": {
     "base_uri": "https://localhost:8080/",
     "height": 85
    },
    "colab_type": "code",
    "id": "emvyZGGix7Yn",
    "outputId": "76dfe17a-2262-4bc7-e86d-53018ea869f5"
   },
   "outputs": [
    {
     "name": "stdout",
     "output_type": "stream",
     "text": [
      "Fitting 5 folds for each of 5 candidates, totalling 25 fits\n"
     ]
    },
    {
     "name": "stderr",
     "output_type": "stream",
     "text": [
      "[Parallel(n_jobs=1)]: Done  25 out of  25 | elapsed:  1.4min finished\n"
     ]
    },
    {
     "name": "stdout",
     "output_type": "stream",
     "text": [
      "Best HyperParameter:  {'C': 10000}\n",
      "0.8594077660890298\n"
     ]
    }
   ],
   "source": [
    "LR = LogisticRegression(penalty='l2')\n",
    "C_value = [{'C': [10**-4, 10**-2, 10**0, 10**2, 10**4]}]\n",
    "gsv = GridSearchCV(LR,C_value,cv=5,verbose=1,scoring='f1_weighted')\n",
    "gsv.fit(x_tr_tdfw2v,y_tr)\n",
    "print(\"Best HyperParameter: \",gsv.best_params_)\n",
    "print(gsv.best_score_)\n",
    "optimal_C=gsv.best_score_\n",
    "\n",
    "x=[]\n",
    "y=[]\n",
    "plt.figure(figsize=(8,8))\n",
    "for a in gsv.grid_scores_:\n",
    "    x.append(a[0]['C']) \n",
    "    y.append(a[1]\n",
    "plt.xlabel(\"C\",fontsize=15)\n",
    "plt.ylabel(\"f1_weighted\")\n",
    "plt.title('f1_weighted v/s C')\n",
    "plt.plot(x,y,linestyle='dashed', marker='o', markerfacecolor='red', markersize=10)\n",
    "plt.show()"
   ]
  },
  {
   "cell_type": "markdown",
   "metadata": {
    "colab_type": "text",
    "id": "DMD6DFRGGW_T"
   },
   "source": [
    "### 8.1.2 finding the accuracy in Test data using optimal C"
   ]
  },
  {
   "cell_type": "code",
   "execution_count": 0,
   "metadata": {
    "colab": {
     "base_uri": "https://localhost:8080/",
     "height": 436
    },
    "colab_type": "code",
    "id": "DVz1PxMFvk-n",
    "outputId": "74096fa3-28eb-49c2-acef-32aa7d9bb7fb"
   },
   "outputs": [
    {
     "name": "stdout",
     "output_type": "stream",
     "text": [
      "Accuracy on test set: 86.775%\n",
      "Precision on test set: 0.774\n",
      "Recall on test set: 0.673\n",
      "F1-Score on test set: 0.705\n"
     ]
    },
    {
     "data": {
      "text/plain": [
       "<matplotlib.axes._subplots.AxesSubplot at 0x7f4699aa7588>"
      ]
     },
     "execution_count": 23,
     "metadata": {
      "tags": []
     },
     "output_type": "execute_result"
    },
    {
     "data": {
      "image/png": "[encoded data removed]",
      "text/plain": [
       "<matplotlib.figure.Figure at 0x7f4699aa59e8>"
      ]
     },
     "metadata": {
      "tags": []
     },
     "output_type": "display_data"
    }
   ],
   "source": [
    "LR= LogisticRegression(penalty='l2',C=optimal_C)\n",
    "LR.fit(x_tr_tdfw2v,y_tr)\n",
    "y_pred =LR.predict(x_test_tdfw2v)\n",
    "print(\"Accuracy on test set: %0.3f%%\"%(accuracy_score(y_test, y_pred)*100))\n",
    "print(\"Precision on test set: %0.3f\"%(precision_score(y_test, y_pred,average='macro')))\n",
    "print(\"Recall on test set: %0.3f\"%(recall_score(y_test, y_pred,average='macro')))\n",
    "print(\"F1-Score on test set: %0.3f\"%(f1_score(y_test, y_pred,average='macro')))\n",
    "df_cm = pd.DataFrame(confusion_matrix(y_test, y_pred), range(2),range(2))\n",
    "sns.set(font_scale=1.4)#for label size\n",
    "sns.heatmap(df_cm, annot=True,annot_kws={\"size\": 16}, fmt='g')"
   ]
  },
  {
   "cell_type": "markdown",
   "metadata": {
    "colab_type": "text",
    "id": "ImV6ZX3Yooaz"
   },
   "source": [
    "# 8.2 RandomSearchcv"
   ]
  },
  {
   "cell_type": "markdown",
   "metadata": {
    "colab_type": "text",
    "id": "WmmDDmN_HDk5"
   },
   "source": [
    "### 8.2.1 Finding the optimal C using RandomSearch"
   ]
  },
  {
   "cell_type": "code",
   "execution_count": 0,
   "metadata": {
    "colab": {
     "base_uri": "https://localhost:8080/",
     "height": 85
    },
    "colab_type": "code",
    "id": "gMhjE7q0onwD",
    "outputId": "80a3e526-e8cd-4acf-cc2f-a4056c370abf"
   },
   "outputs": [
    {
     "name": "stdout",
     "output_type": "stream",
     "text": [
      "Fitting 5 folds for each of 10 candidates, totalling 50 fits\n"
     ]
    },
    {
     "name": "stderr",
     "output_type": "stream",
     "text": [
      "[Parallel(n_jobs=1)]: Done  50 out of  50 | elapsed:  1.2min finished\n"
     ]
    },
    {
     "name": "stdout",
     "output_type": "stream",
     "text": [
      "Best HyperParameter:  {'C': 0.04785560628583929}\n",
      "0.86578125\n"
     ]
    }
   ],
   "source": [
    "LR = LogisticRegression(penalty='l2')\n",
    "C_value = {'C':uniform()}\n",
    "gsv = RandomizedSearchCV(LR,C_value,cv=5,verbose=1,scoring='f1_micro')\n",
    "gsv.fit(x_tr_tdfw2v,y_tr)\n",
    "print(\"Best HyperParameter: \",gsv.best_params_)\n",
    "print(gsv.best_score_)\n",
    "optimal_C=gsv.best_score_\n",
    "\n",
    "x=[]\n",
    "y=[]\n",
    "plt.figure(figsize=(8,8))\n",
    "for a in gsv.grid_scores_:\n",
    "    x.append(a[0]['C']) \n",
    "    y.append(a[1]\n",
    "plt.xlabel(\"C\",fontsize=15)\n",
    "plt.ylabel(\"f1_weighted\")\n",
    "plt.title('f1_weighted v/s C')\n",
    "plt.plot(x,y,linestyle='dashed', marker='o', markerfacecolor='red', markersize=10)\n",
    "plt.show()"
   ]
  },
  {
   "cell_type": "markdown",
   "metadata": {
    "colab_type": "text",
    "id": "ovj6YCJWHMco"
   },
   "source": [
    "## 8.1.2 finding the accuracy in Test data using optimal C"
   ]
  },
  {
   "cell_type": "code",
   "execution_count": 0,
   "metadata": {
    "colab": {
     "base_uri": "https://localhost:8080/",
     "height": 436
    },
    "colab_type": "code",
    "id": "ZUrpTkzponQV",
    "outputId": "f182dde4-b235-43cc-a9e0-c65e9b65009a"
   },
   "outputs": [
    {
     "name": "stdout",
     "output_type": "stream",
     "text": [
      "Accuracy on test set: 86.810%\n",
      "Precision on test set: 0.803\n",
      "Recall on test set: 0.693\n",
      "F1-Score on test set: 0.728\n"
     ]
    },
    {
     "data": {
      "text/plain": [
       "<matplotlib.axes._subplots.AxesSubplot at 0x7f26ed96e0f0>"
      ]
     },
     "execution_count": 20,
     "metadata": {
      "tags": []
     },
     "output_type": "execute_result"
    },
    {
     "data": {
      "image/png": "[encoded data removed]",
      "text/plain": [
       "<matplotlib.figure.Figure at 0x7f26ef9e02b0>"
      ]
     },
     "metadata": {
      "tags": []
     },
     "output_type": "display_data"
    }
   ],
   "source": [
    "LR= LogisticRegression(penalty='l2',C=optimal_C)\n",
    "LR.fit(x_tr_tdfw2v,y_tr)\n",
    "y_pred =LR.predict(x_test_tdfw2v)\n",
    "print(\"Accuracy on test set: %0.3f%%\"%(accuracy_score(y_test, y_pred)*100))\n",
    "print(\"Precision on test set: %0.3f\"%(precision_score(y_test, y_pred,average='macro')))\n",
    "print(\"Recall on test set: %0.3f\"%(recall_score(y_test, y_pred,average='macro')))\n",
    "print(\"F1-Score on test set: %0.3f\"%(f1_score(y_test, y_pred,average='macro')))\n",
    "df_cm = pd.DataFrame(confusion_matrix(y_test, y_pred), range(2),range(2))\n",
    "sns.set(font_scale=1.4)#for label size\n",
    "sns.heatmap(df_cm, annot=True,annot_kws={\"size\": 16}, fmt='g')"
   ]
  },
  {
   "cell_type": "markdown",
   "metadata": {
    "colab_type": "text",
    "id": "4DmeSdKF8hAc"
   },
   "source": [
    "# GridSearch Conclusion"
   ]
  },
  {
   "cell_type": "markdown",
   "metadata": {
    "colab_type": "text",
    "id": "OByo6VVzAuDr"
   },
   "source": [
    "\n",
    "\n",
    "| Model | hyper parameter   |F1score test|accuracy Test\n",
    "|------|------|------|------|\n",
    "|  unigram  | 1| 0.793|87.740%|\n",
    "| Bi-gram | 1|0.812| 90.650%|\n",
    "|  Tf-IDF | 1| 0.826| 91.260%|\n",
    "| Av-Word2Vec |100|0.777|88.565%|\n",
    "|  Tf-IDF Word2vec |0.0001|0.607| 84.705%|\n"
   ]
  },
  {
   "cell_type": "markdown",
   "metadata": {
    "colab_type": "text",
    "id": "3bfyjSk8-eC7"
   },
   "source": [
    "# RandomSearch Conclusion"
   ]
  },
  {
   "cell_type": "markdown",
   "metadata": {
    "colab_type": "text",
    "id": "HE7hQHbr-eC_"
   },
   "source": [
    "\n",
    "\n",
    "| Model | hyper parameter   |F1score test|accuracy Test\n",
    "|------|------|------|------|\n",
    "|  unigram  |0.0386|0.840|91.200%|\n",
    "| Bi-gram | 0.751|0.807|90.380%|\n",
    "|  Tf-IDF | 0.0800|0.823|91.035%|\n",
    "| Av-Word2Vec | 0.41|0.777|88.565%|\n",
    "|  Tf-IDF Word2vec |0.55|0.728|86.810%|\n"
   ]
  }
 ],
 "metadata": {
  "accelerator": "GPU",
  "colab": {
   "collapsed_sections": [],
   "name": "L1 Logistic regression_Amazon_reviews.ipynb",
   "provenance": [],
   "version": "0.3.2"
  },
  "kernelspec": {
   "display_name": "Python 3",
   "language": "python",
   "name": "python3"
  },
  "language_info": {
   "codemirror_mode": {
    "name": "ipython",
    "version": 3
   },
   "file_extension": ".py",
   "mimetype": "text/x-python",
   "name": "python",
   "nbconvert_exporter": "python",
   "pygments_lexer": "ipython3",
   "version": "3.6.5"
  }
 },
 "nbformat": 4,
 "nbformat_minor": 1
}
