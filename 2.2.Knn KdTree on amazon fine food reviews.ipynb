{
 "cells": [
  {
   "cell_type": "code",
   "execution_count": null,
   "metadata": {},
   "outputs": [],
   "source": [
    "\n",
    "%matplotlib inline\n",
    "import warnings\n",
    "warnings.filterwarnings(\"ignore\")\n",
    "\n",
    "import sqlite3\n",
    "import pandas as pd\n",
    "import numpy as np\n",
    "import nltk\n",
    "import string\n",
    "import matplotlib.pyplot as plt\n",
    "import seaborn as sns\n",
    "from sklearn.feature_extraction.text import TfidfTransformer\n",
    "from sklearn.feature_extraction.text import TfidfVectorizer\n",
    "\n",
    "from sklearn.feature_extraction.text import CountVectorizer\n",
    "from sklearn.metrics import confusion_matrix\n",
    "from sklearn import metrics\n",
    "from sklearn.metrics import roc_curve, auc\n",
    "from nltk.stem.porter import PorterStemmer\n",
    "\n",
    "import re\n",
    "import string\n",
    "from nltk.corpus import stopwords\n",
    "from nltk.stem import PorterStemmer\n",
    "from nltk.stem.wordnet import WordNetLemmatizer\n",
    "\n",
    "from gensim.models import Word2Vec\n",
    "from gensim.models import KeyedVectors\n",
    "import pickle\n",
    "\n",
    "from sklearn.preprocessing import StandardScaler\n",
    "from sklearn.manifold import TSNE\n",
    "from sklearn.neighbors import KNeighborsClassifier\n",
    "from tqdm import tqdm\n",
    "\n",
    "import seaborn as sns\n",
    "from sklearn.metrics import accuracy_score\n",
    "from sklearn.metrics import confusion_matrix\n",
    "from sklearn.metrics import precision_score\n",
    "from sklearn.metrics import f1_score\n",
    "from sklearn.metrics import recall_score"
   ]
  },
  {
   "cell_type": "markdown",
   "metadata": {},
   "source": [
    "After preprocessing data we store into final.sqlite and using it "
   ]
  },
  {
   "cell_type": "code",
   "execution_count": null,
   "metadata": {},
   "outputs": [],
   "source": [
    "!pip install -U -q PyDrive\n",
    "\n",
    "from pydrive.auth import GoogleAuth\n",
    "from pydrive.drive import GoogleDrive\n",
    "from google.colab import auth\n",
    "from oauth2client.client import GoogleCredentials\n",
    "\n",
    "# 1. Authenticate and create the PyDrive client.\n",
    "auth.authenticate_user()\n",
    "gauth = GoogleAuth()\n",
    "gauth.credentials = GoogleCredentials.get_application_default()\n",
    "drive = GoogleDrive(gauth)\n",
    "\n"
   ]
  },
  {
   "cell_type": "code",
   "execution_count": null,
   "metadata": {},
   "outputs": [],
   "source": [
    "download = drive.CreateFile({'id': '1K1rpp1cP61oOjKc9CIx-0v4z2SdyOpyi'})\n",
    "download.GetContentFile('final.sqlite')\n"
   ]
  },
  {
   "cell_type": "code",
   "execution_count": null,
   "metadata": {},
   "outputs": [],
   "source": [
    "con = sqlite3.connect('final.sqlite')\n",
    "final = pd.read_sql_query(\"\"\" SELECT * FROM Reviews\"\"\", con) "
   ]
  },
  {
   "cell_type": "markdown",
   "metadata": {},
   "source": [
    "## Time based Splitting Test and Train"
   ]
  },
  {
   "cell_type": "code",
   "execution_count": 0,
   "metadata": {
    "colab": {},
    "colab_type": "code",
    "id": "fj-tynWYplqR"
   },
   "outputs": [],
   "source": [
    "final=final.sort_values(by=['Time'],ascending=False)\n",
    "finalDataPoints=final.head(100000)\n",
    "from sklearn.model_selection import train_test_split\n",
    "from sklearn.neighbors import KNeighborsClassifier\n",
    "from sklearn.metrics import accuracy_score\n",
    "from sklearn.cross_validation import cross_val_score\n",
    "from collections import Counter\n",
    "from sklearn.metrics import accuracy_score\n",
    "from sklearn import cross_validation\n",
    "\n",
    "x=finalDataPoints[\"CleanedText\"]\n",
    "y=finalDataPoints[\"Score\"]\n",
    "x_1,x_test,y_1,y_test=train_test_split(x, y, test_size=0.2,shuffle=False)"
   ]
  },
  {
   "cell_type": "code",
   "execution_count": 79,
   "metadata": {
    "colab": {
     "base_uri": "https://localhost:8080/",
     "height": 34
    },
    "colab_type": "code",
    "id": "ZmyRPAj1y9o7",
    "outputId": "bec48dc9-52d7-45c1-8df6-46591594f5ed"
   },
   "outputs": [
    {
     "name": "stdout",
     "output_type": "stream",
     "text": [
      "(48000,) (12000,) (48000,) (12000,)\n"
     ]
    }
   ],
   "source": [
    "print(x_1.shape,x_test.shape,y_1.shape,y_test.shape)"
   ]
  },
  {
   "cell_type": "code",
   "execution_count": 0,
   "metadata": {
    "colab": {},
    "colab_type": "code",
    "id": "-aVz1kpjMOqI"
   },
   "outputs": [],
   "source": [
    "x_tr,x_cv,y_tr,y_cv=train_test_split(x_1,y_1,test_size=0.25,shuffle=False)"
   ]
  },
  {
   "cell_type": "code",
   "execution_count": 81,
   "metadata": {
    "colab": {
     "base_uri": "https://localhost:8080/",
     "height": 34
    },
    "colab_type": "code",
    "id": "z3iNd_cOM3dh",
    "outputId": "ff977400-d393-4e35-b490-5b4d5064084e"
   },
   "outputs": [
    {
     "name": "stdout",
     "output_type": "stream",
     "text": [
      "(36000,) (36000,) (12000,) (12000,) (12000,) (12000,)\n"
     ]
    }
   ],
   "source": [
    "print(x_tr.shape,y_tr.shape,x_cv.shape,y_cv.shape,x_test.shape,y_test.shape)"
   ]
  },
  {
   "cell_type": "markdown",
   "metadata": {
    "colab_type": "text",
    "id": "tX5721JWSQIf"
   },
   "source": [
    "# 1.Bag of Words (BoW)"
   ]
  },
  {
   "cell_type": "markdown",
   "metadata": {
    "colab_type": "text",
    "id": "vnZuWK1PwxAd"
   },
   "source": [
    "## 1.1 Unigram"
   ]
  },
  {
   "cell_type": "code",
   "execution_count": 0,
   "metadata": {
    "colab": {},
    "colab_type": "code",
    "id": "9Ih-bFF1gm1v"
   },
   "outputs": [],
   "source": [
    "#BOW for unigram\n",
    "bow = CountVectorizer()\n",
    "x_tr = bow.fit_transform(x_tr)\n",
    "x_test = bow.transform(x_test)\n",
    "x_cv = bow.transform(x_cv)"
   ]
  },
  {
   "cell_type": "markdown",
   "metadata": {
    "colab_type": "text",
    "id": "gAKTB8UGwxAh"
   },
   "source": [
    "### 1.1.1 Finding the optimal K"
   ]
  },
  {
   "cell_type": "code",
   "execution_count": 37,
   "metadata": {
    "colab": {
     "base_uri": "https://localhost:8080/",
     "height": 51
    },
    "colab_type": "code",
    "id": "EiRzldR2SQIg",
    "outputId": "8abca417-cb1c-4f92-85ef-48c9efa44343"
   },
   "outputs": [
    {
     "name": "stdout",
     "output_type": "stream",
     "text": [
      "\n",
      "The optimal number of neighbors is 7.\n"
     ]
    }
   ],
   "source": [
    "from sklearn.metrics import f1_score\n",
    "myList = list(range(0,30))\n",
    "neighbors = list(filter(lambda x: x % 2 != 0, myList))\n",
    "scores=[]\n",
    "for i in neighbors:\n",
    "    # instantiate learning model (k = 30)\n",
    "    Knn = KNeighborsClassifier(n_neighbors=i,algorithm='kd_tree')\n",
    "\n",
    "    # fitting the model on crossvalidation train\n",
    "    Knn.fit(x_tr, y_tr)\n",
    "\n",
    "    # predict the response on the crossvalidation train\n",
    "    pred = Knn.predict(x_cv)\n",
    "    # evaluate CV accuracy\n",
    "    score = f1_score(y_cv, pred,average='micro')\n",
    "    scores.append(score)\n",
    "    \n",
    "MSE = [1 - x for x in scores]\n",
    "\n",
    "# determining best k\n",
    "optimal_k = neighbors[MSE.index(min(MSE))]\n",
    "print('\\nThe optimal number of neighbors is %d.' % optimal_k)\n"
   ]
  },
  {
   "cell_type": "markdown",
   "metadata": {
    "colab_type": "text",
    "id": "O6hLAdaGwxAn"
   },
   "source": [
    "### 1.1.2ploting confusion matrix and finding f1_score given optimal Value of K"
   ]
  },
  {
   "cell_type": "code",
   "execution_count": 38,
   "metadata": {
    "colab": {
     "base_uri": "https://localhost:8080/",
     "height": 504
    },
    "colab_type": "code",
    "id": "c5fWiuNKpMgo",
    "outputId": "c8c3ce8c-6b41-4919-a812-0e2ba972b3fe"
   },
   "outputs": [
    {
     "name": "stdout",
     "output_type": "stream",
     "text": [
      "Accuracy on test set: 83.858%\n",
      "Precision on test set: 0.747\n",
      "Recall on test set: 0.540\n",
      "F1-Score on test set: 0.534\n",
      "Confusion Matrix of test set:\n",
      " [ [TN  FP]\n",
      " [FN TP] ]\n",
      "\n"
     ]
    },
    {
     "data": {
      "text/plain": [
       "<matplotlib.axes._subplots.AxesSubplot at 0x7f067b4147b8>"
      ]
     },
     "execution_count": 38,
     "metadata": {
      "tags": []
     },
     "output_type": "execute_result"
    },
    {
     "data": {
      "image/png": "[encoded data removed]",
      "text/plain": [
       "<matplotlib.figure.Figure at 0x7f067b3f0208>"
      ]
     },
     "metadata": {
      "tags": []
     },
     "output_type": "display_data"
    }
   ],
   "source": [
    "knn = KNeighborsClassifier(n_neighbors=optimal_k,algorithm='kd_tree')\n",
    "knn.fit(x_tr,y_tr)\n",
    "y_pred = knn.predict(x_test)\n",
    "print(\"Accuracy on test set: %0.3f%%\"%(accuracy_score(y_test, y_pred)*100))\n",
    "print(\"Precision on test set: %0.3f\"%(precision_score(y_test, y_pred,average='macro')))\n",
    "print(\"Recall on test set: %0.3f\"%(recall_score(y_test, y_pred,average='macro')))\n",
    "print(\"F1-Score on test set: %0.3f\"%(f1_score(y_test, y_pred,average='macro')))\n",
    "print(\"Confusion Matrix of test set:\\n [ [TN  FP]\\n [FN TP] ]\\n\")\n",
    "df_cm = pd.DataFrame(confusion_matrix(y_test, y_pred), range(2),range(2))\n",
    "sns.set(font_scale=1.4)#for label size\n",
    "sns.heatmap(df_cm, annot=True,annot_kws={\"size\": 16}, fmt='g')"
   ]
  },
  {
   "cell_type": "markdown",
   "metadata": {
    "colab_type": "text",
    "id": "V2NiMbmsSQIj"
   },
   "source": [
    "## 1.2 Bi-Grams\n"
   ]
  },
  {
   "cell_type": "markdown",
   "metadata": {
    "colab_type": "text",
    "id": "sgv9OwnjwxAu"
   },
   "source": [
    "### 1.2.1 Finding the optimal K"
   ]
  },
  {
   "cell_type": "code",
   "execution_count": 44,
   "metadata": {
    "colab": {
     "base_uri": "https://localhost:8080/",
     "height": 51
    },
    "colab_type": "code",
    "id": "ZDqRvLqrSQIk",
    "outputId": "8228981c-563c-47ac-9ef1-fd28c8a84f29"
   },
   "outputs": [
    {
     "name": "stdout",
     "output_type": "stream",
     "text": [
      "\n",
      "The optimal number of neighbors is 9.\n"
     ]
    }
   ],
   "source": [
    "bi_gram = CountVectorizer(ngram_range=(1,2))\n",
    "x_tr = bi_gram.fit_transform(x_tr)\n",
    "\n",
    "x_test = bi_gram.transform(x_test)\n",
    "x_cv = bi_gram.transform(x_cv)\n",
    "myList = list(range(0,30))\n",
    "neighbors = list(filter(lambda x: x % 2 != 0, myList))\n",
    "scores=[]\n",
    "for i in neighbors:\n",
    "    # instantiate learning model (k = 30)\n",
    "    Knn = KNeighborsClassifier(n_neighbors=i,algorithm='kd_tree')\n",
    "\n",
    "    # fitting the model on crossvalidation train\n",
    "    Knn.fit(x_tr, y_tr)\n",
    "\n",
    "    # predict the response on the crossvalidation train\n",
    "    pred = Knn.predict(x_cv)\n",
    "    # evaluate CV accuracy\n",
    "    score = f1_score(y_cv, pred,average='micro')\n",
    "    scores.append(score)\n",
    "    \n",
    "MSE = [1 - x for x in scores]\n",
    "\n",
    "# determining best k\n",
    "optimal_k = neighbors[MSE.index(min(MSE))]\n",
    "print('\\nThe optimal number of neighbors is %d.' % optimal_k)\n",
    "\n",
    "\n"
   ]
  },
  {
   "cell_type": "markdown",
   "metadata": {
    "colab_type": "text",
    "id": "lXr0oD_rwxA3"
   },
   "source": [
    "### 1.2.2 ploting confusion matrix and finding f1_score given optimal Value of K"
   ]
  },
  {
   "cell_type": "code",
   "execution_count": 45,
   "metadata": {
    "colab": {
     "base_uri": "https://localhost:8080/",
     "height": 504
    },
    "colab_type": "code",
    "id": "MHsPPTLBH5GL",
    "outputId": "08bb36e2-47f0-40df-db3a-daf929e1bfe4"
   },
   "outputs": [
    {
     "name": "stdout",
     "output_type": "stream",
     "text": [
      "Accuracy on test set: 83.400%\n",
      "Precision on test set: 0.715\n",
      "Recall on test set: 0.518\n",
      "F1-Score on test set: 0.492\n",
      "Confusion Matrix of test set:\n",
      " [ [TN  FP]\n",
      " [FN TP] ]\n",
      "\n"
     ]
    },
    {
     "data": {
      "text/plain": [
       "<matplotlib.axes._subplots.AxesSubplot at 0x7f067d95fcc0>"
      ]
     },
     "execution_count": 45,
     "metadata": {
      "tags": []
     },
     "output_type": "execute_result"
    },
    {
     "data": {
      "image/png": "[encoded data removed]",
      "text/plain": [
       "<matplotlib.figure.Figure at 0x7f067c49c828>"
      ]
     },
     "metadata": {
      "tags": []
     },
     "output_type": "display_data"
    }
   ],
   "source": [
    "knn = KNeighborsClassifier(n_neighbors=optimal_k,algorithm='kd_tree')\n",
    "knn.fit(x_tr,y_tr)\n",
    "y_pred = knn.predict(x_test)\n",
    "print(\"Accuracy on test set: %0.3f%%\"%(accuracy_score(y_test, y_pred)*100))\n",
    "print(\"Precision on test set: %0.3f\"%(precision_score(y_test, y_pred,average='macro')))\n",
    "print(\"Recall on test set: %0.3f\"%(recall_score(y_test, y_pred,average='macro')))\n",
    "print(\"F1-Score on test set: %0.3f\"%(f1_score(y_test, y_pred,average='macro')))\n",
    "print(\"Confusion Matrix of test set:\\n [ [TN  FP]\\n [FN TP] ]\\n\")\n",
    "df_cm = pd.DataFrame(confusion_matrix(y_test, y_pred), range(2),range(2))\n",
    "sns.set(font_scale=1.4)#for label size\n",
    "sns.heatmap(df_cm, annot=True,annot_kws={\"size\": 16}, fmt='g')"
   ]
  },
  {
   "cell_type": "markdown",
   "metadata": {
    "colab_type": "text",
    "id": "lA_k9lflSQIo"
   },
   "source": [
    "# 2.TF-IDF"
   ]
  },
  {
   "cell_type": "markdown",
   "metadata": {},
   "source": [
    "## 2.1 Finding the optimal K"
   ]
  },
  {
   "cell_type": "code",
   "execution_count": 48,
   "metadata": {
    "colab": {
     "base_uri": "https://localhost:8080/",
     "height": 51
    },
    "colab_type": "code",
    "id": "DG7lsxf3SQIp",
    "outputId": "d4700a90-7fac-421e-8729-ddbccb53990f"
   },
   "outputs": [
    {
     "name": "stdout",
     "output_type": "stream",
     "text": [
      "\n",
      "The optimal number of neighbors is 11.\n"
     ]
    }
   ],
   "source": [
    "tf_idf_vect = TfidfVectorizer(ngram_range=(1,2))\n",
    "x_tr = tf_idf_vect.fit_transform(x_tr)\n",
    "x_test = tf_idf_vect.transform(x_test)\n",
    "x_cv = tf_idf_vect.transform(x_cv)\n",
    "\n",
    "myList = list(range(0,30))\n",
    "neighbors = list(filter(lambda x: x % 2 != 0, myList))\n",
    "scores=[]\n",
    "for i in neighbors:\n",
    "    # instantiate learning model (k = 30)\n",
    "    Knn = KNeighborsClassifier(n_neighbors=i,algorithm='kd_tree')\n",
    "\n",
    "    # fitting the model on crossvalidation train\n",
    "    Knn.fit(x_tr, y_tr)\n",
    "\n",
    "    # predict the response on the crossvalidation train\n",
    "    pred = Knn.predict(x_cv)\n",
    "    # evaluate CV accuracy\n",
    "    score = f1_score(y_cv, pred,average='micro')\n",
    "    scores.append(score)\n",
    "    \n",
    "MSE = [1 - x for x in scores]\n",
    "\n",
    "# determining best k\n",
    "optimal_k = neighbors[MSE.index(min(MSE))]\n",
    "print('\\nThe optimal number of neighbors is %d.' % optimal_k)"
   ]
  },
  {
   "cell_type": "markdown",
   "metadata": {},
   "source": [
    "## 2.2 ploting confusion matrix and finding f1_score given optimal Value of K"
   ]
  },
  {
   "cell_type": "code",
   "execution_count": 52,
   "metadata": {
    "colab": {
     "base_uri": "https://localhost:8080/",
     "height": 504
    },
    "colab_type": "code",
    "id": "EB2OhfCJNPb7",
    "outputId": "2b8c562e-ddad-4e1f-8723-59d8a447c975"
   },
   "outputs": [
    {
     "name": "stdout",
     "output_type": "stream",
     "text": [
      "Accuracy on test set: 84.808%\n",
      "Precision on test set: 0.816\n",
      "Recall on test set: 0.564\n",
      "F1-Score on test set: 0.574\n",
      "Confusion Matrix of test set:\n",
      " [ [TN  FP]\n",
      " [FN TP] ]\n",
      "\n"
     ]
    },
    {
     "data": {
      "text/plain": [
       "<matplotlib.axes._subplots.AxesSubplot at 0x7f067a17cf98>"
      ]
     },
     "execution_count": 52,
     "metadata": {
      "tags": []
     },
     "output_type": "execute_result"
    },
    {
     "data": {
      "image/png": "[encoded data removed]",
      "text/plain": [
       "<matplotlib.figure.Figure at 0x7f067ca772b0>"
      ]
     },
     "metadata": {
      "tags": []
     },
     "output_type": "display_data"
    }
   ],
   "source": [
    "knn = KNeighborsClassifier(n_neighbors=optimal_k,algorithm='kd_tree')\n",
    "knn.fit(x_tr,y_tr)\n",
    "y_pred = knn.predict(x_test)\n",
    "print(\"Accuracy on test set: %0.3f%%\"%(accuracy_score(y_test, y_pred)*100))\n",
    "print(\"Precision on test set: %0.3f\"%(precision_score(y_test, y_pred,average='macro')))\n",
    "print(\"Recall on test set: %0.3f\"%(recall_score(y_test, y_pred,average='macro')))\n",
    "print(\"F1-Score on test set: %0.3f\"%(f1_score(y_test, y_pred,average='macro')))\n",
    "print(\"Confusion Matrix of test set:\\n [ [TN  FP]\\n [FN TP] ]\\n\")\n",
    "df_cm = pd.DataFrame(confusion_matrix(y_test, y_pred), range(2),range(2))\n",
    "sns.set(font_scale=1.4)#for label size\n",
    "sns.heatmap(df_cm, annot=True,annot_kws={\"size\": 16}, fmt='g')"
   ]
  },
  {
   "cell_type": "markdown",
   "metadata": {
    "colab_type": "text",
    "id": "EL0FN_FWSQIt"
   },
   "source": [
    "# 3.Word2Vec"
   ]
  },
  {
   "cell_type": "code",
   "execution_count": 0,
   "metadata": {
    "colab": {},
    "colab_type": "code",
    "id": "R6OZBLqQSQIx"
   },
   "outputs": [],
   "source": [
    "i=0\n",
    "list_of_sent=[]\n",
    "for sent in x_tr:\n",
    "    list_of_sent.append(sent.split())\n",
    "  \n",
    "i=0\n",
    "list_of_sent_cv=[]\n",
    "for sent in x_cv:\n",
    "    list_of_sent_cv.append(sent.split())\n",
    "      \n",
    "i=0\n",
    "list_of_sent_test=[]\n",
    "for sent in x_test:\n",
    "    list_of_sent_test.append(sent.split())"
   ]
  },
  {
   "cell_type": "code",
   "execution_count": 0,
   "metadata": {
    "colab": {},
    "colab_type": "code",
    "id": "KIH5LmpnLUfr"
   },
   "outputs": [],
   "source": [
    "w2v_model=Word2Vec(list_of_sent,min_count=5,size=50, workers=4)"
   ]
  },
  {
   "cell_type": "code",
   "execution_count": 85,
   "metadata": {
    "colab": {
     "base_uri": "https://localhost:8080/",
     "height": 71
    },
    "colab_type": "code",
    "id": "w38ekNLKQc6v",
    "outputId": "357520d9-00d8-4d8a-e30d-bbe2fbf537f5"
   },
   "outputs": [
    {
     "name": "stdout",
     "output_type": "stream",
     "text": [
      "number of words that occured minimum 5 times  7857\n",
      "sample words  ['big', 'lover', 'fig', 'jam', 'uniqu', 'flavor', 'kind', 'mix', 'light', 'dark', 'mission', 'must', 'tri', 'hard', 'ever', 'write', 'review', 'rice', 'good', 'live', 'hawaii', 'never', 'seen', 'caribbean', 'sale', 'store', 'came', 'across', 'search', 'amazon', 'glad', 'gave', 'think', 'youll', 'disappoint', 'ad', 'chop', 'chicken', 'suggest', 'also', 'small', 'onion', 'unbeliev', 'anoth', 'great', 'way', 'make', 'even', 'better', 'fresh']\n"
     ]
    }
   ],
   "source": [
    "w2v_words = list(w2v_model.wv.vocab)\n",
    "print(\"number of words that occured minimum 5 times \",len(w2v_words))\n",
    "print(\"sample words \", w2v_words[0:50])"
   ]
  },
  {
   "cell_type": "markdown",
   "metadata": {
    "colab_type": "text",
    "id": "lv-Z2dFqSQJa"
   },
   "source": [
    "# 4.Avg W2V"
   ]
  },
  {
   "cell_type": "code",
   "execution_count": 86,
   "metadata": {
    "colab": {
     "base_uri": "https://localhost:8080/",
     "height": 51
    },
    "colab_type": "code",
    "id": "8Mx0A6gISQJb",
    "outputId": "46b4e0ba-63c9-43c4-c72a-5068a6dc6148"
   },
   "outputs": [
    {
     "name": "stdout",
     "output_type": "stream",
     "text": [
      "36000\n",
      "50\n"
     ]
    }
   ],
   "source": [
    "# average Word2Vec\n",
    "# compute average word2vec for each review.\n",
    "sent_vectors = []; # the avg-w2v for each sentence/review is stored in this list\n",
    "for sent in list_of_sent: # for each review/sentence\n",
    "    sent_vec = np.zeros(50) # as word vectors are of zero length\n",
    "    cnt_words =0; # num of words with a valid vector in the sentence/review\n",
    "    for word in sent: # for each word in a review/sentence\n",
    "        if word in w2v_words:\n",
    "            vec = w2v_model.wv[word]\n",
    "            sent_vec += vec\n",
    "            cnt_words += 1\n",
    "    if cnt_words != 0:\n",
    "        sent_vec /= cnt_words\n",
    "    sent_vectors.append(sent_vec)\n",
    "print(len(sent_vectors))\n",
    "print(len(sent_vectors[0]))"
   ]
  },
  {
   "cell_type": "code",
   "execution_count": 87,
   "metadata": {
    "colab": {
     "base_uri": "https://localhost:8080/",
     "height": 51
    },
    "colab_type": "code",
    "id": "oeb4foaqQDLo",
    "outputId": "e5bcd54d-e37d-4967-b9d8-8a198e70a3a4"
   },
   "outputs": [
    {
     "name": "stdout",
     "output_type": "stream",
     "text": [
      "12000\n",
      "50\n"
     ]
    }
   ],
   "source": [
    "# average Word2Vec\n",
    "# compute average word2vec for each review.\n",
    "sent_vectors_cv = []; # the avg-w2v for each sentence/review is stored in this list\n",
    "for sent in list_of_sent_cv: # for each review/sentence\n",
    "    sent_vec = np.zeros(50) # as word vectors are of zero length\n",
    "    cnt_words =0; # num of words with a valid vector in the sentence/review\n",
    "    for word in sent: # for each word in a review/sentence\n",
    "        if word in w2v_words:\n",
    "            vec = w2v_model.wv[word]\n",
    "            sent_vec += vec\n",
    "            cnt_words += 1\n",
    "    if cnt_words != 0:\n",
    "        sent_vec /= cnt_words\n",
    "    sent_vectors_cv.append(sent_vec)\n",
    "print(len(sent_vectors_cv))\n",
    "print(len(sent_vectors_cv[0]))"
   ]
  },
  {
   "cell_type": "code",
   "execution_count": 88,
   "metadata": {
    "colab": {
     "base_uri": "https://localhost:8080/",
     "height": 51
    },
    "colab_type": "code",
    "id": "wiYnx_kUPzU-",
    "outputId": "9db4f61c-b5ff-4fe5-bf07-55783f329c8e"
   },
   "outputs": [
    {
     "name": "stdout",
     "output_type": "stream",
     "text": [
      "12000\n",
      "50\n"
     ]
    }
   ],
   "source": [
    "# average Word2Vec\n",
    "# compute average word2vec for each review.\n",
    "sent_vectors_test = []; # the avg-w2v for each sentence/review is stored in this list\n",
    "for sent in list_of_sent_test: # for each review/sentence\n",
    "    sent_vec = np.zeros(50) # as word vectors are of zero length\n",
    "    cnt_words =0; # num of words with a valid vector in the sentence/review\n",
    "    for word in sent: # for each word in a review/sentence\n",
    "        if word in w2v_words:\n",
    "            vec = w2v_model.wv[word]\n",
    "            sent_vec += vec\n",
    "            cnt_words += 1\n",
    "    if cnt_words != 0:\n",
    "        sent_vec /= cnt_words\n",
    "    sent_vectors_test.append(sent_vec)\n",
    "print(len(sent_vectors_test))\n",
    "print(len(sent_vectors_test[0]))"
   ]
  },
  {
   "cell_type": "markdown",
   "metadata": {},
   "source": [
    "## 4.1 Finding the optimal K"
   ]
  },
  {
   "cell_type": "code",
   "execution_count": 76,
   "metadata": {
    "colab": {
     "base_uri": "https://localhost:8080/",
     "height": 51
    },
    "colab_type": "code",
    "id": "ZBA9WBuMRupr",
    "outputId": "d38ad55e-7859-421d-ee60-2de34449a91e"
   },
   "outputs": [
    {
     "name": "stdout",
     "output_type": "stream",
     "text": [
      "\n",
      "The optimal number of neighbors is 11.\n"
     ]
    }
   ],
   "source": [
    "x_test=sent_vectors_test\n",
    "x_cv=sent_vectors_cv\n",
    "x_tr=sent_vectors\n",
    "myList = list(range(0,30))\n",
    "neighbors = list(filter(lambda x: x % 2 != 0, myList))\n",
    "scores=[]\n",
    "for i in neighbors:\n",
    "    # instantiate learning model (k = 30)\n",
    "    Knn = KNeighborsClassifier(n_neighbors=i,algorithm='kd_tree')\n",
    "\n",
    "    # fitting the model on crossvalidation train\n",
    "    Knn.fit(x_tr, y_tr)\n",
    "\n",
    "    # predict the response on the crossvalidation train\n",
    "    pred = Knn.predict(x_cv)\n",
    "    # evaluate CV accuracy\n",
    "    score = f1_score(y_cv, pred,average='micro')\n",
    "    scores.append(score)\n",
    "    \n",
    "MSE = [1 - x for x in scores]\n",
    "\n",
    "# determining best k\n",
    "optimal_k = neighbors[MSE.index(min(MSE))]\n",
    "print('\\nThe optimal number of neighbors is %d.' % optimal_k)"
   ]
  },
  {
   "cell_type": "markdown",
   "metadata": {},
   "source": [
    "## 4.2 ploting confusion matrix and finding f1_score given optimal Value of K"
   ]
  },
  {
   "cell_type": "code",
   "execution_count": 77,
   "metadata": {
    "colab": {
     "base_uri": "https://localhost:8080/",
     "height": 436
    },
    "colab_type": "code",
    "id": "SRHX5n7qWmfF",
    "outputId": "9d0a4a3d-2ee1-4da0-a089-e7ae60a71836"
   },
   "outputs": [
    {
     "name": "stdout",
     "output_type": "stream",
     "text": [
      "Accuracy on test set: 86.475%\n",
      "Precision on test set: 0.794\n",
      "Recall on test set: 0.652\n",
      "F1-Score on test set: 0.687\n"
     ]
    },
    {
     "data": {
      "text/plain": [
       "<matplotlib.axes._subplots.AxesSubplot at 0x7fa526fbfac8>"
      ]
     },
     "execution_count": 77,
     "metadata": {
      "tags": []
     },
     "output_type": "execute_result"
    },
    {
     "data": {
      "image/png": "[encoded data removed]",
      "text/plain": [
       "<matplotlib.figure.Figure at 0x7fa526fbf2b0>"
      ]
     },
     "metadata": {
      "tags": []
     },
     "output_type": "display_data"
    }
   ],
   "source": [
    "knn = KNeighborsClassifier(n_neighbors=optimal_k,algorithm='kd_tree')\n",
    "knn.fit(x_tr,y_tr)\n",
    "y_pred = knn.predict(x_test)\n",
    "print(\"Accuracy on test set: %0.3f%%\"%(accuracy_score(y_test, y_pred)*100))\n",
    "print(\"Precision on test set: %0.3f\"%(precision_score(y_test, y_pred,average='macro')))\n",
    "print(\"Recall on test set: %0.3f\"%(recall_score(y_test, y_pred,average='macro')))\n",
    "print(\"F1-Score on test set: %0.3f\"%(f1_score(y_test, y_pred,average='macro')))\n",
    "df_cm = pd.DataFrame(confusion_matrix(y_test, y_pred), range(2),range(2))\n",
    "sns.set(font_scale=1.4)#for label size\n",
    "sns.heatmap(df_cm, annot=True,annot_kws={\"size\": 16}, fmt='g')"
   ]
  },
  {
   "cell_type": "markdown",
   "metadata": {
    "colab_type": "text",
    "id": "Y3BQBcyCwxBp"
   },
   "source": [
    "# 5.TFIDF-W2V"
   ]
  },
  {
   "cell_type": "code",
   "execution_count": 0,
   "metadata": {
    "colab": {},
    "colab_type": "code",
    "id": "gY1YD6si3Qpq"
   },
   "outputs": [],
   "source": [
    "tf_idf_vect = TfidfVectorizer()\n",
    "final_tf_idf = tf_idf_vect.fit_transform(x_tr)\n",
    "final_tf_idf_test = tf_idf_vect.transform(x_test)\n",
    "final_tf_idf_cv = tf_idf_vect.transform(x_cv)\n",
    "dictionary = dict(zip(tf_idf_vect.get_feature_names(), list(tf_idf_vect.idf_)))"
   ]
  },
  {
   "cell_type": "code",
   "execution_count": 90,
   "metadata": {
    "colab": {
     "base_uri": "https://localhost:8080/",
     "height": 34
    },
    "colab_type": "code",
    "id": "CriEBX5cPGEQ",
    "outputId": "af28e745-4194-40a8-aae5-7904110f1b74"
   },
   "outputs": [
    {
     "name": "stderr",
     "output_type": "stream",
     "text": [
      "100%|██████████| 36000/36000 [00:54<00:00, 661.92it/s]\n"
     ]
    }
   ],
   "source": [
    "# TF-IDF weighted Word2Vec\n",
    "tfidf_feat = tf_idf_vect.get_feature_names() # tfidf words/col-names\n",
    "# final_tf_idf is the sparse matrix with row= sentence, col=word and cell_val = tfidf\n",
    "\n",
    "tfidf_sent_vectors = []; # the tfidf-w2v for each sentence/review is stored in this list\n",
    "row=0;\n",
    "for sent in tqdm(list_of_sent): # for each review/sentence \n",
    "    sent_vec = np.zeros(50) # as word vectors are of zero length\n",
    "    weight_sum =0; # num of words with a valid vector in the sentence/review\n",
    "    for word in sent: # for each word in a review/sentence\n",
    "        if word in w2v_words:\n",
    "            vec = w2v_model.wv[word]\n",
    "            tf_idf = dictionary[word]*sent.count(word)\n",
    "            sent_vec += (vec * tf_idf)\n",
    "            weight_sum += tf_idf\n",
    "    if weight_sum != 0:\n",
    "        sent_vec /= weight_sum\n",
    "    tfidf_sent_vectors.append(sent_vec)\n",
    "    row += 1"
   ]
  },
  {
   "cell_type": "code",
   "execution_count": 91,
   "metadata": {
    "colab": {
     "base_uri": "https://localhost:8080/",
     "height": 34
    },
    "colab_type": "code",
    "id": "KzdiR_KAPJix",
    "outputId": "11115a8a-1e28-4ed7-a6cc-36f4fef296f1"
   },
   "outputs": [
    {
     "name": "stderr",
     "output_type": "stream",
     "text": [
      "100%|██████████| 12000/12000 [00:19<00:00, 601.83it/s]\n"
     ]
    }
   ],
   "source": [
    "# TF-IDF weighted Word2Vec\n",
    "tfidf_feat = tf_idf_vect.get_feature_names() # tfidf words/col-names\n",
    "# final_tf_idf is the sparse matrix with row= sentence, col=word and cell_val = tfidf\n",
    "\n",
    "tfidf_sent_vectors_test = []; # the tfidf-w2v for each sentence/review is stored in this list\n",
    "row=0;\n",
    "for sent in tqdm(list_of_sent_test): # for each review/sentence \n",
    "    sent_vec = np.zeros(50) # as word vectors are of zero length\n",
    "    weight_sum =0; # num of words with a valid vector in the sentence/review\n",
    "    for word in sent: # for each word in a review/sentence\n",
    "        if word in w2v_words:\n",
    "            vec = w2v_model.wv[word]\n",
    "            tf_idf = dictionary[word]*sent.count(word)\n",
    "            sent_vec += (vec * tf_idf)\n",
    "            weight_sum += tf_idf\n",
    "    if weight_sum != 0:\n",
    "        sent_vec /= weight_sum\n",
    "    tfidf_sent_vectors_test.append(sent_vec)\n",
    "    row += 1"
   ]
  },
  {
   "cell_type": "code",
   "execution_count": 92,
   "metadata": {
    "colab": {
     "base_uri": "https://localhost:8080/",
     "height": 34
    },
    "colab_type": "code",
    "id": "wkH_AF3jgm6K",
    "outputId": "7f2ccd7d-3389-4292-8527-48b8708e272e"
   },
   "outputs": [
    {
     "name": "stderr",
     "output_type": "stream",
     "text": [
      "100%|██████████| 12000/12000 [00:20<00:00, 594.00it/s]\n"
     ]
    }
   ],
   "source": [
    "# TF-IDF weighted Word2Vec\n",
    "tfidf_feat = tf_idf_vect.get_feature_names() # tfidf words/col-names\n",
    "# final_tf_idf is the sparse matrix with row= sentence, col=word and cell_val = tfidf\n",
    "\n",
    "tfidf_sent_vectors_cv = []; # the tfidf-w2v for each sentence/review is stored in this list\n",
    "row=0;\n",
    "for sent in tqdm(list_of_sent_cv): # for each review/sentence \n",
    "    sent_vec = np.zeros(50) # as word vectors are of zero length\n",
    "    weight_sum =0; # num of words with a valid vector in the sentence/review\n",
    "    for word in sent: # for each word in a review/sentence\n",
    "        if word in w2v_words:\n",
    "            vec = w2v_model.wv[word]\n",
    "            tf_idf = dictionary[word]*sent.count(word)\n",
    "            sent_vec += (vec * tf_idf)\n",
    "            weight_sum += tf_idf\n",
    "    if weight_sum != 0:\n",
    "        sent_vec /= weight_sum\n",
    "    tfidf_sent_vectors_cv.append(sent_vec)\n",
    "    row += 1"
   ]
  },
  {
   "cell_type": "markdown",
   "metadata": {},
   "source": [
    "## 5.1 Finding the optimal K"
   ]
  },
  {
   "cell_type": "code",
   "execution_count": 93,
   "metadata": {
    "colab": {
     "base_uri": "https://localhost:8080/",
     "height": 51
    },
    "colab_type": "code",
    "id": "emvyZGGix7Yn",
    "outputId": "810b84dc-d641-4612-d0af-5e56fbf61b30"
   },
   "outputs": [
    {
     "name": "stdout",
     "output_type": "stream",
     "text": [
      "\n",
      "The optimal number of neighbors is 15.\n"
     ]
    }
   ],
   "source": [
    "x_test=tfidf_sent_vectors_test\n",
    "x_cv=tfidf_sent_vectors_cv\n",
    "x_tr=tfidf_sent_vectors\n",
    "myList = list(range(0,30))\n",
    "neighbors = list(filter(lambda x: x % 2 != 0, myList))\n",
    "scores=[]\n",
    "for i in neighbors:\n",
    "    # instantiate learning model (k = 30)\n",
    "    Knn = KNeighborsClassifier(n_neighbors=i,algorithm='kd_tree')\n",
    "\n",
    "    # fitting the model on crossvalidation train\n",
    "    Knn.fit(x_tr, y_tr)\n",
    "\n",
    "    # predict the response on the crossvalidation train\n",
    "    pred = Knn.predict(x_cv)\n",
    "    # evaluate CV accuracy\n",
    "    score = f1_score(y_cv, pred,average='micro')\n",
    "    scores.append(score)\n",
    "    \n",
    "MSE = [1 - x for x in scores]\n",
    "\n",
    "# determining best k\n",
    "optimal_k = neighbors[MSE.index(min(MSE))]\n",
    "print('\\nThe optimal number of neighbors is %d.' % optimal_k)\n",
    "\n"
   ]
  },
  {
   "cell_type": "markdown",
   "metadata": {},
   "source": [
    "## 5.2 ploting confusion matrix and finding f1_score given optimal Value of K"
   ]
  },
  {
   "cell_type": "code",
   "execution_count": 94,
   "metadata": {
    "colab": {
     "base_uri": "https://localhost:8080/",
     "height": 436
    },
    "colab_type": "code",
    "id": "DVz1PxMFvk-n",
    "outputId": "4096e10d-bbb4-42b8-fd19-bead066c19da"
   },
   "outputs": [
    {
     "name": "stdout",
     "output_type": "stream",
     "text": [
      "Accuracy on test set: 85.458%\n",
      "Precision on test set: 0.772\n",
      "Recall on test set: 0.617\n",
      "F1-Score on test set: 0.646\n"
     ]
    },
    {
     "data": {
      "text/plain": [
       "<matplotlib.axes._subplots.AxesSubplot at 0x7fa525cbd550>"
      ]
     },
     "execution_count": 94,
     "metadata": {
      "tags": []
     },
     "output_type": "execute_result"
    },
    {
     "data": {
      "image/png": "[encoded data removed]",
      "text/plain": [
       "<matplotlib.figure.Figure at 0x7fa525cbd518>"
      ]
     },
     "metadata": {
      "tags": []
     },
     "output_type": "display_data"
    }
   ],
   "source": [
    "knn = KNeighborsClassifier(n_neighbors=optimal_k,algorithm='kd_tree')\n",
    "knn.fit(x_tr,y_tr)\n",
    "y_pred = knn.predict(x_test)\n",
    "print(\"Accuracy on test set: %0.3f%%\"%(accuracy_score(y_test, y_pred)*100))\n",
    "print(\"Precision on test set: %0.3f\"%(precision_score(y_test, y_pred,average='macro')))\n",
    "print(\"Recall on test set: %0.3f\"%(recall_score(y_test, y_pred,average='macro')))\n",
    "print(\"F1-Score on test set: %0.3f\"%(f1_score(y_test, y_pred,average='macro')))\n",
    "df_cm = pd.DataFrame(confusion_matrix(y_test, y_pred), range(2),range(2))\n",
    "sns.set(font_scale=1.4)#for label size\n",
    "sns.heatmap(df_cm, annot=True,annot_kws={\"size\": 16}, fmt='g')"
   ]
  },
  {
   "cell_type": "markdown",
   "metadata": {
    "colab_type": "text",
    "id": "glgIaaBHXx2z"
   },
   "source": [
    "# Conclusion\n",
    "| Model | hyper parameter   |F1-score  TEST|Accuracy score TEST\n",
    "|------|------|------|------|\n",
    "|  unigram  | 7| 0.534|83.858%|\n",
    "| Bi-gram | 9| 0.492|83.400%|\n",
    "|  Tf-IDF | 11| 0.574|84.808%|\n",
    "| Av-Word2Vec |11|0.687|86.475%|\n",
    "|  Tf-IDF Word2vec | 17|0.646|85.458%|\n"
   ]
  }
 ],
 "metadata": {
  "accelerator": "GPU",
  "colab": {
   "collapsed_sections": [],
   "name": "2.knn_KDtree_of_Amazon_reviews.ipynb",
   "provenance": [],
   "version": "0.3.2"
  },
  "kernelspec": {
   "display_name": "Python 3",
   "language": "python",
   "name": "python3"
  },
  "language_info": {
   "codemirror_mode": {
    "name": "ipython",
    "version": 3
   },
   "file_extension": ".py",
   "mimetype": "text/x-python",
   "name": "python",
   "nbconvert_exporter": "python",
   "pygments_lexer": "ipython3",
   "version": "3.6.5"
  }
 },
 "nbformat": 4,
 "nbformat_minor": 1
}
