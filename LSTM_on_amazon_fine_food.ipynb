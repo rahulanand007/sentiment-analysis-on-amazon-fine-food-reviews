{
 "cells": [
  {
   "cell_type": "code",
   "execution_count": 0,
   "metadata": {
    "colab": {},
    "colab_type": "code",
    "id": "Jr4cugH3mZ_X"
   },
   "outputs": [],
   "source": [
    "import numpy as np\n",
    "from keras.models import Sequential\n",
    "from keras.layers import Dense\n",
    "from keras.layers.embeddings import Embedding\n",
    "from keras.preprocessing import sequence\n",
    "from keras.preprocessing.text import Tokenizer\n",
    "from keras.preprocessing.sequence import pad_sequences\n",
    "from keras.layers import LSTM\n",
    "np.random.seed(7)\n",
    "import sqlite3\n",
    "import pandas as pd\n",
    "from keras.layers import Dropout\n",
    "from sklearn.preprocessing import LabelEncoder\n",
    "import warnings\n",
    "warnings.filterwarnings('ignore')\n",
    "import matplotlib.pyplot as plt"
   ]
  },
  {
   "cell_type": "code",
   "execution_count": 0,
   "metadata": {
    "colab": {},
    "colab_type": "code",
    "id": "KwOsE91d4iYl"
   },
   "outputs": [],
   "source": [
    "!pip install -U -q PyDrive\n",
    "\n",
    "from pydrive.auth import GoogleAuth\n",
    "from pydrive.drive import GoogleDrive\n",
    "from google.colab import auth\n",
    "from oauth2client.client import GoogleCredentials\n",
    "\n",
    "# 1. Authenticate and create the PyDrive client.\n",
    "auth.authenticate_user()\n",
    "gauth = GoogleAuth()\n",
    "gauth.credentials = GoogleCredentials.get_application_default()\n",
    "drive = GoogleDrive(gauth)"
   ]
  },
  {
   "cell_type": "code",
   "execution_count": 0,
   "metadata": {
    "colab": {},
    "colab_type": "code",
    "id": "nSiWoO1R6Pfm"
   },
   "outputs": [],
   "source": [
    "download = drive.CreateFile({'id': '1K1rpp1cP61oOjKc9CIx-0v4z2SdyOpyi'})\n",
    "download.GetContentFile('final.sqlite')"
   ]
  },
  {
   "cell_type": "code",
   "execution_count": 0,
   "metadata": {
    "colab": {},
    "colab_type": "code",
    "id": "d4OmCHQw6Rw6"
   },
   "outputs": [],
   "source": [
    "con = sqlite3.connect('final.sqlite')\n",
    "final = pd.read_sql_query(\"\"\" SELECT * FROM Reviews\"\"\", con)"
   ]
  },
  {
   "cell_type": "code",
   "execution_count": 0,
   "metadata": {
    "colab": {},
    "colab_type": "code",
    "id": "Kjf2yM5GF4_8"
   },
   "outputs": [],
   "source": [
    "\n",
    "from sklearn.model_selection import train_test_split\n",
    "final=final.sort_values(by=['Time'],ascending=False)\n",
    "final=final.head(121390)\n",
    "x=final[\"CleanedText\"]\n",
    "y=final[\"Score\"]\n"
   ]
  },
  {
   "cell_type": "code",
   "execution_count": 0,
   "metadata": {
    "colab": {},
    "colab_type": "code",
    "id": "ZoP5UK3zhZ2L"
   },
   "outputs": [],
   "source": [
    "### Create sequence\n",
    "vocabulary_size = 20000\n",
    "tokenizer = Tokenizer(num_words= vocabulary_size)\n",
    "tokenizer.fit_on_texts(x)\n",
    "sequences = tokenizer.texts_to_sequences(x)\n",
    "data = pad_sequences(sequences, maxlen=50)\n",
    "\n",
    "\n",
    "x_train,x_test,y_train,y_test=train_test_split(data, y, test_size=0.2,shuffle=False)"
   ]
  },
  {
   "cell_type": "code",
   "execution_count": 19,
   "metadata": {
    "colab": {
     "base_uri": "https://localhost:8080/",
     "height": 765
    },
    "colab_type": "code",
    "id": "mh8nifsXzrrJ",
    "outputId": "34fc8baf-3562-4c77-e349-301bb2ec104a"
   },
   "outputs": [
    {
     "name": "stdout",
     "output_type": "stream",
     "text": [
      "(97112, 600)\n",
      "[   0    0    0    0    0    0    0    0    0    0    0    0    0    0\n",
      "    0    0    0    0    0    0    0    0    0    0    0    0    0    0\n",
      "    0    0    0    0    0    0    0    0    0    0    0    0    0    0\n",
      "    0    0    0    0    0    0    0    0    0    0    0    0    0    0\n",
      "    0    0    0    0    0    0    0    0    0    0    0    0    0    0\n",
      "    0    0    0    0    0    0    0    0    0    0    0    0    0    0\n",
      "    0    0    0    0    0    0    0    0    0    0    0    0    0    0\n",
      "    0    0    0    0    0    0    0    0    0    0    0    0    0    0\n",
      "    0    0    0    0    0    0    0    0    0    0    0    0    0    0\n",
      "    0    0    0    0    0    0    0    0    0    0    0    0    0    0\n",
      "    0    0    0    0    0    0    0    0    0    0    0    0    0    0\n",
      "    0    0    0    0    0    0    0    0    0    0    0    0    0    0\n",
      "    0    0    0    0    0    0    0    0    0    0    0    0    0    0\n",
      "    0    0    0    0    0    0    0    0    0    0    0    0    0    0\n",
      "    0    0    0    0    0    0    0    0    0    0    0    0    0    0\n",
      "    0    0    0    0    0    0    0    0    0    0    0    0    0    0\n",
      "    0    0    0    0    0    0    0    0    0    0    0    0    0    0\n",
      "    0    0    0    0    0    0    0    0    0    0    0    0    0    0\n",
      "    0    0    0    0    0    0    0    0    0    0    0    0    0    0\n",
      "    0    0    0    0    0    0    0    0    0    0    0    0    0    0\n",
      "    0    0    0    0    0    0    0    0    0    0    0    0    0    0\n",
      "    0    0    0    0    0    0    0    0    0    0    0    0    0    0\n",
      "    0    0    0    0    0    0    0    0    0    0    0    0    0    0\n",
      "    0    0    0    0    0    0    0    0    0    0    0    0    0    0\n",
      "    0    0    0    0    0    0    0    0    0    0    0    0    0    0\n",
      "    0    0    0    0    0    0    0    0    0    0    0    0    0    0\n",
      "    0    0    0    0    0    0    0    0    0    0    0    0    0    0\n",
      "    0    0    0    0    0    0    0    0    0    0    0    0    0    0\n",
      "    0    0    0    0    0    0    0    0    0    0    0    0    0    0\n",
      "    0    0    0    0    0    0    0    0    0    0    0    0    0    0\n",
      "    0    0    0    0    0    0    0    0    0    0    0    0    0    0\n",
      "    0    0    0    0    0    0    0    0    0    0    0    0    0    0\n",
      "    0    0    0    0    0    0    0    0    0    0    0    0    0    0\n",
      "    0    0    0    0    0    0    0    0    0    0    0    0    0    0\n",
      "    0    0    0    0    0    0    0    0    0    0    0    0    0    0\n",
      "    0    0    0    0    0    0    0    0    0    0    0    0    0    0\n",
      "    0    0    0    0    0    0    0    0    0    0    0    0    0    0\n",
      "    0    0    0    0    0    0    0    0    0    0    0    0    0    0\n",
      "    0    0    0    0    0    0    0    0    0    0    0    0    0    0\n",
      "    0    0    0    0    0    0    0    0    0    0    0    0    0    0\n",
      "    0    0    0    0    0    0    0    0    0    0    0    0    0    0\n",
      "    0    0    0    0    0    0    0    0    0    0    0    0    0    0\n",
      "    0    0    9    5    4   27  122   20    5    6   86 1034]\n"
     ]
    }
   ],
   "source": [
    "max_review_length = 600\n",
    "X_train = sequence.pad_sequences(x_train, maxlen=max_review_length)\n",
    "X_test = sequence.pad_sequences(x_test, maxlen=max_review_length)\n",
    "\n",
    "print(X_train.shape)\n",
    "print(X_train[1])"
   ]
  },
  {
   "cell_type": "code",
   "execution_count": 0,
   "metadata": {
    "colab": {},
    "colab_type": "code",
    "id": "A_FT0dPNIeLP"
   },
   "outputs": [],
   "source": [
    "def plt_dynamic(x, vy, ty):\n",
    "    plt.figure(figsize=(10,5))\n",
    "    plt.plot(x, vy, 'b', label=\"Validation Loss\")\n",
    "    plt.plot(x, ty, 'r', label=\"Train Loss\")\n",
    "    plt.xlabel('Epochs') \n",
    "    plt.ylabel('Binary Crossentropy Loss')\n",
    "    plt.title('\\nBinary Crossentropy Loss VS Epochs')\n",
    "    plt.legend()\n",
    "    plt.grid()\n",
    "    plt.show()"
   ]
  },
  {
   "cell_type": "code",
   "execution_count": 0,
   "metadata": {
    "colab": {},
    "colab_type": "code",
    "id": "0bkqj4_JIXK1"
   },
   "outputs": [],
   "source": [
    "def labelEncoded(Y):\n",
    "    encoder = LabelEncoder()\n",
    "    encoder.fit(Y)\n",
    "    encoded_Y = encoder.transform(Y)\n",
    "    return encoded_Y\n",
    "\n",
    "y_test=labelEncoded(y_test)\n",
    "y_train=labelEncoded(y_train)"
   ]
  },
  {
   "cell_type": "markdown",
   "metadata": {},
   "source": [
    "## layer 1"
   ]
  },
  {
   "cell_type": "code",
   "execution_count": 0,
   "metadata": {
    "colab": {
     "base_uri": "https://localhost:8080/",
     "height": 1669
    },
    "colab_type": "code",
    "id": "Z6x93but-Szq",
    "outputId": "ee76df71-9b64-43c9-d90e-64ebc2989e05"
   },
   "outputs": [
    {
     "name": "stdout",
     "output_type": "stream",
     "text": [
      "WARNING:tensorflow:From /usr/local/lib/python3.6/dist-packages/tensorflow/python/framework/op_def_library.py:263: colocate_with (from tensorflow.python.framework.ops) is deprecated and will be removed in a future version.\n",
      "Instructions for updating:\n",
      "Colocations handled automatically by placer.\n",
      "WARNING:tensorflow:From /usr/local/lib/python3.6/dist-packages/keras/backend/tensorflow_backend.py:3445: calling dropout (from tensorflow.python.ops.nn_ops) with keep_prob is deprecated and will be removed in a future version.\n",
      "Instructions for updating:\n",
      "Please use `rate` instead of `keep_prob`. Rate should be set to `rate = 1 - keep_prob`.\n",
      "_________________________________________________________________\n",
      "Layer (type)                 Output Shape              Param #   \n",
      "=================================================================\n",
      "embedding_1 (Embedding)      (None, 600, 32)           640000    \n",
      "_________________________________________________________________\n",
      "dropout_1 (Dropout)          (None, 600, 32)           0         \n",
      "_________________________________________________________________\n",
      "lstm_1 (LSTM)                (None, 100)               53200     \n",
      "_________________________________________________________________\n",
      "dropout_2 (Dropout)          (None, 100)               0         \n",
      "_________________________________________________________________\n",
      "dense_1 (Dense)              (None, 1)                 101       \n",
      "=================================================================\n",
      "Total params: 693,301\n",
      "Trainable params: 693,301\n",
      "Non-trainable params: 0\n",
      "_________________________________________________________________\n",
      "None\n",
      "WARNING:tensorflow:From /usr/local/lib/python3.6/dist-packages/tensorflow/python/ops/math_ops.py:3066: to_int32 (from tensorflow.python.ops.math_ops) is deprecated and will be removed in a future version.\n",
      "Instructions for updating:\n",
      "Use tf.cast instead.\n",
      "Train on 97112 samples, validate on 24278 samples\n",
      "Epoch 1/10\n",
      "97112/97112 [==============================] - 1092s 11ms/step - loss: 0.3451 - acc: 0.8627 - val_loss: 0.2513 - val_acc: 0.8985\n",
      "Epoch 2/10\n",
      "97112/97112 [==============================] - 1073s 11ms/step - loss: 0.2088 - acc: 0.9177 - val_loss: 0.2249 - val_acc: 0.9123\n",
      "Epoch 3/10\n",
      "97112/97112 [==============================] - 1072s 11ms/step - loss: 0.1860 - acc: 0.9278 - val_loss: 0.2241 - val_acc: 0.9115\n",
      "Epoch 4/10\n",
      "97112/97112 [==============================] - 1078s 11ms/step - loss: 0.1717 - acc: 0.9339 - val_loss: 0.2288 - val_acc: 0.9108\n",
      "Epoch 5/10\n",
      "97112/97112 [==============================] - 1078s 11ms/step - loss: 0.1614 - acc: 0.9384 - val_loss: 0.2392 - val_acc: 0.9102\n",
      "Epoch 6/10\n",
      "97112/97112 [==============================] - 1078s 11ms/step - loss: 0.1528 - acc: 0.9419 - val_loss: 0.2383 - val_acc: 0.9085\n",
      "Epoch 7/10\n",
      "59904/97112 [=================>............] - ETA: 6:25 - loss: 0.1382 - acc: 0.9482WARNING:tensorflow:From /usr/local/lib/python3.6/dist-packages/tensorflow/python/framework/op_def_library.py:263: colocate_with (from tensorflow.python.framework.ops) is deprecated and will be removed in a future version.\n",
      "Instructions for updating:\n",
      "Colocations handled automatically by placer.\n",
      "WARNING:tensorflow:From /usr/local/lib/python3.6/dist-packages/keras/backend/tensorflow_backend.py:3445: calling dropout (from tensorflow.python.ops.nn_ops) with keep_prob is deprecated and will be removed in a future version.\n",
      "Instructions for updating:\n",
      "Please use `rate` instead of `keep_prob`. Rate should be set to `rate = 1 - keep_prob`.\n",
      "_________________________________________________________________\n",
      "Layer (type)                 Output Shape              Param #   \n",
      "=================================================================\n",
      "embedding_1 (Embedding)      (None, 600, 32)           640000    \n",
      "_________________________________________________________________\n",
      "dropout_1 (Dropout)          (None, 600, 32)           0         \n",
      "_________________________________________________________________\n",
      "lstm_1 (LSTM)                (None, 100)               53200     \n",
      "_________________________________________________________________\n",
      "dropout_2 (Dropout)          (None, 100)               0         \n",
      "_________________________________________________________________\n",
      "dense_1 (Dense)              (None, 1)                 101       \n",
      "=================================================================\n",
      "Total params: 693,301\n",
      "Trainable params: 693,301\n",
      "Non-trainable params: 0\n",
      "_________________________________________________________________\n",
      "None\n",
      "WARNING:tensorflow:From /usr/local/lib/python3.6/dist-packages/tensorflow/python/ops/math_ops.py:3066: to_int32 (from tensorflow.python.ops.math_ops) is deprecated and will be removed in a future version.\n",
      "Instructions for updating:\n",
      "Use tf.cast instead.\n",
      "Train on 97112 samples, validate on 24278 samples\n",
      "Epoch 1/10\n",
      "97112/97112 [==============================] - 1092s 11ms/step - loss: 0.3451 - acc: 0.8627 - val_loss: 0.2513 - val_acc: 0.8985\n",
      "Epoch 2/10\n",
      "97112/97112 [==============================] - 1073s 11ms/step - loss: 0.2088 - acc: 0.9177 - val_loss: 0.2249 - val_acc: 0.9123\n",
      "Epoch 3/10\n",
      "97112/97112 [==============================] - 1072s 11ms/step - loss: 0.1860 - acc: 0.9278 - val_loss: 0.2241 - val_acc: 0.9115\n",
      "Epoch 4/10\n",
      "97112/97112 [==============================] - 1078s 11ms/step - loss: 0.1717 - acc: 0.9339 - val_loss: 0.2288 - val_acc: 0.9108\n",
      "Epoch 5/10\n",
      "97112/97112 [==============================] - 1078s 11ms/step - loss: 0.1614 - acc: 0.9384 - val_loss: 0.2392 - val_acc: 0.9102\n",
      "Epoch 6/10\n",
      "97112/97112 [==============================] - 1078s 11ms/step - loss: 0.1528 - acc: 0.9419 - val_loss: 0.2383 - val_acc: 0.9085\n",
      "Epoch 7/10\n",
      "97112/97112 [==============================] - 1076s 11ms/step - loss: 0.1431 - acc: 0.9459 - val_loss: 0.2490 - val_acc: 0.9085\n",
      "97112/97112 [==============================] - 1076s 11ms/step - loss: 0.1431 - acc: 0.9459 - val_loss: 0.2490 - val_acc: 0.9085\n",
      "Epoch 8/10\n",
      "Epoch 8/10\n",
      "97112/97112 [==============================] - 1073s 11ms/step - loss: 0.1372 - acc: 0.9485 - val_loss: 0.2577 - val_acc: 0.9060\n",
      "97112/97112 [==============================] - 1073s 11ms/step - loss: 0.1372 - acc: 0.9485 - val_loss: 0.2577 - val_acc: 0.9060\n",
      "Epoch 9/10\n",
      "Epoch 9/10\n",
      "97112/97112 [==============================] - 1077s 11ms/step - loss: 0.1304 - acc: 0.9515 - val_loss: 0.2628 - val_acc: 0.9019\n",
      "97112/97112 [==============================] - 1077s 11ms/step - loss: 0.1304 - acc: 0.9515 - val_loss: 0.2628 - val_acc: 0.9019\n",
      "Epoch 10/10\n",
      "Epoch 10/10\n",
      "97112/97112 [==============================] - 1076s 11ms/step - loss: 0.1237 - acc: 0.9542 - val_loss: 0.2787 - val_acc: 0.9034\n",
      "97112/97112 [==============================] - 1076s 11ms/step - loss: 0.1237 - acc: 0.9542 - val_loss: 0.2787 - val_acc: 0.9034\n"
     ]
    }
   ],
   "source": [
    "# create the model\n",
    "embedding_vecor_length = 32\n",
    "\n",
    "#Sequential model\n",
    "layer_1 = Sequential()\n",
    "\n",
    "#embedding\n",
    "layer_1.add(Embedding(20000, embedding_vecor_length, input_length=max_review_length))\n",
    "\n",
    "# 1st LSTM layer\n",
    "layer_1.add(LSTM(100))\n",
    "\n",
    "# Dropout layer\n",
    "layer_1.add(Dropout(0.3))\n",
    "\n",
    "# output layer\n",
    "layer_1.add(Dense(1, activation='sigmoid'))\n",
    "\n",
    "# model summary\n",
    "print(layer_1.summary())\n",
    "\n",
    "# Compiling\n",
    "layer_1.compile(loss='binary_crossentropy', optimizer='adam', metrics=['accuracy'])\n",
    "\n",
    "# Fitting the model\n",
    "history_1 = layer_1.fit(X_train, y_train, nb_epoch=10, batch_size=512 ,verbose=1,validation_data=(X_test, y_test))"
   ]
  },
  {
   "cell_type": "code",
   "execution_count": 0,
   "metadata": {
    "colab": {
     "base_uri": "https://localhost:8080/",
     "height": 382
    },
    "colab_type": "code",
    "id": "tmVTQE1v3vHy",
    "outputId": "0c2b09aa-9efe-4de9-b577-b80b6a7a8f89"
   },
   "outputs": [
    {
     "name": "stdout",
     "output_type": "stream",
     "text": [
      "Accuracy: 91.27%\n"
     ]
    },
    {
     "data": {
      "image/png": "[encoded data removed]",
      "text/plain": [
       "<Figure size 720x360 with 1 Axes>"
      ]
     },
     "metadata": {
      "tags": []
     },
     "output_type": "display_data"
    }
   ],
   "source": [
    "score = layer_1.evaluate(x_test, y_test, verbose=0) \n",
    "print('Accuracy:', score[1])\n",
    "layer_1_test = score[1]\n",
    "layer_1_train = max(history_1.history['acc'])\n",
    "x = list(range(1,epochs+1))\n",
    "# Validation loss\n",
    "vy = history_1.history['val_loss']\n",
    "# Training loss\n",
    "ty = history_1.history['loss']\n",
    "\n",
    "# Calling the function to draw the plot\n",
    "plt_dynamic(x, vy, ty)"
   ]
  },
  {
   "cell_type": "markdown",
   "metadata": {},
   "source": [
    "## layer 2"
   ]
  },
  {
   "cell_type": "code",
   "execution_count": 0,
   "metadata": {
    "colab": {
     "base_uri": "https://localhost:8080/",
     "height": 819
    },
    "colab_type": "code",
    "id": "zydwnE-6nBcO",
    "outputId": "d0505416-065d-4060-d212-87027f4f01d5"
   },
   "outputs": [
    {
     "name": "stdout",
     "output_type": "stream",
     "text": [
      "WARNING:tensorflow:From /usr/local/lib/python3.6/dist-packages/tensorflow/python/framework/op_def_library.py:263: colocate_with (from tensorflow.python.framework.ops) is deprecated and will be removed in a future version.\n",
      "Instructions for updating:\n",
      "Colocations handled automatically by placer.\n",
      "WARNING:tensorflow:From /usr/local/lib/python3.6/dist-packages/keras/backend/tensorflow_backend.py:3445: calling dropout (from tensorflow.python.ops.nn_ops) with keep_prob is deprecated and will be removed in a future version.\n",
      "Instructions for updating:\n",
      "Please use `rate` instead of `keep_prob`. Rate should be set to `rate = 1 - keep_prob`.\n",
      "_________________________________________________________________\n",
      "Layer (type)                 Output Shape              Param #   \n",
      "=================================================================\n",
      "embedding_1 (Embedding)      (None, 600, 32)           640000    \n",
      "_________________________________________________________________\n",
      "lstm_1 (LSTM)                (None, 600, 100)          53200     \n",
      "_________________________________________________________________\n",
      "lstm_2 (LSTM)                (None, 100)               80400     \n",
      "_________________________________________________________________\n",
      "dense_1 (Dense)              (None, 1)                 101       \n",
      "=================================================================\n",
      "Total params: 773,701\n",
      "Trainable params: 773,701\n",
      "Non-trainable params: 0\n",
      "_________________________________________________________________\n",
      "None\n",
      "WARNING:tensorflow:From /usr/local/lib/python3.6/dist-packages/tensorflow/python/ops/math_ops.py:3066: to_int32 (from tensorflow.python.ops.math_ops) is deprecated and will be removed in a future version.\n",
      "Instructions for updating:\n",
      "Use tf.cast instead.\n",
      "Train on 145668 samples, validate on 36417 samples\n",
      "Epoch 1/10\n",
      "145668/145668 [==============================] - 4228s 29ms/step - loss: 0.2989 - acc: 0.8820 - val_loss: 0.2175 - val_acc: 0.9142\n",
      "Epoch 2/10\n",
      "145668/145668 [==============================] - 4177s 29ms/step - loss: 0.2144 - acc: 0.9157 - val_loss: 0.2424 - val_acc: 0.9023\n",
      "Epoch 3/10\n",
      "145668/145668 [==============================] - 4167s 29ms/step - loss: 0.2050 - acc: 0.9194 - val_loss: 0.2092 - val_acc: 0.9187\n",
      "Epoch 4/10\n",
      "145668/145668 [==============================] - 4172s 29ms/step - loss: 0.1849 - acc: 0.9280 - val_loss: 0.2126 - val_acc: 0.9173\n",
      "Epoch 5/10\n",
      "145668/145668 [==============================] - 4146s 28ms/step - loss: 0.1780 - acc: 0.9312 - val_loss: 0.2146 - val_acc: 0.9175\n",
      "Epoch 6/10\n",
      "145668/145668 [==============================] - 4177s 29ms/step - loss: 0.1707 - acc: 0.9341 - val_loss: 0.2172 - val_acc: 0.9186\n",
      "Epoch 7/10\n",
      "145668/145668 [==============================] - 4177s 29ms/step - loss: 0.1647 - acc: 0.9372 - val_loss: 0.2230 - val_acc: 0.9166\n",
      "Epoch 8/10\n",
      "145668/145668 [==============================] - 4175s 29ms/step - loss: 0.1596 - acc: 0.9389 - val_loss: 0.2214 - val_acc: 0.9162\n",
      "Epoch 9/10\n",
      "145668/145668 [==============================] - 4204s 29ms/step - loss: 0.1547 - acc: 0.9415 - val_loss: 0.2277 - val_acc: 0.9148\n",
      "Epoch 10/10\n",
      "145668/145668 [==============================] - 4177s 29ms/step - loss: 0.1503 - acc: 0.9425 - val_loss: 0.2359 - val_acc: 0.9134\n"
     ]
    }
   ],
   "source": [
    "# create the model\n",
    "embedding_vecor_length = 32\n",
    "\n",
    "#Sequential model\n",
    "layer_2 = Sequential()\n",
    "\n",
    "#embedding layer\n",
    "layer_2.add(Embedding(20000, embedding_vecor_length, input_length=max_review_length))\n",
    "\n",
    "#1st LSTM layer\n",
    "layer_2.add(LSTM(100,return_sequences=True, dropout=0.3, recurrent_dropout=0.3))\n",
    "\n",
    "#2nd LSTM layer\n",
    "layer_2.add(LSTM(100, dropout=0.3, recurrent_dropout=0.3))\n",
    "\n",
    "#output layer\n",
    "layer_2.add(Dense(1, activation='sigmoid'))\n",
    "\n",
    "#summary\n",
    "print(layer_2.summary())\n",
    "\n",
    "# Compiling\n",
    "layer_2.compile(loss='binary_crossentropy', optimizer='adam', metrics=['accuracy'])\n",
    "\n",
    "# Fitting the model\n",
    "history_2 = layer_2.fit(X_train, y_train, nb_epoch=10, batch_size=512 ,verbose=1,validation_data=(X_test, y_test))"
   ]
  },
  {
   "cell_type": "code",
   "execution_count": 0,
   "metadata": {
    "colab": {
     "base_uri": "https://localhost:8080/",
     "height": 382
    },
    "colab_type": "code",
    "id": "zZkJUH64q44t",
    "outputId": "2ff47d91-8dee-45d6-92f9-5eff5ac6a86e"
   },
   "outputs": [
    {
     "name": "stdout",
     "output_type": "stream",
     "text": [
      "Accuracy: 90.34%\n"
     ]
    },
    {
     "data": {
      "image/png": "[encoded data removed]",
      "text/plain": [
       "<Figure size 720x360 with 1 Axes>"
      ]
     },
     "metadata": {
      "tags": []
     },
     "output_type": "display_data"
    }
   ],
   "source": [
    "score = layer_2.evaluate(x_test, y_test, verbose=0) \n",
    "print('Accuracy:', score[1])\n",
    "layer_2_test = score[1]\n",
    "layer_2_train = max(history_2.history['acc'])\n",
    "x = list(range(1,epochs+1))\n",
    "# Validation loss\n",
    "vy = history_2.history['val_loss']\n",
    "# Training loss\n",
    "ty = history_2.history['loss']\n",
    "\n",
    "# Calling the function to draw the plot\n",
    "plt_dynamic(x, vy, ty)"
   ]
  },
  {
   "cell_type": "markdown",
   "metadata": {},
   "source": [
    "## layer 3"
   ]
  },
  {
   "cell_type": "code",
   "execution_count": 0,
   "metadata": {
    "colab": {
     "base_uri": "https://localhost:8080/",
     "height": 751
    },
    "colab_type": "code",
    "id": "HvN3ol0hk2Pa",
    "outputId": "87cd58a0-5ad0-4321-8cfa-36f523efe4dd"
   },
   "outputs": [
    {
     "name": "stdout",
     "output_type": "stream",
     "text": [
      "_________________________________________________________________\n",
      "Layer (type)                 Output Shape              Param #   \n",
      "=================================================================\n",
      "embedding_3 (Embedding)      (None, 600, 32)           640000    \n",
      "_________________________________________________________________\n",
      "lstm_7 (LSTM)                (None, 600, 100)          53200     \n",
      "_________________________________________________________________\n",
      "lstm_8 (LSTM)                (None, 600, 100)          80400     \n",
      "_________________________________________________________________\n",
      "lstm_9 (LSTM)                (None, 100)               80400     \n",
      "_________________________________________________________________\n",
      "dense_2 (Dense)              (None, 1)                 101       \n",
      "=================================================================\n",
      "Total params: 854,101\n",
      "Trainable params: 854,101\n",
      "Non-trainable params: 0\n",
      "_________________________________________________________________\n",
      "None\n",
      "WARNING:tensorflow:From /usr/local/lib/python3.6/dist-packages/tensorflow/python/ops/math_ops.py:3066: to_int32 (from tensorflow.python.ops.math_ops) is deprecated and will be removed in a future version.\n",
      "Instructions for updating:\n",
      "Use tf.cast instead.\n",
      "Train on 97112 samples, validate on 24278 samples\n",
      "Epoch 1/10\n",
      "97112/97112 [==============================] - 4533s 47ms/step - loss: 0.3340 - acc: 0.8695 - val_loss: 0.2400 - val_acc: 0.9023\n",
      "Epoch 2/10\n",
      "97112/97112 [==============================] - 4414s 45ms/step - loss: 0.2199 - acc: 0.9141 - val_loss: 0.2282 - val_acc: 0.9089\n",
      "Epoch 3/10\n",
      "97112/97112 [==============================] - 4368s 45ms/step - loss: 0.2029 - acc: 0.9212 - val_loss: 0.2278 - val_acc: 0.9086\n",
      "Epoch 4/10\n",
      "97112/97112 [==============================] - 4492s 46ms/step - loss: 0.1878 - acc: 0.9272 - val_loss: 0.2292 - val_acc: 0.9098\n",
      "Epoch 5/10\n",
      "97112/97112 [==============================] - 4538s 47ms/step - loss: 0.1770 - acc: 0.9322 - val_loss: 0.2327 - val_acc: 0.9086\n",
      "Epoch 6/10\n",
      "97112/97112 [==============================] - 4573s 47ms/step - loss: 0.1699 - acc: 0.9359 - val_loss: 0.2310 - val_acc: 0.9063\n",
      "Epoch 7/10\n",
      "97112/97112 [==============================] - 4592s 47ms/step - loss: 0.1628 - acc: 0.9380 - val_loss: 0.2346 - val_acc: 0.9062\n",
      "Epoch 8/10\n",
      "97112/97112 [==============================] - 4545s 47ms/step - loss: 0.1574 - acc: 0.9405 - val_loss: 0.2400 - val_acc: 0.9067\n",
      "Epoch 9/10\n",
      "97112/97112 [==============================] - 4581s 47ms/step - loss: 0.1511 - acc: 0.9431 - val_loss: 0.2373 - val_acc: 0.9082\n",
      "Epoch 10/10\n",
      "52224/97112 [===============>..............] - ETA: 33:35 - loss: 0.1419 - acc: 0.9481"
     ]
    }
   ],
   "source": [
    "embedding_vecor_length = 32\n",
    "\n",
    "#Sequential model\n",
    "layer_3 = Sequential()\n",
    "\n",
    "#embedding model\n",
    "layer_3.add(Embedding(20000, embedding_vecor_length, input_length=max_review_length))\n",
    "\n",
    "#1st LSTM layer\n",
    "layer_3.add(LSTM(100,return_sequences=True, dropout=0.3, recurrent_dropout=0.3))\n",
    "\n",
    "#2nd LSTM layer\n",
    "model_3.add(LSTM(100,return_sequences=True, dropout=0.3, recurrent_dropout=0.3))\n",
    "\n",
    "#3rd LSTM layer\n",
    "layer_3.add(LSTM(100, dropout=0.3, recurrent_dropout=0.3))\n",
    "\n",
    "#output layer\n",
    "layer_3.add(Dense(1, activation='sigmoid'))\n",
    "\n",
    "#summary\n",
    "print(layer_3.summary())\n",
    "\n",
    "#Compiling\n",
    "layer_3.compile(loss='binary_crossentropy', optimizer='adam', metrics=['accuracy'])\n",
    "\n",
    "#Fitting the model\n",
    "history_3 = layer_3.fit(X_train, y_train, nb_epoch=10, batch_size=512 ,verbose=1,validation_data=(X_test, y_test))"
   ]
  },
  {
   "cell_type": "code",
   "execution_count": 0,
   "metadata": {
    "colab": {
     "base_uri": "https://localhost:8080/",
     "height": 381
    },
    "colab_type": "code",
    "id": "nvos4p3R7whc",
    "outputId": "4531ab6a-714d-4a1b-e2f4-e8ea093d4f99"
   },
   "outputs": [
    {
     "name": "stdout",
     "output_type": "stream",
     "text": [
      "Accuracy: 92.18%\n"
     ]
    },
    {
     "data": {
      "image/png": "[encoded data removed]",
      "text/plain": [
       "<matplotlib.figure.Figure at 0x7fa45c2a9588>"
      ]
     },
     "metadata": {
      "tags": []
     },
     "output_type": "display_data"
    }
   ],
   "source": [
    "score = layer_3.evaluate(x_test, y_test, verbose=0) \n",
    "print('Accuracy:', score[1])\n",
    "layer_3_test = score[1]\n",
    "layer_3_train = max(history_7.history['acc'])\n",
    "x = list(range(1,epochs+1))\n",
    "# Validation loss\n",
    "vy = history_3.history['val_loss']\n",
    "# Training loss\n",
    "ty = history_3.history['loss']\n",
    "\n",
    "# Calling the function to draw the plot\n",
    "plt_dynamic(x, vy, ty)"
   ]
  },
  {
   "cell_type": "markdown",
   "metadata": {},
   "source": [
    "## LSTMS\n",
    "| Layer |accuracy Test\n",
    "|------|------|\n",
    "|Layer 1|91.27%|\n",
    "|Layer 2|90.34%|\n",
    "|Layer 3|92.18%|"
   ]
  },
  {
   "cell_type": "code",
   "execution_count": null,
   "metadata": {},
   "outputs": [],
   "source": []
  }
 ],
 "metadata": {
  "colab": {
   "collapsed_sections": [],
   "name": "LSTM on amazon fine food reviews.ipynb",
   "provenance": [],
   "version": "0.3.2"
  },
  "kernelspec": {
   "display_name": "Python 3",
   "language": "python",
   "name": "python3"
  },
  "language_info": {
   "codemirror_mode": {
    "name": "ipython",
    "version": 3
   },
   "file_extension": ".py",
   "mimetype": "text/x-python",
   "name": "python",
   "nbconvert_exporter": "python",
   "pygments_lexer": "ipython3",
   "version": "3.6.7"
  }
 },
 "nbformat": 4,
 "nbformat_minor": 1
}
