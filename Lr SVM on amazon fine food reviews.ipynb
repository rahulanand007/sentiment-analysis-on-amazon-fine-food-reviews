{
 "cells": [
  {
   "cell_type": "markdown",
   "metadata": {
    "colab_type": "text",
    "id": "AbjV6Rp8SQHe"
   },
   "source": [
    "# 1.Loading the data"
   ]
  },
  {
   "cell_type": "code",
   "execution_count": 0,
   "metadata": {
    "colab": {},
    "colab_type": "code",
    "id": "UL7LULFA5IUe"
   },
   "outputs": [],
   "source": [
    "%matplotlib inline\n",
    "import warnings\n",
    "warnings.filterwarnings(\"ignore\")\n",
    "\n",
    "import sqlite3\n",
    "import pandas as pd\n",
    "import numpy as np\n",
    "import nltk\n",
    "import string\n",
    "import matplotlib.pyplot as plt\n",
    "import seaborn as sns\n",
    "from sklearn.feature_extraction.text import TfidfTransformer\n",
    "from sklearn.feature_extraction.text import TfidfVectorizer\n",
    "\n",
    "from sklearn.feature_extraction.text import CountVectorizer\n",
    "from sklearn.metrics import confusion_matrix\n",
    "from sklearn import metrics\n",
    "from sklearn.metrics import roc_curve, auc\n",
    "from nltk.stem.porter import PorterStemmer\n",
    "\n",
    "import re\n",
    "import string\n",
    "from nltk.corpus import stopwords\n",
    "from nltk.stem import PorterStemmer\n",
    "from nltk.stem.wordnet import WordNetLemmatizer\n",
    "\n",
    "from gensim.models import Word2Vec\n",
    "from gensim.models import KeyedVectors\n",
    "import pickle\n",
    "\n",
    "from sklearn.preprocessing import StandardScaler\n",
    "from sklearn.svm import SVC\n",
    "from tqdm import tqdm\n",
    "\n",
    "\n",
    "from sklearn.metrics import f1_score\n",
    "from sklearn.model_selection import GridSearchCV\n",
    "\n",
    "import seaborn as sns\n",
    "from sklearn.metrics import accuracy_score\n",
    "from sklearn.metrics import confusion_matrix\n",
    "from sklearn.metrics import precision_score\n",
    "from sklearn.metrics import f1_score\n",
    "from sklearn.metrics import recall_score\n",
    "\n",
    "\n",
    "from sklearn.model_selection import train_test_split\n",
    "from sklearn.metrics import accuracy_score\n",
    "from collections import Counter\n",
    "from sklearn.metrics import accuracy_score\n",
    "from sklearn.linear_model import SGDClassifier\n",
    "from sklearn.calibration import CalibratedClassifierCV\n",
    "from sklearn.metrics import roc_auc_score"
   ]
  },
  {
   "cell_type": "code",
   "execution_count": 0,
   "metadata": {
    "colab": {},
    "colab_type": "code",
    "id": "qd27xO3WWRM-"
   },
   "outputs": [],
   "source": [
    "!pip install -U -q PyDrive\n",
    "\n",
    "from pydrive.auth import GoogleAuth\n",
    "from pydrive.drive import GoogleDrive\n",
    "from google.colab import auth\n",
    "from oauth2client.client import GoogleCredentials\n",
    "\n",
    "# 1. Authenticate and create the PyDrive client.\n",
    "auth.authenticate_user()\n",
    "gauth = GoogleAuth()\n",
    "gauth.credentials = GoogleCredentials.get_application_default()\n",
    "drive = GoogleDrive(gauth)\n",
    "\n"
   ]
  },
  {
   "cell_type": "code",
   "execution_count": 0,
   "metadata": {
    "colab": {},
    "colab_type": "code",
    "id": "LyIXrEcxWRn2"
   },
   "outputs": [],
   "source": [
    "download = drive.CreateFile({'id': '1K1rpp1cP61oOjKc9CIx-0v4z2SdyOpyi'})\n",
    "download.GetContentFile('final.sqlite')"
   ]
  },
  {
   "cell_type": "code",
   "execution_count": 0,
   "metadata": {
    "colab": {},
    "colab_type": "code",
    "id": "HZmqu5TVeZPI"
   },
   "outputs": [],
   "source": [
    "con = sqlite3.connect('final.sqlite')\n",
    "final = pd.read_sql_query(\"\"\" SELECT * FROM Reviews\"\"\", con) "
   ]
  },
  {
   "cell_type": "markdown",
   "metadata": {
    "colab_type": "text",
    "id": "cncsvOfLwxAK"
   },
   "source": [
    "\n",
    "\n",
    "\n",
    "## 3.1 Spliting CleanedText and Score"
   ]
  },
  {
   "cell_type": "code",
   "execution_count": 0,
   "metadata": {
    "colab": {},
    "colab_type": "code",
    "id": "fj-tynWYplqR"
   },
   "outputs": [],
   "source": [
    "final=final.sort_values(by=['Time'],ascending=False)\n",
    "finalDataPoints=final.head(100000)\n",
    "\n",
    "x=finalDataPoints[\"CleanedText\"]\n",
    "y=finalDataPoints[\"Score\"]\n",
    "\n",
    "\n",
    "\n",
    "x1,x_test,y1,y_test=train_test_split(x, y, test_size=0.2,shuffle=False)\n",
    "x_tr,x_cv,y_tr,y_cv=train_test_split(x1,y1,test_size=0.25,shuffle=False)"
   ]
  },
  {
   "cell_type": "code",
   "execution_count": 0,
   "metadata": {
    "colab": {
     "base_uri": "https://localhost:8080/",
     "height": 34
    },
    "colab_type": "code",
    "id": "QFfjbdfTiSmB",
    "outputId": "9dc3e1eb-197c-41cf-d405-66d4fcd201d7"
   },
   "outputs": [
    {
     "name": "stdout",
     "output_type": "stream",
     "text": [
      "(80000,) (80000,)\n"
     ]
    }
   ],
   "source": [
    "print(x1.shape,y1.shape)"
   ]
  },
  {
   "cell_type": "code",
   "execution_count": 0,
   "metadata": {
    "colab": {
     "base_uri": "https://localhost:8080/",
     "height": 34
    },
    "colab_type": "code",
    "id": "ZmyRPAj1y9o7",
    "outputId": "89b66029-1f6e-43b8-ff21-d12c56aaa31a"
   },
   "outputs": [
    {
     "name": "stdout",
     "output_type": "stream",
     "text": [
      "(20000,) (20000,)\n"
     ]
    }
   ],
   "source": [
    "print(x_test.shape,y_test.shape)"
   ]
  },
  {
   "cell_type": "markdown",
   "metadata": {
    "colab_type": "text",
    "id": "tX5721JWSQIf"
   },
   "source": [
    "# 4.Bag of Words (BoW)"
   ]
  },
  {
   "cell_type": "markdown",
   "metadata": {
    "colab_type": "text",
    "id": "vnZuWK1PwxAd"
   },
   "source": [
    "# 4.1 Unigram"
   ]
  },
  {
   "cell_type": "code",
   "execution_count": 0,
   "metadata": {
    "colab": {},
    "colab_type": "code",
    "id": "9Ih-bFF1gm1v"
   },
   "outputs": [],
   "source": [
    "#BOW for unigram\n",
    "bow = CountVectorizer()\n",
    "x_tr_uni = bow.fit_transform(x_tr)\n",
    "x_test_uni= bow.transform(x_test)\n",
    "x_cv_uni= bow.transform(x_cv)"
   ]
  },
  {
   "cell_type": "markdown",
   "metadata": {
    "colab_type": "text",
    "id": "gAKTB8UGwxAh"
   },
   "source": [
    "### 4.1.1 Finding the optimal alpha"
   ]
  },
  {
   "cell_type": "code",
   "execution_count": 0,
   "metadata": {
    "colab": {},
    "colab_type": "code",
    "id": "EiRzldR2SQIg"
   },
   "outputs": [],
   "source": [
    "from sklearn.metrics import roc_auc_score\n",
    "cv_err = []\n",
    "test_err=[]\n",
    "a_val = [0.0000001,0.0000005,0.000001,0.000005,0.00001,0.00005,0.0001,0.0005,0.001,0.005,0.01,0.05,0.1]\n",
    "for a in a_val:\n",
    "    clf = SGDClassifier(loss = 'hinge', alpha = a, class_weight='balanced', learning_rate='optimal',eta0=0.001, n_jobs = -1) \n",
    "    clf.fit(x_tr_uni,y_tr)\n",
    "    calib_clf = CalibratedClassifierCV(clf, method = \"sigmoid\")\n",
    "    calib_clf.fit(x_tr_uni, y_tr)\n",
    "    predicted_y = calib_clf.predict_proba(x_cv_uni)\n",
    "    probs = predicted_y[:, 1]\n",
    "    cv_err.append(roc_auc_score(y_cv, probs))"
   ]
  },
  {
   "cell_type": "markdown",
   "metadata": {
    "colab_type": "text",
    "id": "O6hLAdaGwxAn"
   },
   "source": [
    "### 4.1.2 finding the Roc_auc value on cv data using optimal alpha"
   ]
  },
  {
   "cell_type": "code",
   "execution_count": 0,
   "metadata": {
    "colab": {
     "base_uri": "https://localhost:8080/",
     "height": 550
    },
    "colab_type": "code",
    "id": "c5fWiuNKpMgo",
    "outputId": "cab47fbc-5275-46a9-8cae-b2195212c25d"
   },
   "outputs": [
    {
     "name": "stdout",
     "output_type": "stream",
     "text": [
      "0.9332475785624053\n",
      "0.001\n"
     ]
    },
    {
     "data": {
      "image/png": "[encoded data removed]",
      "text/plain": [
       "<matplotlib.figure.Figure at 0x7f678663f4e0>"
      ]
     },
     "metadata": {
      "tags": []
     },
     "output_type": "display_data"
    }
   ],
   "source": [
    "a_val = [0.0000001,0.0000005,0.000001,0.000005,0.00001,0.00005,0.0001,0.0005,0.001,0.005,0.01,0.05,0.1]\n",
    "plt.figure(figsize=(8,8))\n",
    "plt.plot(a_val, cv_err,label = 'cv_error', color = 'b')\n",
    "plt.xscale('log')\n",
    "plt.xlabel('Alpha-Values')\n",
    "plt.ylabel('roc_auc Values')\n",
    "plt.legend()\n",
    "print(max(cv_err))\n",
    "print(a_val[cv_err.index(max(cv_err))])"
   ]
  },
  {
   "cell_type": "markdown",
   "metadata": {},
   "source": [
    "### 4.1.3 finding the Roc_auc value on Test data using optimal alpha"
   ]
  },
  {
   "cell_type": "code",
   "execution_count": 0,
   "metadata": {
    "colab": {
     "base_uri": "https://localhost:8080/",
     "height": 453
    },
    "colab_type": "code",
    "id": "n_eG7UfpaBW7",
    "outputId": "56052fbb-390c-43b2-a22a-2bb3227ca629"
   },
   "outputs": [
    {
     "name": "stdout",
     "output_type": "stream",
     "text": [
      "0.9409401786642803\n",
      "Accuracy on test set: 90.770%\n",
      "Precision on test set: 0.870\n",
      "Recall on test set: 0.794\n",
      "F1-Score on test set: 0.824\n"
     ]
    },
    {
     "data": {
      "text/plain": [
       "<matplotlib.axes._subplots.AxesSubplot at 0x7f856a2a0c18>"
      ]
     },
     "execution_count": 27,
     "metadata": {
      "tags": []
     },
     "output_type": "execute_result"
    },
    {
     "data": {
      "image/png": "[encoded data removed]",
      "text/plain": [
       "<matplotlib.figure.Figure at 0x7f856a2a0438>"
      ]
     },
     "metadata": {
      "tags": []
     },
     "output_type": "display_data"
    }
   ],
   "source": [
    "clf = SGDClassifier(loss = 'hinge', alpha = 0.001, class_weight='balanced', learning_rate='optimal',eta0=0.001, n_jobs = -1) \n",
    "calib_clf = CalibratedClassifierCV(clf, method = \"sigmoid\")\n",
    "calib_clf.fit(x_tr_1,y1)\n",
    "predicted_y_Pro = calib_clf.predict_proba(x_test_uni)\n",
    "y_pred= calib_clf.predict(x_test_uni)\n",
    "probs = predicted_y_Pro[:, 1]\n",
    "print(roc_auc_score(y_test, probs))\n",
    "print(\"Accuracy on test set: %0.3f%%\"%(accuracy_score(y_test, y_pred)*100))\n",
    "print(\"Precision on test set: %0.3f\"%(precision_score(y_test, y_pred,average='macro')))\n",
    "print(\"Recall on test set: %0.3f\"%(recall_score(y_test, y_pred,average='macro')))\n",
    "print(\"F1-Score on test set: %0.3f\"%(f1_score(y_test, y_pred,average='macro')))\n",
    "df_cm = pd.DataFrame(confusion_matrix(y_test, y_pred), range(2),range(2))\n",
    "sns.set(font_scale=1.4)#for label size\n",
    "sns.heatmap(df_cm, annot=True,annot_kws={\"size\": 16}, fmt='g')"
   ]
  },
  {
   "cell_type": "markdown",
   "metadata": {
    "colab_type": "text",
    "id": "V2NiMbmsSQIj"
   },
   "source": [
    "## 4.2 Bi-Grams\n"
   ]
  },
  {
   "cell_type": "code",
   "execution_count": 0,
   "metadata": {
    "colab": {},
    "colab_type": "code",
    "id": "rBrRvWj3wjxL"
   },
   "outputs": [],
   "source": [
    "bi_gram = CountVectorizer(ngram_range=(1,2))\n",
    "x_tr_bi = bi_gram.fit_transform(x_tr)\n",
    "x_test_bi = bi_gram.transform(x_test)\n",
    "x_cv_bi= bi_gram.transform(x_cv)"
   ]
  },
  {
   "cell_type": "markdown",
   "metadata": {},
   "source": [
    "### 4.2.1 Finding the optimal alpha"
   ]
  },
  {
   "cell_type": "code",
   "execution_count": 0,
   "metadata": {
    "colab": {},
    "colab_type": "code",
    "id": "b-irAcWQ0TQs"
   },
   "outputs": [],
   "source": [
    "from sklearn.metrics import roc_auc_score\n",
    "cv_err = []\n",
    "test_err=[]\n",
    "a_val = [0.0000001,0.0000005,0.000001,0.000005,0.00001,0.00005,0.0001,0.0005,0.001,0.005,0.01,0.05,0.1]\n",
    "for a in a_val:\n",
    "  clf = SGDClassifier(loss = 'hinge', alpha = a, class_weight='balanced', learning_rate='optimal',eta0=0.001, n_jobs = -1) \n",
    "  clf.fit(x_tr_bi,y_tr)\n",
    "  calib_clf = CalibratedClassifierCV(clf, method = \"sigmoid\")\n",
    "  calib_clf.fit(x_tr_bi, y_tr)\n",
    "  predicted_y = calib_clf.predict_proba(x_cv_bi)\n",
    "  probs = predicted_y[:, 1]\n",
    "  cv_err.append(roc_auc_score(y_cv, probs))"
   ]
  },
  {
   "cell_type": "markdown",
   "metadata": {
    "colab_type": "text",
    "id": "4kE1rsMG0TQp"
   },
   "source": [
    "### 4.2.2 finding the Roc_auc value on cv data using optimal alpha"
   ]
  },
  {
   "cell_type": "code",
   "execution_count": 0,
   "metadata": {
    "colab": {
     "base_uri": "https://localhost:8080/",
     "height": 550
    },
    "colab_type": "code",
    "id": "pAKJa2EQ0TQy",
    "outputId": "3deaaf44-0d2d-4afe-e6e6-3836a5df5377"
   },
   "outputs": [
    {
     "name": "stdout",
     "output_type": "stream",
     "text": [
      "0.9425033262288682\n",
      "0.001\n"
     ]
    },
    {
     "data": {
      "image/png": "[encoded data removed]",
      "text/plain": [
       "<matplotlib.figure.Figure at 0x7f0b41e50978>"
      ]
     },
     "metadata": {
      "tags": []
     },
     "output_type": "display_data"
    }
   ],
   "source": [
    "a_val = [0.0000001,0.0000005,0.000001,0.000005,0.00001,0.00005,0.0001,0.0005,0.001,0.005,0.01,0.05,0.1]\n",
    "plt.figure(figsize=(8,8))\n",
    "plt.plot(a_val, cv_err,label = 'cv_error', color = 'b')\n",
    "plt.xscale('log')\n",
    "plt.xlabel('Alpha-Values')\n",
    "plt.ylabel('roc_auc Values')\n",
    "plt.legend()\n",
    "print(max(cv_err))\n",
    "print(a_val[cv_err.index(max(cv_err))])"
   ]
  },
  {
   "cell_type": "markdown",
   "metadata": {},
   "source": [
    "## 4.2.3 finding the Roc_auc value on Test data using optimal alpha"
   ]
  },
  {
   "cell_type": "code",
   "execution_count": 0,
   "metadata": {
    "colab": {
     "base_uri": "https://localhost:8080/",
     "height": 453
    },
    "colab_type": "code",
    "id": "7syUbXCd0TQ3",
    "outputId": "59ea06a7-9d9d-41a5-d761-3169e6589648"
   },
   "outputs": [
    {
     "name": "stdout",
     "output_type": "stream",
     "text": [
      "roc_auc on test set:0.9509698193045584\n",
      "Accuracy on test set: 91.985%\n",
      "Precision on test set: 0.887\n",
      "Recall on test set: 0.825\n",
      "F1-Score on test set: 0.851\n"
     ]
    },
    {
     "data": {
      "text/plain": [
       "<matplotlib.axes._subplots.AxesSubplot at 0x7f0b3ff538d0>"
      ]
     },
     "execution_count": 23,
     "metadata": {
      "tags": []
     },
     "output_type": "execute_result"
    },
    {
     "data": {
      "image/png": "[encoded data removed]",
      "text/plain": [
       "<matplotlib.figure.Figure at 0x7f0b3ff537b8>"
      ]
     },
     "metadata": {
      "tags": []
     },
     "output_type": "display_data"
    }
   ],
   "source": [
    "clf = SGDClassifier(loss = 'hinge', alpha = 0.001, class_weight='balanced', learning_rate='optimal',eta0=0.001, n_jobs = -1) \n",
    "calib_clf = CalibratedClassifierCV(clf, method = \"sigmoid\")\n",
    "calib_clf.fit(x_1_bi,y1)\n",
    "predicted_y_Pro = calib_clf.predict_proba(x_test_bi)\n",
    "y_pred= calib_clf.predict(x_test_bi)\n",
    "probs = predicted_y_Pro[:, 1]\n",
    "print(\"roc_auc on test set:{}\".format(roc_auc_score(y_test, probs)))\n",
    "print(\"Accuracy on test set: %0.3f%%\"%(accuracy_score(y_test, y_pred)*100))\n",
    "print(\"Precision on test set: %0.3f\"%(precision_score(y_test, y_pred,average='macro')))\n",
    "print(\"Recall on test set: %0.3f\"%(recall_score(y_test, y_pred,average='macro')))\n",
    "print(\"F1-Score on test set: %0.3f\"%(f1_score(y_test, y_pred,average='macro')))\n",
    "df_cm = pd.DataFrame(confusion_matrix(y_test, y_pred), range(2),range(2))\n",
    "sns.set(font_scale=1.4)#for label size\n",
    "sns.heatmap(df_cm, annot=True,annot_kws={\"size\": 16}, fmt='g')"
   ]
  },
  {
   "cell_type": "markdown",
   "metadata": {
    "colab_type": "text",
    "id": "lA_k9lflSQIo"
   },
   "source": [
    "# 5 TF-IDF"
   ]
  },
  {
   "cell_type": "code",
   "execution_count": 0,
   "metadata": {
    "colab": {},
    "colab_type": "code",
    "id": "KA0Hok9jxIST"
   },
   "outputs": [],
   "source": [
    "tf_idf_vect = TfidfVectorizer(ngram_range=(1,2))\n",
    "x_tr_tfidf = tf_idf_vect.fit_transform(x1)\n",
    "x_test_tfidf = tf_idf_vect.transform(x_test)"
   ]
  },
  {
   "cell_type": "markdown",
   "metadata": {
    "colab_type": "text",
    "id": "RvSSqBpMgScS"
   },
   "source": [
    "### 4.1.1 Finding the optimal alpha"
   ]
  },
  {
   "cell_type": "code",
   "execution_count": 0,
   "metadata": {
    "colab": {},
    "colab_type": "code",
    "id": "WS-r09AXgScU"
   },
   "outputs": [],
   "source": [
    "from sklearn.metrics import roc_auc_score\n",
    "cv_err = []\n",
    "a_val = [0.0000001,0.0000005,0.000001,0.000005,0.00001,0.00005,0.0001,0.0005,0.001,0.005,0.01,0.05,0.1]\n",
    "for a in a_val:\n",
    "  clf = SGDClassifier(loss = 'hinge', alpha = a, class_weight='balanced', learning_rate='optimal',eta0=0.001, n_jobs = -1) \n",
    "  clf.fit(x_tr_tfidf,y_tr)\n",
    "  calib_clf = CalibratedClassifierCV(clf, method = \"sigmoid\")\n",
    "  calib_clf.fit(x_tr_tfidf, y_tr)\n",
    "  predicted_y = calib_clf.predict_proba(x_cv_tfidf)\n",
    "  probs = predicted_y[:, 1]\n",
    "  cv_err.append(roc_auc_score(y_cv, probs))"
   ]
  },
  {
   "cell_type": "markdown",
   "metadata": {
    "colab_type": "text",
    "id": "EMf9ngRAgScX"
   },
   "source": [
    "### 4.1.2 finding the accuracy in Test data using optimal C"
   ]
  },
  {
   "cell_type": "code",
   "execution_count": 0,
   "metadata": {
    "colab": {
     "base_uri": "https://localhost:8080/",
     "height": 543
    },
    "colab_type": "code",
    "id": "x5TZJComgScY",
    "outputId": "7873c9bb-deb3-4579-c9b3-8eb227d13ba4"
   },
   "outputs": [
    {
     "name": "stdout",
     "output_type": "stream",
     "text": [
      "0.956250975154884\n",
      "1e-05\n"
     ]
    },
    {
     "data": {
      "image/png": "[encoded data removed]",
      "text/plain": [
       "<matplotlib.figure.Figure at 0x7f0b39a0acc0>"
      ]
     },
     "metadata": {
      "tags": []
     },
     "output_type": "display_data"
    }
   ],
   "source": [
    "a_val = [0.0000001,0.0000005,0.000001,0.000005,0.00001,0.00005,0.0001,0.0005,0.001,0.005,0.01,0.05,0.1]\n",
    "plt.figure(figsize=(8,8))\n",
    "plt.plot(a_val, cv_err,label = 'cv_error', color = 'b')\n",
    "plt.xscale('log')\n",
    "plt.xlabel('Alpha-Values')\n",
    "plt.ylabel('roc_auc Values')\n",
    "plt.legend()\n",
    "print(max(cv_err))\n",
    "print(a_val[cv_err.index(max(cv_err))])"
   ]
  },
  {
   "cell_type": "code",
   "execution_count": 0,
   "metadata": {
    "colab": {
     "base_uri": "https://localhost:8080/",
     "height": 453
    },
    "colab_type": "code",
    "id": "9zZ4dm1kgScb",
    "outputId": "2dec2398-f58c-4677-d27d-c65a00176718"
   },
   "outputs": [
    {
     "name": "stdout",
     "output_type": "stream",
     "text": [
      "roc_auc on test set:0.961105089524155\n",
      "Accuracy on test set: 92.835%\n",
      "Precision on test set: 0.891\n",
      "Recall on test set: 0.855\n",
      "F1-Score on test set: 0.872\n"
     ]
    },
    {
     "data": {
      "text/plain": [
       "<matplotlib.axes._subplots.AxesSubplot at 0x7f77e57b4978>"
      ]
     },
     "execution_count": 12,
     "metadata": {
      "tags": []
     },
     "output_type": "execute_result"
    },
    {
     "data": {
      "image/png": "[encoded data removed]",
      "text/plain": [
       "<matplotlib.figure.Figure at 0x7f77e57ae390>"
      ]
     },
     "metadata": {
      "tags": []
     },
     "output_type": "display_data"
    }
   ],
   "source": [
    "clf = SGDClassifier(loss = 'hinge', alpha = 0.00001, class_weight='balanced', learning_rate='optimal',eta0=0.001, n_jobs = -1) \n",
    "calib_clf = CalibratedClassifierCV(clf, method = \"sigmoid\")\n",
    "calib_clf.fit(x_tr_tfidf,y1)\n",
    "predicted_y_Pro = calib_clf.predict_proba(x_test_tfidf)\n",
    "y_pred= calib_clf.predict(x_test_tfidf)\n",
    "probs = predicted_y_Pro[:, 1]\n",
    "print(\"roc_auc on test set:{}\".format(roc_auc_score(y_test, probs)))\n",
    "print(\"Accuracy on test set: %0.3f%%\"%(accuracy_score(y_test, y_pred)*100))\n",
    "print(\"Precision on test set: %0.3f\"%(precision_score(y_test, y_pred,average='macro')))\n",
    "print(\"Recall on test set: %0.3f\"%(recall_score(y_test, y_pred,average='macro')))\n",
    "print(\"F1-Score on test set: %0.3f\"%(f1_score(y_test, y_pred,average='macro')))\n",
    "df_cm = pd.DataFrame(confusion_matrix(y_test, y_pred), range(2),range(2))\n",
    "sns.set(font_scale=1.4)#for label size\n",
    "sns.heatmap(df_cm, annot=True,annot_kws={\"size\": 16}, fmt='g')"
   ]
  },
  {
   "cell_type": "markdown",
   "metadata": {
    "colab_type": "text",
    "id": "EL0FN_FWSQIt"
   },
   "source": [
    "# 6 Word2Vec"
   ]
  },
  {
   "cell_type": "code",
   "execution_count": 0,
   "metadata": {
    "colab": {},
    "colab_type": "code",
    "id": "R6OZBLqQSQIx"
   },
   "outputs": [],
   "source": [
    "i=0\n",
    "list_of_sent=[]\n",
    "for sent in x_tr:\n",
    "    list_of_sent.append(sent.split())\n",
    "\n",
    "i=0\n",
    "list_of_sent_test=[]\n",
    "for sent in x_test:\n",
    "    list_of_sent_test.append(sent.split())\n",
    "    \n",
    "i=0\n",
    "list_of_sent_cv=[]\n",
    "for sent in x_cv:\n",
    "    list_of_sent_cv.append(sent.split())"
   ]
  },
  {
   "cell_type": "code",
   "execution_count": 0,
   "metadata": {
    "colab": {},
    "colab_type": "code",
    "id": "KIH5LmpnLUfr"
   },
   "outputs": [],
   "source": [
    "w2v_model=Word2Vec(list_of_sent,min_count=5,size=50, workers=4)"
   ]
  },
  {
   "cell_type": "code",
   "execution_count": 0,
   "metadata": {
    "colab": {
     "base_uri": "https://localhost:8080/",
     "height": 71
    },
    "colab_type": "code",
    "id": "w38ekNLKQc6v",
    "outputId": "aec1c2b4-591f-497e-aac7-0ed877990450"
   },
   "outputs": [
    {
     "name": "stdout",
     "output_type": "stream",
     "text": [
      "number of words that occured minimum 5 times  9861\n",
      "sample words  ['big', 'lover', 'fig', 'jam', 'uniqu', 'flavor', 'kind', 'mix', 'light', 'dark', 'mission', 'must', 'tri', 'hard', 'ever', 'write', 'review', 'rice', 'good', 'live', 'hawaii', 'never', 'seen', 'caribbean', 'sale', 'store', 'came', 'across', 'search', 'amazon', 'glad', 'gave', 'think', 'youll', 'disappoint', 'ad', 'chop', 'chicken', 'suggest', 'also', 'small', 'onion', 'unbeliev', 'anoth', 'great', 'way', 'make', 'even', 'better', 'fresh']\n"
     ]
    }
   ],
   "source": [
    "w2v_words = list(w2v_model.wv.vocab)\n",
    "print(\"number of words that occured minimum 5 times \",len(w2v_words))\n",
    "print(\"sample words \", w2v_words[0:50])"
   ]
  },
  {
   "cell_type": "markdown",
   "metadata": {
    "colab_type": "text",
    "id": "lv-Z2dFqSQJa"
   },
   "source": [
    "# 7.Avg W2V"
   ]
  },
  {
   "cell_type": "code",
   "execution_count": 0,
   "metadata": {
    "colab": {
     "base_uri": "https://localhost:8080/",
     "height": 51
    },
    "colab_type": "code",
    "id": "8Mx0A6gISQJb",
    "outputId": "5eae61d9-126b-4a79-932e-715508bafbec"
   },
   "outputs": [
    {
     "name": "stdout",
     "output_type": "stream",
     "text": [
      "60000\n",
      "50\n"
     ]
    }
   ],
   "source": [
    "# average Word2Vec\n",
    "# compute average word2vec for each review.\n",
    "sent_vectors = []; # the avg-w2v for each sentence/review is stored in this list\n",
    "for sent in list_of_sent: # for each review/sentence\n",
    "    sent_vec = np.zeros(50) # as word vectors are of zero length\n",
    "    cnt_words =0; # num of words with a valid vector in the sentence/review\n",
    "    for word in sent: # for each word in a review/sentence\n",
    "        if word in w2v_words:\n",
    "            vec = w2v_model.wv[word]\n",
    "            sent_vec += vec\n",
    "            cnt_words += 1\n",
    "    if cnt_words != 0:\n",
    "        sent_vec /= cnt_words\n",
    "    sent_vectors.append(sent_vec)\n",
    "print(len(sent_vectors))\n",
    "print(len(sent_vectors[0]))"
   ]
  },
  {
   "cell_type": "code",
   "execution_count": 0,
   "metadata": {
    "colab": {
     "base_uri": "https://localhost:8080/",
     "height": 51
    },
    "colab_type": "code",
    "id": "wiYnx_kUPzU-",
    "outputId": "411cfbdc-0b17-4936-e68a-bc574be3bd5b"
   },
   "outputs": [
    {
     "name": "stdout",
     "output_type": "stream",
     "text": [
      "20000\n",
      "50\n"
     ]
    }
   ],
   "source": [
    "# average Word2Vec\n",
    "# compute average word2vec for each review.\n",
    "sent_vectors_test = []; # the avg-w2v for each sentence/review is stored in this list\n",
    "for sent in list_of_sent_test: # for each review/sentence\n",
    "    sent_vec = np.zeros(50) # as word vectors are of zero length\n",
    "    cnt_words =0; # num of words with a valid vector in the sentence/review\n",
    "    for word in sent: # for each word in a review/sentence\n",
    "        if word in w2v_words:\n",
    "            vec = w2v_model.wv[word]\n",
    "            sent_vec += vec\n",
    "            cnt_words += 1\n",
    "    if cnt_words != 0:\n",
    "        sent_vec /= cnt_words\n",
    "    sent_vectors_test.append(sent_vec)\n",
    "print(len(sent_vectors_test))\n",
    "print(len(sent_vectors_test[0]))"
   ]
  },
  {
   "cell_type": "code",
   "execution_count": 0,
   "metadata": {
    "colab": {
     "base_uri": "https://localhost:8080/",
     "height": 51
    },
    "colab_type": "code",
    "id": "HueXyv5UvvOO",
    "outputId": "713d04d1-40f6-43bd-9187-fa16955c78f0"
   },
   "outputs": [
    {
     "name": "stdout",
     "output_type": "stream",
     "text": [
      "20000\n",
      "50\n"
     ]
    }
   ],
   "source": [
    "# average Word2Vec\n",
    "# compute average word2vec for each review.\n",
    "sent_vectors_cv = []; # the avg-w2v for each sentence/review is stored in this list\n",
    "for sent in list_of_sent_cv: # for each review/sentence\n",
    "    sent_vec = np.zeros(50) # as word vectors are of zero length\n",
    "    cnt_words =0; # num of words with a valid vector in the sentence/review\n",
    "    for word in sent: # for each word in a review/sentence\n",
    "        if word in w2v_words:\n",
    "            vec = w2v_model.wv[word]\n",
    "            sent_vec += vec\n",
    "            cnt_words += 1\n",
    "    if cnt_words != 0:\n",
    "        sent_vec /= cnt_words\n",
    "    sent_vectors_cv.append(sent_vec)\n",
    "print(len(sent_vectors_cv))\n",
    "print(len(sent_vectors_cv[0]))"
   ]
  },
  {
   "cell_type": "code",
   "execution_count": 0,
   "metadata": {
    "colab": {},
    "colab_type": "code",
    "id": "OtEzMUq8xQYx"
   },
   "outputs": [],
   "source": [
    "x_test_av1=sent_vectors_test\n",
    "x_tr_av1=sent_vectors\n",
    "x_cv_av1=sent_vectors_cv"
   ]
  },
  {
   "cell_type": "markdown",
   "metadata": {
    "colab_type": "text",
    "id": "4n7T1V3HwfSL"
   },
   "source": [
    "### 4.1.1 Finding the optimal alpha"
   ]
  },
  {
   "cell_type": "code",
   "execution_count": 0,
   "metadata": {
    "colab": {},
    "colab_type": "code",
    "id": "3xVSfMJywfSN"
   },
   "outputs": [],
   "source": [
    "from sklearn.metrics import roc_auc_score\n",
    "cv_err = []\n",
    "a_val = [0.0000001,0.0000005,0.000001,0.000005,0.00001,0.00005,0.0001,0.0005,0.001,0.005,0.01,0.05,0.1]\n",
    "for a in a_val:\n",
    "  clf = SGDClassifier(loss = 'hinge', alpha = a, class_weight='balanced', learning_rate='optimal',eta0=0.001, n_jobs = -1) \n",
    "  calib_clf = CalibratedClassifierCV(clf, method = \"sigmoid\")\n",
    "  calib_clf.fit(x_tr_av1, y_tr)\n",
    "  predicted_y = calib_clf.predict_proba(x_cv_av1)\n",
    "  probs = predicted_y[:, 1]\n",
    "  cv_err.append(roc_auc_score(y_cv, probs))"
   ]
  },
  {
   "cell_type": "markdown",
   "metadata": {
    "colab_type": "text",
    "id": "otxxB3XhwfSQ"
   },
   "source": [
    "### 4.1.2 finding the accuracy in Test data using optimal C"
   ]
  },
  {
   "cell_type": "code",
   "execution_count": 0,
   "metadata": {
    "colab": {
     "base_uri": "https://localhost:8080/",
     "height": 535
    },
    "colab_type": "code",
    "id": "ushXV0qZwfSR",
    "outputId": "b5dea72a-676d-4ad6-84d7-fcbb4a9065ec"
   },
   "outputs": [
    {
     "name": "stdout",
     "output_type": "stream",
     "text": [
      "0.9015478475910293\n",
      "0.001\n"
     ]
    },
    {
     "data": {
      "image/png": "[encoded data removed]",
      "text/plain": [
       "<matplotlib.figure.Figure at 0x7f8708065748>"
      ]
     },
     "metadata": {
      "tags": []
     },
     "output_type": "display_data"
    }
   ],
   "source": [
    "a_val = [0.0000001,0.0000005,0.000001,0.000005,0.00001,0.00005,0.0001,0.0005,0.001,0.005,0.01,0.05,0.1]\n",
    "plt.figure(figsize=(8,8))\n",
    "plt.plot(a_val, cv_err,label = 'cv_error', color = 'b')\n",
    "plt.xscale('log')\n",
    "plt.xlabel('Alpha-Values')\n",
    "plt.ylabel('roc_auc Values')\n",
    "plt.legend()\n",
    "print(max(cv_err))\n",
    "print(a_val[cv_err.index(max(cv_err))])"
   ]
  },
  {
   "cell_type": "code",
   "execution_count": 0,
   "metadata": {
    "colab": {
     "base_uri": "https://localhost:8080/",
     "height": 453
    },
    "colab_type": "code",
    "id": "7cbXNxEtwfSX",
    "outputId": "8a5fd062-1289-4b19-a7cb-b82b9b4151be"
   },
   "outputs": [
    {
     "name": "stdout",
     "output_type": "stream",
     "text": [
      "roc_auc on test set:0.9073420442478873\n",
      "Accuracy on test set: 88.185%\n",
      "Precision on test set: 0.826\n",
      "Recall on test set: 0.732\n",
      "F1-Score on test set: 0.765\n"
     ]
    },
    {
     "data": {
      "text/plain": [
       "<matplotlib.axes._subplots.AxesSubplot at 0x7f872d937cf8>"
      ]
     },
     "execution_count": 34,
     "metadata": {
      "tags": []
     },
     "output_type": "execute_result"
    },
    {
     "data": {
      "image/png": "[encoded data removed]",
      "text/plain": [
       "<matplotlib.figure.Figure at 0x7f872a57e5c0>"
      ]
     },
     "metadata": {
      "tags": []
     },
     "output_type": "display_data"
    }
   ],
   "source": [
    "clf = SGDClassifier(loss = 'hinge', alpha = 0.001, class_weight='balanced', learning_rate='optimal',eta0=0.001, n_jobs = -1) \n",
    "calib_clf = CalibratedClassifierCV(clf, method = \"sigmoid\")\n",
    "calib_clf.fit(x_tr_av1,y_tr)\n",
    "predicted_y_Pro = calib_clf.predict_proba(x_test_av1)\n",
    "y_pred= calib_clf.predict(x_test_av1)\n",
    "probs = predicted_y_Pro[:, 1]\n",
    "print(\"roc_auc on test set:{}\".format(roc_auc_score(y_test, probs)))\n",
    "print(\"Accuracy on test set: %0.3f%%\"%(accuracy_score(y_test, y_pred)*100))\n",
    "print(\"Precision on test set: %0.3f\"%(precision_score(y_test, y_pred,average='macro')))\n",
    "print(\"Recall on test set: %0.3f\"%(recall_score(y_test, y_pred,average='macro')))\n",
    "print(\"F1-Score on test set: %0.3f\"%(f1_score(y_test, y_pred,average='macro')))\n",
    "df_cm = pd.DataFrame(confusion_matrix(y_test, y_pred), range(2),range(2))\n",
    "sns.set(font_scale=1.4)#for label size\n",
    "sns.heatmap(df_cm, annot=True,annot_kws={\"size\": 16}, fmt='g')"
   ]
  },
  {
   "cell_type": "markdown",
   "metadata": {
    "colab_type": "text",
    "id": "Y3BQBcyCwxBp"
   },
   "source": [
    "# 8. TFIDF-W2V"
   ]
  },
  {
   "cell_type": "code",
   "execution_count": 0,
   "metadata": {
    "colab": {},
    "colab_type": "code",
    "id": "gY1YD6si3Qpq"
   },
   "outputs": [],
   "source": [
    "tf_idf_vect = TfidfVectorizer()\n",
    "final_tf_idf = tf_idf_vect.fit_transform(x_tr)\n",
    "dictionary = dict(zip(tf_idf_vect.get_feature_names(), list(tf_idf_vect.idf_)))"
   ]
  },
  {
   "cell_type": "code",
   "execution_count": 0,
   "metadata": {
    "colab": {
     "base_uri": "https://localhost:8080/",
     "height": 34
    },
    "colab_type": "code",
    "id": "CriEBX5cPGEQ",
    "outputId": "dff468d8-4dad-4bc7-8748-b805fdca2e03"
   },
   "outputs": [
    {
     "name": "stderr",
     "output_type": "stream",
     "text": [
      "100%|██████████| 60000/60000 [01:19<00:00, 755.34it/s]\n"
     ]
    }
   ],
   "source": [
    "# TF-IDF weighted Word2Vec\n",
    "tfidf_feat = tf_idf_vect.get_feature_names() # tfidf words/col-names\n",
    "# final_tf_idf is the sparse matrix with row= sentence, col=word and cell_val = tfidf\n",
    "\n",
    "tfidf_sent_vectors = []; # the tfidf-w2v for each sentence/review is stored in this list\n",
    "row=0;\n",
    "for sent in tqdm(list_of_sent): # for each review/sentence \n",
    "    sent_vec = np.zeros(50) # as word vectors are of zero length\n",
    "    weight_sum =0; # num of words with a valid vector in the sentence/review\n",
    "    for word in sent: # for each word in a review/sentence\n",
    "        if word in w2v_words:\n",
    "            vec = w2v_model.wv[word]\n",
    "            tf_idf = dictionary[word]*sent.count(word)\n",
    "            sent_vec += (vec * tf_idf)\n",
    "            weight_sum += tf_idf\n",
    "    if weight_sum != 0:\n",
    "        sent_vec /= weight_sum\n",
    "    tfidf_sent_vectors.append(sent_vec)\n",
    "    row += 1"
   ]
  },
  {
   "cell_type": "code",
   "execution_count": 0,
   "metadata": {
    "colab": {
     "base_uri": "https://localhost:8080/",
     "height": 34
    },
    "colab_type": "code",
    "id": "KzdiR_KAPJix",
    "outputId": "8e7a7836-cf1c-4eb1-da54-7a04405b090f"
   },
   "outputs": [
    {
     "name": "stderr",
     "output_type": "stream",
     "text": [
      "100%|██████████| 20000/20000 [00:28<00:00, 689.75it/s]\n"
     ]
    }
   ],
   "source": [
    "# TF-IDF weighted Word2Vec\n",
    "tfidf_feat = tf_idf_vect.get_feature_names() # tfidf words/col-names\n",
    "# final_tf_idf is the sparse matrix with row= sentence, col=word and cell_val = tfidf\n",
    "\n",
    "tfidf_sent_vectors_test = []; # the tfidf-w2v for each sentence/review is stored in this list\n",
    "row=0;\n",
    "for sent in tqdm(list_of_sent_test): # for each review/sentence \n",
    "    sent_vec = np.zeros(50) # as word vectors are of zero length\n",
    "    weight_sum =0; # num of words with a valid vector in the sentence/review\n",
    "    for word in sent: # for each word in a review/sentence\n",
    "        if word in w2v_words:\n",
    "            vec = w2v_model.wv[word]\n",
    "            tf_idf = dictionary[word]*sent.count(word)\n",
    "            sent_vec += (vec * tf_idf)\n",
    "            weight_sum += tf_idf\n",
    "    if weight_sum != 0:\n",
    "        sent_vec /= weight_sum\n",
    "    tfidf_sent_vectors_test.append(sent_vec)\n",
    "    row += 1"
   ]
  },
  {
   "cell_type": "code",
   "execution_count": 0,
   "metadata": {
    "colab": {
     "base_uri": "https://localhost:8080/",
     "height": 34
    },
    "colab_type": "code",
    "id": "iwHDS69z2V7S",
    "outputId": "8d9b19c2-eab8-4486-9c4e-615dc4f6b4f6"
   },
   "outputs": [
    {
     "name": "stderr",
     "output_type": "stream",
     "text": [
      "100%|██████████| 20000/20000 [00:28<00:00, 701.88it/s]\n"
     ]
    }
   ],
   "source": [
    "# TF-IDF weighted Word2Vec\n",
    "tfidf_feat = tf_idf_vect.get_feature_names() # tfidf words/col-names\n",
    "# final_tf_idf is the sparse matrix with row= sentence, col=word and cell_val = tfidf\n",
    "\n",
    "tfidf_sent_vectors_cv = []; # the tfidf-w2v for each sentence/review is stored in this list\n",
    "row=0;\n",
    "for sent in tqdm(list_of_sent_test): # for each review/sentence \n",
    "    sent_vec = np.zeros(50) # as word vectors are of zero length\n",
    "    weight_sum =0; # num of words with a valid vector in the sentence/review\n",
    "    for word in sent: # for each word in a review/sentence\n",
    "        if word in w2v_words:\n",
    "            vec = w2v_model.wv[word]\n",
    "            tf_idf = dictionary[word]*sent.count(word)\n",
    "            sent_vec += (vec * tf_idf)\n",
    "            weight_sum += tf_idf\n",
    "    if weight_sum != 0:\n",
    "        sent_vec /= weight_sum\n",
    "    tfidf_sent_vectors_cv.append(sent_vec)\n",
    "    row += 1"
   ]
  },
  {
   "cell_type": "code",
   "execution_count": 0,
   "metadata": {
    "colab": {},
    "colab_type": "code",
    "id": "uArk43hSkVlL"
   },
   "outputs": [],
   "source": [
    "x_test_tdfw2v=tfidf_sent_vectors_test\n",
    "x_tr_tdfw2v=tfidf_sent_vectors\n",
    "x_cv_tdfw2v=tfidf_sent_vectors_cv"
   ]
  },
  {
   "cell_type": "markdown",
   "metadata": {
    "colab_type": "text",
    "id": "4rZjGMU129D_"
   },
   "source": [
    "### 4.1.1 Finding the optimal alpha"
   ]
  },
  {
   "cell_type": "code",
   "execution_count": 0,
   "metadata": {
    "colab": {},
    "colab_type": "code",
    "id": "MzQqJWQ229EC"
   },
   "outputs": [],
   "source": [
    "from sklearn.metrics import roc_auc_score\n",
    "cv_err = []\n",
    "a_val = [0.0000001,0.0000005,0.000001,0.000005,0.00001,0.00005,0.0001,0.0005,0.001,0.005,0.01,0.05,0.1]\n",
    "for a in a_val:\n",
    "  clf = SGDClassifier(loss = 'hinge', alpha = a, class_weight='balanced', learning_rate='optimal',eta0=0.001, n_jobs = -1) \n",
    "  calib_clf = CalibratedClassifierCV(clf, method = \"sigmoid\")\n",
    "  calib_clf.fit(x_tr_tdfw2v, y_tr)\n",
    "  predicted_y = calib_clf.predict_proba(x_cv_tdfw2v)\n",
    "  probs = predicted_y[:, 1]\n",
    "  cv_err.append(roc_auc_score(y_cv, probs))"
   ]
  },
  {
   "cell_type": "markdown",
   "metadata": {
    "colab_type": "text",
    "id": "2dXabiyh29EF"
   },
   "source": [
    "### 4.1.2 finding the accuracy in Test data using optimal C"
   ]
  },
  {
   "cell_type": "code",
   "execution_count": 0,
   "metadata": {
    "colab": {
     "base_uri": "https://localhost:8080/",
     "height": 535
    },
    "colab_type": "code",
    "id": "PL_3wEv429EG",
    "outputId": "b5dea72a-676d-4ad6-84d7-fcbb4a9065ec"
   },
   "outputs": [
    {
     "name": "stdout",
     "output_type": "stream",
     "text": [
      "0.9015478475910293\n",
      "0.001\n"
     ]
    },
    {
     "data": {
      "image/png": "[encoded data removed]",
      "text/plain": [
       "<matplotlib.figure.Figure at 0x7f8708065748>"
      ]
     },
     "metadata": {
      "tags": []
     },
     "output_type": "display_data"
    }
   ],
   "source": [
    "a_val = [0.0000001,0.0000005,0.000001,0.000005,0.00001,0.00005,0.0001,0.0005,0.001,0.005,0.01,0.05,0.1]\n",
    "plt.figure(figsize=(8,8))\n",
    "plt.plot(a_val, cv_err,label = 'cv_error', color = 'b')\n",
    "plt.xscale('log')\n",
    "plt.xlabel('Alpha-Values')\n",
    "plt.ylabel('roc_auc Values')\n",
    "plt.legend()\n",
    "print(max(cv_err))\n",
    "print(a_val[cv_err.index(max(cv_err))])"
   ]
  },
  {
   "cell_type": "code",
   "execution_count": 0,
   "metadata": {
    "colab": {
     "base_uri": "https://localhost:8080/",
     "height": 453
    },
    "colab_type": "code",
    "id": "2AIll1mo29EL",
    "outputId": "608c3204-047a-4e05-ac1b-80dd635f604d"
   },
   "outputs": [
    {
     "name": "stdout",
     "output_type": "stream",
     "text": [
      "roc_auc on test set:0.8772559628330328\n",
      "Accuracy on test set: 86.550%\n",
      "Precision on test set: 0.799\n",
      "Recall on test set: 0.684\n",
      "F1-Score on test set: 0.719\n"
     ]
    },
    {
     "data": {
      "text/plain": [
       "<matplotlib.axes._subplots.AxesSubplot at 0x7f87069f17f0>"
      ]
     },
     "execution_count": 42,
     "metadata": {
      "tags": []
     },
     "output_type": "execute_result"
    },
    {
     "data": {
      "image/png": "[encoded data removed]",
      "text/plain": [
       "<matplotlib.figure.Figure at 0x7f87069f1198>"
      ]
     },
     "metadata": {
      "tags": []
     },
     "output_type": "display_data"
    }
   ],
   "source": [
    "clf = SGDClassifier(loss = 'hinge', alpha = 0.001, class_weight='balanced', learning_rate='optimal',eta0=0.001, n_jobs = -1) \n",
    "calib_clf = CalibratedClassifierCV(clf, method = \"sigmoid\")\n",
    "calib_clf.fit(x_tr_tdfw2v,y_tr)\n",
    "predicted_y_Pro = calib_clf.predict_proba(x_test_tdfw2v)\n",
    "y_pred= calib_clf.predict(x_test_tdfw2v)\n",
    "probs = predicted_y_Pro[:, 1]\n",
    "print(\"roc_auc on test set:{}\".format(roc_auc_score(y_test, probs)))\n",
    "print(\"Accuracy on test set: %0.3f%%\"%(accuracy_score(y_test, y_pred)*100))\n",
    "print(\"Precision on test set: %0.3f\"%(precision_score(y_test, y_pred,average='macro')))\n",
    "print(\"Recall on test set: %0.3f\"%(recall_score(y_test, y_pred,average='macro')))\n",
    "print(\"F1-Score on test set: %0.3f\"%(f1_score(y_test, y_pred,average='macro')))\n",
    "df_cm = pd.DataFrame(confusion_matrix(y_test, y_pred), range(2),range(2))\n",
    "sns.set(font_scale=1.4)#for label size\n",
    "sns.heatmap(df_cm, annot=True,annot_kws={\"size\": 16}, fmt='g')"
   ]
  },
  {
   "cell_type": "code",
   "execution_count": 11,
   "metadata": {},
   "outputs": [
    {
     "data": {
      "text/html": [
       "<div>\n",
       "<style scoped>\n",
       "    .dataframe tbody tr th:only-of-type {\n",
       "        vertical-align: middle;\n",
       "    }\n",
       "\n",
       "    .dataframe tbody tr th {\n",
       "        vertical-align: top;\n",
       "    }\n",
       "\n",
       "    .dataframe thead th {\n",
       "        text-align: right;\n",
       "    }\n",
       "</style>\n",
       "<table border=\"1\" class=\"dataframe\">\n",
       "  <thead>\n",
       "    <tr style=\"text-align: right;\">\n",
       "      <th></th>\n",
       "      <th>Model</th>\n",
       "      <th>alpha</th>\n",
       "      <th>Test Roc Auc</th>\n",
       "      <th>Train Roc Auc</th>\n",
       "    </tr>\n",
       "  </thead>\n",
       "  <tbody>\n",
       "    <tr>\n",
       "      <th>0</th>\n",
       "      <td>unigram</td>\n",
       "      <td>0.001</td>\n",
       "      <td>0.9332475785624053</td>\n",
       "      <td>0.9409401786642803</td>\n",
       "    </tr>\n",
       "    <tr>\n",
       "      <th>1</th>\n",
       "      <td>Bi-gram</td>\n",
       "      <td>0.001</td>\n",
       "      <td>0.9425033262288682</td>\n",
       "      <td>0.9509698193045584</td>\n",
       "    </tr>\n",
       "    <tr>\n",
       "      <th>2</th>\n",
       "      <td>Tf-IDF</td>\n",
       "      <td>0.00001</td>\n",
       "      <td>0.956250975154884</td>\n",
       "      <td>0.961105089524155</td>\n",
       "    </tr>\n",
       "    <tr>\n",
       "      <th>3</th>\n",
       "      <td>Av-Word2Vec</td>\n",
       "      <td>0.001</td>\n",
       "      <td>0.9015478475910293</td>\n",
       "      <td>0.9073420442478873</td>\n",
       "    </tr>\n",
       "    <tr>\n",
       "      <th>4</th>\n",
       "      <td>Tf-IDF Word2vec</td>\n",
       "      <td>0.001</td>\n",
       "      <td>0.9015478475910293</td>\n",
       "      <td>0.8772559628330328</td>\n",
       "    </tr>\n",
       "  </tbody>\n",
       "</table>\n",
       "</div>"
      ],
      "text/plain": [
       "             Model    alpha        Test Roc Auc       Train Roc Auc\n",
       "0          unigram    0.001  0.9332475785624053  0.9409401786642803\n",
       "1          Bi-gram    0.001  0.9425033262288682  0.9509698193045584\n",
       "2           Tf-IDF  0.00001   0.956250975154884   0.961105089524155\n",
       "3      Av-Word2Vec    0.001  0.9015478475910293  0.9073420442478873\n",
       "4  Tf-IDF Word2vec    0.001  0.9015478475910293  0.8772559628330328"
      ]
     },
     "execution_count": 11,
     "metadata": {},
     "output_type": "execute_result"
    }
   ],
   "source": [
    "svmResult = {\n",
    "\n",
    "'Model': ['unigram', 'Bi-gram', 'Tf-IDF', 'Av-Word2Vec','Tf-IDF Word2vec'],\n",
    "'alpha': ['0.001', '0.001', '0.00001', '0.001','0.001'],\n",
    "'Test Roc Auc': ['0.9332475785624053','0.9425033262288682','0.956250975154884','0.9015478475910293','0.9015478475910293'],\n",
    "'Train Roc Auc': ['0.9409401786642803','0.9509698193045584','0.961105089524155','0.9073420442478873','0.8772559628330328']\n",
    "}\n",
    "pd.DataFrame(svmResult)"
   ]
  }
 ],
 "metadata": {
  "accelerator": "GPU",
  "colab": {
   "collapsed_sections": [],
   "name": "Lr SVM on amazon fine food reviews.ipynb",
   "provenance": [],
   "version": "0.3.2"
  },
  "kernelspec": {
   "display_name": "Python 3",
   "language": "python",
   "name": "python3"
  },
  "language_info": {
   "codemirror_mode": {
    "name": "ipython",
    "version": 3
   },
   "file_extension": ".py",
   "mimetype": "text/x-python",
   "name": "python",
   "nbconvert_exporter": "python",
   "pygments_lexer": "ipython3",
   "version": "3.6.7"
  }
 },
 "nbformat": 4,
 "nbformat_minor": 1
}
