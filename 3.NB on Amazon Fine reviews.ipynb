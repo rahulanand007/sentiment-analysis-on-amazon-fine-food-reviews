{
 "cells": [
  {
   "cell_type": "markdown",
   "metadata": {
    "colab_type": "text",
    "id": "6T5DD87uSQHd"
   },
   "source": [
    "# Naive bayes on Amazon Fine Food reviews"
   ]
  },
  {
   "cell_type": "code",
   "execution_count": null,
   "metadata": {},
   "outputs": [],
   "source": [
    "\n",
    "%matplotlib inline\n",
    "import warnings\n",
    "warnings.filterwarnings(\"ignore\")\n",
    "\n",
    "import sqlite3\n",
    "import pandas as pd\n",
    "import numpy as np\n",
    "import nltk\n",
    "import string\n",
    "import matplotlib.pyplot as plt\n",
    "import seaborn as sns\n",
    "from sklearn.feature_extraction.text import TfidfTransformer\n",
    "from sklearn.feature_extraction.text import TfidfVectorizer\n",
    "\n",
    "from sklearn.feature_extraction.text import CountVectorizer\n",
    "from sklearn.metrics import confusion_matrix\n",
    "from sklearn import metrics\n",
    "from sklearn.metrics import roc_curve, auc\n",
    "from nltk.stem.porter import PorterStemmer\n",
    "\n",
    "import re\n",
    "import string\n",
    "from nltk.corpus import stopwords\n",
    "from nltk.stem import PorterStemmer\n",
    "from nltk.stem.wordnet import WordNetLemmatizer\n",
    "\n",
    "from gensim.models import Word2Vec\n",
    "from gensim.models import KeyedVectors\n",
    "import pickle\n",
    "\n",
    "from sklearn.preprocessing import StandardScaler\n",
    "from tqdm import tqdm\n",
    "\n",
    "import seaborn as sns\n",
    "from sklearn.metrics import accuracy_score\n",
    "from sklearn.metrics import confusion_matrix\n",
    "from sklearn.metrics import precision_score\n",
    "from sklearn.metrics import f1_score\n",
    "from sklearn.metrics import recall_score\n",
    "\n",
    "from sklearn.model_selection import train_test_split\n",
    "from sklearn.metrics import accuracy_score\n",
    "from sklearn.cross_validation import cross_val_score\n",
    "from collections import Counter\n",
    "from sklearn.metrics import accuracy_score\n",
    "from sklearn import cross_validation"
   ]
  },
  {
   "cell_type": "markdown",
   "metadata": {},
   "source": [
    "After preprocessing data we store into final.sqlite and using it "
   ]
  },
  {
   "cell_type": "code",
   "execution_count": null,
   "metadata": {},
   "outputs": [],
   "source": [
    "!pip install -U -q PyDrive\n",
    "\n",
    "from pydrive.auth import GoogleAuth\n",
    "from pydrive.drive import GoogleDrive\n",
    "from google.colab import auth\n",
    "from oauth2client.client import GoogleCredentials\n",
    "\n",
    "# 1. Authenticate and create the PyDrive client.\n",
    "auth.authenticate_user()\n",
    "gauth = GoogleAuth()\n",
    "gauth.credentials = GoogleCredentials.get_application_default()\n",
    "drive = GoogleDrive(gauth)\n",
    "\n"
   ]
  },
  {
   "cell_type": "code",
   "execution_count": null,
   "metadata": {},
   "outputs": [],
   "source": [
    "download = drive.CreateFile({'id': '1K1rpp1cP61oOjKc9CIx-0v4z2SdyOpyi'})\n",
    "download.GetContentFile('final.sqlite')\n"
   ]
  },
  {
   "cell_type": "code",
   "execution_count": null,
   "metadata": {},
   "outputs": [],
   "source": [
    "con = sqlite3.connect('final.sqlite')\n",
    "final = pd.read_sql_query(\"\"\" SELECT * FROM Reviews\"\"\", con) "
   ]
  },
  {
   "cell_type": "markdown",
   "metadata": {},
   "source": [
    "## Time based Splitting Test and Train"
   ]
  },
  {
   "cell_type": "code",
   "execution_count": null,
   "metadata": {},
   "outputs": [],
   "source": [
    "final=final.sort_values(by=['Time'],ascending=False)\n",
    "finalDataPoints=final.head(100000)\n",
    "x=finalDataPoints[\"CleanedText\"]\n",
    "y=finalDataPoints[\"Score\"]\n",
    "\n",
    "#Splitting into test and train\n",
    "x_1,x_test,y_1,y_test=train_test_split(x, y, test_size=0.2,shuffle=False)"
   ]
  },
  {
   "cell_type": "code",
   "execution_count": null,
   "metadata": {},
   "outputs": [],
   "source": [
    "print(x_1.shape,x_test.shape,y_1.shape,y_test.shape)"
   ]
  },
  {
   "cell_type": "code",
   "execution_count": null,
   "metadata": {},
   "outputs": [],
   "source": [
    "#Splitting into cv and train\n",
    "x_tr,x_cv,y_tr,y_cv=train_test_split(x_1,y_1,test_size=0.25,shuffle=False)"
   ]
  },
  {
   "cell_type": "code",
   "execution_count": null,
   "metadata": {},
   "outputs": [],
   "source": [
    "print(x_tr.shape,y_tr.shape,x_cv.shape,y_cv.shape,x_test.shape,y_test.shape)"
   ]
  },
  {
   "cell_type": "markdown",
   "metadata": {
    "colab_type": "text",
    "id": "tX5721JWSQIf"
   },
   "source": [
    "# 1.Bag of Words (BoW)"
   ]
  },
  {
   "cell_type": "markdown",
   "metadata": {
    "colab_type": "text",
    "id": "vnZuWK1PwxAd"
   },
   "source": [
    "## 1.1 Unigram"
   ]
  },
  {
   "cell_type": "code",
   "execution_count": 0,
   "metadata": {
    "colab": {},
    "colab_type": "code",
    "id": "IA54rtJz7YBc"
   },
   "outputs": [],
   "source": [
    "#BOW for unigram\n",
    "bow = CountVectorizer()\n",
    "x_tr_uni = bow.fit_transform(x_tr)\n",
    "x_test_uni= bow.transform(x_test)"
   ]
  },
  {
   "cell_type": "markdown",
   "metadata": {
    "colab_type": "text",
    "id": "PE64HzT4SZ3l"
   },
   "source": [
    "## Multinomial naive Bayes"
   ]
  },
  {
   "cell_type": "markdown",
   "metadata": {},
   "source": [
    "## 1.1.1 Finding the optimal Alpha Using Gridsearch"
   ]
  },
  {
   "cell_type": "code",
   "execution_count": 140,
   "metadata": {
    "colab": {
     "base_uri": "https://localhost:8080/",
     "height": 593
    },
    "colab_type": "code",
    "id": "2equSMr6THVz",
    "outputId": "d1f7b551-7f78-4985-93bc-5f827542a5d8"
   },
   "outputs": [
    {
     "name": "stdout",
     "output_type": "stream",
     "text": [
      "Fitting 5 folds for each of 15 candidates, totalling 75 fits\n"
     ]
    },
    {
     "name": "stderr",
     "output_type": "stream",
     "text": [
      "[Parallel(n_jobs=1)]: Done  75 out of  75 | elapsed:  4.0min finished\n"
     ]
    },
    {
     "name": "stdout",
     "output_type": "stream",
     "text": [
      "Best HyperParameter:  {'alpha': 0.01}\n",
      "0.8840375\n"
     ]
    },
    {
     "data": {
      "image/png": "[encoded data removed]",
      "text/plain": [
       "<matplotlib.figure.Figure at 0x7f224dc0db38>"
      ]
     },
     "metadata": {
      "tags": []
     },
     "output_type": "display_data"
    }
   ],
   "source": [
    "NB = MultinomialNB()\n",
    "alpha_value = {'alpha':[1000,500,100,50,10,5,1,0.5,0.1,0.05,0.01,0.005,0.001,0.0005,0.0001]} #params we need to try on classifier\n",
    "gsv = GridSearchCV(NB,alpha_value,cv=5,verbose=1,scoring='f1_micro')\n",
    "gsv.fit(x_tr_uni,y_tr)\n",
    "print(\"Best HyperParameter: \",gsv.best_params_)\n",
    "print(gsv.best_score_)\n",
    "optimal_alpha=gsv.best_params_['alpha']\n",
    "\n",
    "x=[]\n",
    "y=[]\n",
    "plt.figure(figsize=(8,8))\n",
    "for a in gsv.grid_scores_:\n",
    "    x.append(a[0]['alpha']) \n",
    "    y.append(a[1])\n",
    "plt.xlim(-10,1000)\n",
    "plt.ylim(0.8,0.9)\n",
    "plt.xlabel(r\"$\\alpha$\",fontsize=15)\n",
    "plt.ylabel(\"accuracy\")\n",
    "plt.title(r'Accuracy v/s $\\alpha$')\n",
    "plt.plot(x,y,linestyle='dashed', marker='o', markerfacecolor='red', markersize=10)\n",
    "plt.show()"
   ]
  },
  {
   "cell_type": "markdown",
   "metadata": {
    "colab_type": "text",
    "id": "riMAyRx0THV4"
   },
   "source": [
    "### 1.1.2 Finding the F1Score of Test data using optimal alpha"
   ]
  },
  {
   "cell_type": "code",
   "execution_count": 13,
   "metadata": {
    "colab": {
     "base_uri": "https://localhost:8080/",
     "height": 436
    },
    "colab_type": "code",
    "id": "-HM3ewxWTHV6",
    "outputId": "2a2352d4-fa65-406f-fccf-e6e0c5964b6b"
   },
   "outputs": [
    {
     "name": "stdout",
     "output_type": "stream",
     "text": [
      "Accuracy on test set: 90.177%\n",
      "Precision on test set: 0.825\n",
      "Recall on test set: 0.811\n",
      "F1-Score on test set: 0.818\n"
     ]
    },
    {
     "data": {
      "text/plain": [
       "<matplotlib.axes._subplots.AxesSubplot at 0x7f00b9bf2748>"
      ]
     },
     "execution_count": 13,
     "metadata": {
      "tags": []
     },
     "output_type": "execute_result"
    },
    {
     "data": {
      "image/png": "[encoded data removed]",
      "text/plain": [
       "<matplotlib.figure.Figure at 0x7f00ba14cba8>"
      ]
     },
     "metadata": {
      "tags": []
     },
     "output_type": "display_data"
    }
   ],
   "source": [
    "NB = MultinomialNB(optimal_alpha)\n",
    "NB.fit(x_tr_uni,y_tr)\n",
    "y_pred = NB.predict(x_test_uni)\n",
    "print(\"Accuracy on test set: %0.3f%%\"%(accuracy_score(y_test, y_pred)*100))\n",
    "print(\"Precision on test set: %0.3f\"%(precision_score(y_test, y_pred,average='macro')))\n",
    "print(\"Recall on test set: %0.3f\"%(recall_score(y_test, y_pred,average='macro')))\n",
    "print(\"F1-Score on test set: %0.3f\"%(f1_score(y_test, y_pred,average='macro')))\n",
    "df_cm = pd.DataFrame(confusion_matrix(y_test, y_pred), range(2),range(2))\n",
    "sns.set(font_scale=1.4)#for label size\n",
    "sns.heatmap(df_cm, annot=True,annot_kws={\"size\": 16}, fmt='g')"
   ]
  },
  {
   "cell_type": "markdown",
   "metadata": {},
   "source": [
    "## 1.1.1 Feature Importance"
   ]
  },
  {
   "cell_type": "code",
   "execution_count": 163,
   "metadata": {
    "colab": {
     "base_uri": "https://localhost:8080/",
     "height": 153
    },
    "colab_type": "code",
    "id": "2vpCZqFbG8tw",
    "outputId": "d0d0c4e0-0eba-42b3-e804-e8933a7215dd"
   },
   "outputs": [
    {
     "name": "stdout",
     "output_type": "stream",
     "text": [
      "important negative features are::\n",
      "\n",
      "['like' 'tast' 'product' 'one' 'would' 'tri' 'flavor' 'good' 'buy' 'get']\n",
      "\n",
      "\n",
      "important positve features are::\n",
      "\n",
      "['like' 'tast' 'love' 'good' 'great' 'flavor' 'use' 'one' 'product' 'tri']\n"
     ]
    }
   ],
   "source": [
    "neg_class_prob_sorted = (-NB.feature_log_prob_[0, :]).argsort()\n",
    "pos_class_prob_sorted = (-NB.feature_log_prob_[1, :]).argsort()\n",
    "print(\"important negative features are::\\n\")\n",
    "print(np.take(bow.get_feature_names(), neg_class_prob_sorted[:10]))\n",
    "print(\"\\n\\nimportant positve features are::\\n\")\n",
    "print(np.take(bow.get_feature_names(), pos_class_prob_sorted[:10]))"
   ]
  },
  {
   "cell_type": "markdown",
   "metadata": {
    "colab_type": "text",
    "id": "V2NiMbmsSQIj"
   },
   "source": [
    "## 1.2 Bi-Grams\n"
   ]
  },
  {
   "cell_type": "code",
   "execution_count": 0,
   "metadata": {
    "colab": {},
    "colab_type": "code",
    "id": "8sFeMF_EWZui"
   },
   "outputs": [],
   "source": [
    "bi_gram = CountVectorizer(ngram_range=(1,2))\n",
    "x_tr_bi = bi_gram.fit_transform(x_tr)\n",
    "x_test_bi = bi_gram.transform(x_test)"
   ]
  },
  {
   "cell_type": "markdown",
   "metadata": {
    "colab_type": "text",
    "id": "NC3XuBZPTO6Z"
   },
   "source": [
    "## Multinomial naive Bayes"
   ]
  },
  {
   "cell_type": "markdown",
   "metadata": {
    "colab_type": "text",
    "id": "yAlAyB81WpvM"
   },
   "source": [
    "### 1.2.1 Finding the optimal alpha using gridsearch"
   ]
  },
  {
   "cell_type": "code",
   "execution_count": 143,
   "metadata": {
    "colab": {
     "base_uri": "https://localhost:8080/",
     "height": 593
    },
    "colab_type": "code",
    "id": "VebpTOBxWpvQ",
    "outputId": "3b378c2c-6efe-4c32-ef55-5f8fbdcdb67c"
   },
   "outputs": [
    {
     "name": "stdout",
     "output_type": "stream",
     "text": [
      "Fitting 5 folds for each of 15 candidates, totalling 75 fits\n"
     ]
    },
    {
     "name": "stderr",
     "output_type": "stream",
     "text": [
      "[Parallel(n_jobs=1)]: Done  75 out of  75 | elapsed:  5.1min finished\n"
     ]
    },
    {
     "name": "stdout",
     "output_type": "stream",
     "text": [
      "Best HyperParameter:  {'alpha': 0.5}\n",
      "0.897575\n"
     ]
    },
    {
     "data": {
      "image/png": "[encoded data removed]",
      "text/plain": [
       "<matplotlib.figure.Figure at 0x7f2249d77c18>"
      ]
     },
     "metadata": {
      "tags": []
     },
     "output_type": "display_data"
    }
   ],
   "source": [
    "NB = MultinomialNB()\n",
    "alpha_value = {'alpha':[1000,500,100,50,10,5,1,0.5,0.1,0.05,0.01,0.005,0.001,0.0005,0.0001]} #params we need to try on classifier\n",
    "gsv = GridSearchCV(NB,alpha_value,cv=5,verbose=1,scoring='f1_micro')\n",
    "gsv.fit(x_tr_bi,y_tr)\n",
    "print(\"Best HyperParameter: \",gsv.best_params_)\n",
    "print(gsv.best_score_)\n",
    "optimal_alpha=gsv.best_params_['alpha']\n",
    "\n",
    "\n",
    "x=[]\n",
    "y=[]\n",
    "plt.figure(figsize=(8,8))\n",
    "for a in gsv.grid_scores_:\n",
    "    x.append(a[0]['alpha']) \n",
    "    y.append(a[1])\n",
    "plt.xlim(-10,1000)\n",
    "plt.ylim(0.8,0.9)\n",
    "plt.xlabel(r\"$\\alpha$\",fontsize=15)\n",
    "plt.ylabel(\"accuracy\")\n",
    "plt.title(r'Accuracy v/s $\\alpha$')\n",
    "plt.plot(x,y,linestyle='dashed', marker='o', markerfacecolor='red', markersize=10)\n",
    "plt.show()"
   ]
  },
  {
   "cell_type": "markdown",
   "metadata": {
    "colab_type": "text",
    "id": "tqFchtUUWpvU"
   },
   "source": [
    "### 1.2.2 finding the F1-score of Test data using optimal alpha"
   ]
  },
  {
   "cell_type": "code",
   "execution_count": 16,
   "metadata": {
    "colab": {
     "base_uri": "https://localhost:8080/",
     "height": 436
    },
    "colab_type": "code",
    "id": "X6P4BHZJWpvW",
    "outputId": "0d197e34-57bf-447f-98a2-edd0b65a8289"
   },
   "outputs": [
    {
     "name": "stdout",
     "output_type": "stream",
     "text": [
      "Accuracy on test set: 91.172%\n",
      "Precision on test set: 0.893\n",
      "Recall on test set: 0.766\n",
      "F1-Score on test set: 0.810\n"
     ]
    },
    {
     "data": {
      "text/plain": [
       "<matplotlib.axes._subplots.AxesSubplot at 0x7f009ef56dd8>"
      ]
     },
     "execution_count": 16,
     "metadata": {
      "tags": []
     },
     "output_type": "execute_result"
    },
    {
     "data": {
      "image/png": "[encoded data removed]",
      "text/plain": [
       "<matplotlib.figure.Figure at 0x7f009ef56780>"
      ]
     },
     "metadata": {
      "tags": []
     },
     "output_type": "display_data"
    }
   ],
   "source": [
    "NB = MultinomialNB(optimal_alpha)\n",
    "NB.fit(x_tr_bi,y_tr)\n",
    "y_pred = NB.predict(x_test_bi)\n",
    "print(\"Accuracy on test set: %0.3f%%\"%(accuracy_score(y_test, y_pred)*100))\n",
    "print(\"Precision on test set: %0.3f\"%(precision_score(y_test, y_pred,average='macro')))\n",
    "print(\"Recall on test set: %0.3f\"%(recall_score(y_test, y_pred,average='macro')))\n",
    "print(\"F1-Score on test set: %0.3f\"%(f1_score(y_test, y_pred,average='macro')))\n",
    "df_cm = pd.DataFrame(confusion_matrix(y_test, y_pred), range(2),range(2))\n",
    "sns.set(font_scale=1.4)#for label size\n",
    "sns.heatmap(df_cm, annot=True,annot_kws={\"size\": 16}, fmt='g')"
   ]
  },
  {
   "cell_type": "markdown",
   "metadata": {},
   "source": [
    "## 1.2.3 Top 10 Features"
   ]
  },
  {
   "cell_type": "code",
   "execution_count": 191,
   "metadata": {
    "colab": {
     "base_uri": "https://localhost:8080/",
     "height": 153
    },
    "colab_type": "code",
    "id": "U1ItQyJoLLKf",
    "outputId": "724bc017-4d57-43e7-bfc1-cc21ea070e3c"
   },
   "outputs": [
    {
     "name": "stdout",
     "output_type": "stream",
     "text": [
      "important negative features are::\n",
      "\n",
      "['tast' 'like' 'product' 'one' 'flavor' 'would' 'tri' 'use' 'coffe' 'good']\n",
      "\n",
      "\n",
      "important positve features are::\n",
      "\n",
      "['like' 'tast' 'good' 'flavor' 'love' 'use' 'great' 'one' 'product' 'tri']\n"
     ]
    }
   ],
   "source": [
    "neg_class_prob_sorted = (-NB.feature_log_prob_[0, :]).argsort()\n",
    "pos_class_prob_sorted = (-NB.feature_log_prob_[1, :]).argsort()\n",
    "print(\"important negative features are::\\n\")\n",
    "print(np.take(bi_gram.get_feature_names(), neg_class_prob_sorted[:10]))\n",
    "print(\"\\n\\nimportant positve features are::\\n\")\n",
    "print(np.take(bi_gram.get_feature_names(), pos_class_prob_sorted[:10]))"
   ]
  },
  {
   "cell_type": "markdown",
   "metadata": {
    "colab_type": "text",
    "id": "lA_k9lflSQIo"
   },
   "source": [
    "# 2.TF-IDF"
   ]
  },
  {
   "cell_type": "code",
   "execution_count": 0,
   "metadata": {
    "colab": {},
    "colab_type": "code",
    "id": "fegv7A1rWtv6"
   },
   "outputs": [],
   "source": [
    "tf_idf_vect = TfidfVectorizer(ngram_range=(1,2))\n",
    "x_tr_tfidf = tf_idf_vect.fit_transform(x_tr)\n",
    "x_test_tfidf = tf_idf_vect.transform(x_test)"
   ]
  },
  {
   "cell_type": "markdown",
   "metadata": {
    "colab_type": "text",
    "id": "AAKCv_U-TSXz"
   },
   "source": [
    "## Multinomial naive Bayes"
   ]
  },
  {
   "cell_type": "markdown",
   "metadata": {},
   "source": [
    "### 2.1 Finding the optimal alpha using gridsearch"
   ]
  },
  {
   "cell_type": "code",
   "execution_count": 147,
   "metadata": {
    "colab": {
     "base_uri": "https://localhost:8080/",
     "height": 593
    },
    "colab_type": "code",
    "id": "IROg83K9W3Tj",
    "outputId": "1836ae88-c593-4d58-eda0-9126314b5f5e"
   },
   "outputs": [
    {
     "name": "stdout",
     "output_type": "stream",
     "text": [
      "Fitting 5 folds for each of 15 candidates, totalling 75 fits\n"
     ]
    },
    {
     "name": "stderr",
     "output_type": "stream",
     "text": [
      "[Parallel(n_jobs=1)]: Done  75 out of  75 | elapsed:  5.0min finished\n"
     ]
    },
    {
     "name": "stdout",
     "output_type": "stream",
     "text": [
      "Best HyperParameter:  {'alpha': 0.05}\n",
      "0.89244375\n"
     ]
    },
    {
     "data": {
      "image/png": "[encoded data removed]",
      "text/plain": [
       "<matplotlib.figure.Figure at 0x7f2241d415c0>"
      ]
     },
     "metadata": {
      "tags": []
     },
     "output_type": "display_data"
    }
   ],
   "source": [
    "NB = MultinomialNB()\n",
    "alpha_value = {'alpha':[1000,500,100,50,10,5,1,0.5,0.1,0.05,0.01,0.005,0.001,0.0005,0.0001]} #params we need to try on classifier\n",
    "gsv = GridSearchCV(NB,alpha_value,cv=5,verbose=1,scoring='f1_micro')\n",
    "gsv.fit(x_tr_tfidf,y_tr)\n",
    "print(\"Best HyperParameter: \",gsv.best_params_)\n",
    "print(gsv.best_score_)\n",
    "optimal_alpha=gsv.best_params_['alpha']\n",
    "\n",
    "\n",
    "x=[]\n",
    "y=[]\n",
    "plt.figure(figsize=(8,8))\n",
    "for a in gsv.grid_scores_:\n",
    "    x.append(a[0]['alpha']) \n",
    "    y.append(a[1])\n",
    "plt.xlim(-10,1000)\n",
    "plt.ylim(0.8,0.9)\n",
    "plt.xlabel(r\"$\\alpha$\",fontsize=15)\n",
    "plt.ylabel(\"accuracy\")\n",
    "plt.title(r'Accuracy v/s $\\alpha$')\n",
    "plt.plot(x,y,linestyle='dashed', marker='o', markerfacecolor='red', markersize=10)\n",
    "plt.show()"
   ]
  },
  {
   "cell_type": "markdown",
   "metadata": {},
   "source": [
    "## 2.2 finding the F1-score of Test data using optimal alpha"
   ]
  },
  {
   "cell_type": "code",
   "execution_count": 19,
   "metadata": {
    "colab": {
     "base_uri": "https://localhost:8080/",
     "height": 436
    },
    "colab_type": "code",
    "id": "Gx0txPjrW3Tq",
    "outputId": "db621435-c6e0-4fff-96b2-8afca82b8005"
   },
   "outputs": [
    {
     "name": "stdout",
     "output_type": "stream",
     "text": [
      "Accuracy on test set: 89.055%\n",
      "Precision on test set: 0.902\n",
      "Recall on test set: 0.682\n",
      "F1-Score on test set: 0.733\n"
     ]
    },
    {
     "data": {
      "text/plain": [
       "<matplotlib.axes._subplots.AxesSubplot at 0x7f0095c8f8d0>"
      ]
     },
     "execution_count": 19,
     "metadata": {
      "tags": []
     },
     "output_type": "execute_result"
    },
    {
     "data": {
      "image/png": "[encoded data removed]",
      "text/plain": [
       "<matplotlib.figure.Figure at 0x7f0095c8fb70>"
      ]
     },
     "metadata": {
      "tags": []
     },
     "output_type": "display_data"
    }
   ],
   "source": [
    "NB = MultinomialNB(optimal_alpha)\n",
    "NB.fit(x_tr_tfidf,y_tr)\n",
    "y_pred = NB.predict(x_test_tfidf)\n",
    "print(\"Accuracy on test set: %0.3f%%\"%(accuracy_score(y_test, y_pred)*100))\n",
    "print(\"Precision on test set: %0.3f\"%(precision_score(y_test, y_pred,average='macro')))\n",
    "print(\"Recall on test set: %0.3f\"%(recall_score(y_test, y_pred,average='macro')))\n",
    "print(\"F1-Score on test set: %0.3f\"%(f1_score(y_test, y_pred,average='macro')))\n",
    "df_cm = pd.DataFrame(confusion_matrix(y_test, y_pred), range(2),range(2))\n",
    "sns.set(font_scale=1.4)#for label size\n",
    "sns.heatmap(df_cm, annot=True,annot_kws={\"size\": 16}, fmt='g')"
   ]
  },
  {
   "cell_type": "markdown",
   "metadata": {
    "colab_type": "text",
    "id": "oH8dPxO3lmH1"
   },
   "source": [
    "| Model | hyper parameter   |F1score test|accuracy Test\n",
    "|------|------|------|------|\n",
    "|  unigram  |0.01| 0.818|90.17%|\n",
    "| Bi-gram | 0.5|0.81|91.172%|\n",
    "|  Tf-IDF | 0.05| 0.733|89.055%|"
   ]
  }
 ],
 "metadata": {
  "accelerator": "GPU",
  "colab": {
   "collapsed_sections": [],
   "name": "NB_Amazon_reviews.ipynb",
   "provenance": [],
   "version": "0.3.2"
  },
  "kernelspec": {
   "display_name": "Python 3",
   "language": "python",
   "name": "python3"
  },
  "language_info": {
   "codemirror_mode": {
    "name": "ipython",
    "version": 3
   },
   "file_extension": ".py",
   "mimetype": "text/x-python",
   "name": "python",
   "nbconvert_exporter": "python",
   "pygments_lexer": "ipython3",
   "version": "3.6.5"
  }
 },
 "nbformat": 4,
 "nbformat_minor": 1
}
